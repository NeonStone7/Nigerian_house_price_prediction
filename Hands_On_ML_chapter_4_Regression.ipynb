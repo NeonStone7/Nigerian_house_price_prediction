{
 "cells": [
  {
   "cell_type": "code",
   "execution_count": 1,
   "id": "df79fd74",
   "metadata": {},
   "outputs": [],
   "source": [
    "import matplotlib.pyplot as plt\n",
    "\n",
    "import warnings\n",
    "from glob import glob #library that helps us search for files\n",
    "\n",
    "import numpy as np\n",
    "import pandas as pd\n",
    "import seaborn as sns\n",
    "from category_encoders import OneHotEncoder\n",
    "from sklearn.linear_model import LinearRegression, Ridge  \n",
    "from sklearn.metrics import mean_absolute_error\n",
    "from sklearn.pipeline import make_pipeline\n",
    "from sklearn.utils.validation import check_is_fitted\n",
    "from sklearn.metrics import accuracy_score\n",
    "from sklearn.impute import SimpleImputer\n",
    "\n",
    "\n",
    "warnings.simplefilter(action=\"ignore\", category=FutureWarning)\n"
   ]
  },
  {
   "cell_type": "markdown",
   "id": "f5bb76ca",
   "metadata": {},
   "source": [
    "In this chapter, we will start by using a simple regression  algorithm, linear regression. We will discuss two different ways to train it:\n",
    "    \n",
    "    1. Using a direct closed-form equation computes the model parameters that best fit the model to the training set(i.e., the model parameters that minimize the cost function over the training set).\n",
    "    \n",
    "    2. Using an iterative optimization approach called Gradient Descent, that gradually tweaks the model parameters to minimize the cost function over the training set, eventually converging to the same set of parameters as the first method. We will look at a few variants of GD: Batch-GD, Mini Batch-GD, and Stochastic-GD."
   ]
  },
  {
   "cell_type": "markdown",
   "id": "d3f4a2a9",
   "metadata": {},
   "source": [
    "For example, in the first chapter of this book, we looked at a simple regression model of life satisfaction:<br>\n",
    "\n",
    "       life_satisfaction=c+m*GDP_per_capita,\n",
    "       \n",
    "       y=mx+c,\n",
    "       \n",
    "This model is just a linear function of the input feature GDP_per_capita(the predictor variable), c and m are the model's parameters. <br>\n",
    "More generally, a linear model works by taking a weighted average of the input features(predictor variables) plus a constant called the bias term(or intercept) as shown in the eqn below,\n",
    "\n",
    "       y = c + M1X1 + M2X2 + M3X3 + ..... + MnXn,\n",
    "       \n",
    "       where y is the target variable or predicted value,\n",
    "       n is the number of features,\n",
    "       M is the model's parameter.\n",
    "       \n",
    "       The above eqn can be written ina more vectorized form,\n",
    "       \n",
    "       y=ho(x)=0.x,\n",
    "       \n",
    "       where 0 is the model's parameter vector, containing the bias term c and the feature weights from M1 to Mn,\n",
    "       x is instance's feature vector containing x0 to xn, with x0 always equal to 1,\n",
    "       0.x is dot product of the vectors 0 and x, which is equal to M1X1 + M2X2 + M3X3 + ..... + MnXn,\n",
    "       ho is the hypothesis function, using the model parameters 0\n",
    "       \n",
    "So, how do we train this model, recall that training a model means setting its parameters so the model best fits the training set. For this purpose, we first need a measure of how well or badly the model fits to the training data. The most common performance measure of a regression model is RMSE, Root Mean Square Error. Therefore, to a train a linear regression model, you need to find the value of 0 that best minimizes the RMSE. In practice, it is simpler to minimize the MSE than the RMSE, and it leads to the same result.\n",
    "\n",
    "       MSE Cost function for a linear regression model,\n",
    "       MSE(0) = (1/m)(E(0^T * x^i -y^i)^2)\n",
    "      "
   ]
  },
  {
   "cell_type": "markdown",
   "id": "5de3cb38",
   "metadata": {},
   "source": [
    "**The Normal Equation**\n",
    "\n",
    "To find the value of 0 that minimizes the cost function, there is a closed-form solution, an equation that gives the result directly. This is called the normal equation,\n",
    "\n",
    "       0^ = (X^T*X)^-1  X^T  y,\n",
    "       \n",
    "       0^ is that value of 0 that minimizes the cost function,\n",
    "       y is the vector of target variables(from y0 to yn)."
   ]
  },
  {
   "cell_type": "code",
   "execution_count": 2,
   "id": "8ca509a7",
   "metadata": {},
   "outputs": [],
   "source": [
    "'''Lets generate some linear looking data to test this equation'''\n",
    "\n",
    "X= 2 * np.random.rand(100,1)\n",
    "y= 4 + 3 * X + np.random.randn(100,1)"
   ]
  },
  {
   "cell_type": "code",
   "execution_count": 3,
   "id": "c66e41da",
   "metadata": {},
   "outputs": [
    {
     "data": {
      "text/plain": [
       "(array([[1.94620998],\n",
       "        [1.49646685],\n",
       "        [1.04759975],\n",
       "        [1.74183637],\n",
       "        [1.99234803]]),\n",
       " array([[10.32928344],\n",
       "        [10.61038006],\n",
       "        [ 6.0538618 ],\n",
       "        [10.37811924],\n",
       "        [ 9.96552706]]))"
      ]
     },
     "execution_count": 3,
     "metadata": {},
     "output_type": "execute_result"
    }
   ],
   "source": [
    "X[:5],y[:5]"
   ]
  },
  {
   "cell_type": "code",
   "execution_count": 4,
   "id": "265ce5f9",
   "metadata": {},
   "outputs": [
    {
     "data": {
      "text/plain": [
       "<matplotlib.collections.PathCollection at 0x1af2d785a60>"
      ]
     },
     "execution_count": 4,
     "metadata": {},
     "output_type": "execute_result"
    },
    {
     "data": {
      "image/png": "[encoded data removed]",
      "text/plain": [
       "<Figure size 432x288 with 1 Axes>"
      ]
     },
     "metadata": {
      "needs_background": "light"
     },
     "output_type": "display_data"
    }
   ],
   "source": [
    "plt.scatter(X,y)"
   ]
  },
  {
   "cell_type": "markdown",
   "id": "5cd57614",
   "metadata": {},
   "source": [
    "Now, let's compute 0^ using the normal equation. We will use inv() function from Numpy's linear algebra module, np.linalg() to compute the inverse of a matrix and the dot() for matrix multiplication."
   ]
  },
  {
   "cell_type": "code",
   "execution_count": 5,
   "id": "aa24aaf3",
   "metadata": {},
   "outputs": [],
   "source": [
    "x_b=np.c_[np.ones((100,1)),X]\n",
    "theta_best=np.linalg.inv(x_b.T.dot(x_b)).dot(x_b.T).dot(y)"
   ]
  },
  {
   "cell_type": "markdown",
   "id": "65e816fc",
   "metadata": {},
   "source": [
    "The actual function we used to generate this data is, y = 4 + 3xi + gaussian noise. Lets see what the eqn found:"
   ]
  },
  {
   "cell_type": "code",
   "execution_count": 6,
   "id": "7914877d",
   "metadata": {},
   "outputs": [
    {
     "data": {
      "text/plain": [
       "array([[3.77307306],\n",
       "       [3.27259902]])"
      ]
     },
     "execution_count": 6,
     "metadata": {},
     "output_type": "execute_result"
    }
   ],
   "source": [
    "theta_best"
   ]
  },
  {
   "cell_type": "markdown",
   "id": "1bb6b4b4",
   "metadata": {},
   "source": [
    "We would have hoped for c=4 and m=3 instead of c=3.82 and m=3.4. Close enough, but noise made it impossible to recover the exact parameters of the original function.<br>\n",
    "Now you can make predictions using 0^:"
   ]
  },
  {
   "cell_type": "code",
   "execution_count": 7,
   "id": "ffd14137",
   "metadata": {},
   "outputs": [
    {
     "data": {
      "text/plain": [
       "array([[ 3.77307306],\n",
       "       [10.31827111]])"
      ]
     },
     "execution_count": 7,
     "metadata": {},
     "output_type": "execute_result"
    }
   ],
   "source": [
    "new_X=np.array([[0],[2]])\n",
    "new_X_b=np.c_[np.ones((2,1)),new_X]\n",
    "y_predict=new_X_b.dot(theta_best)\n",
    "y_predict"
   ]
  },
  {
   "cell_type": "code",
   "execution_count": 8,
   "id": "a8b398b9",
   "metadata": {},
   "outputs": [
    {
     "data": {
      "text/plain": [
       "[<matplotlib.lines.Line2D at 0x1af2f87db20>]"
      ]
     },
     "execution_count": 8,
     "metadata": {},
     "output_type": "execute_result"
    },
    {
     "data": {
      "image/png": "[encoded data removed]",
      "text/plain": [
       "<Figure size 432x288 with 1 Axes>"
      ]
     },
     "metadata": {
      "needs_background": "light"
     },
     "output_type": "display_data"
    }
   ],
   "source": [
    "#lets plot this\n",
    "plt.plot(new_X,y_predict,'r-')\n",
    "plt.plot(X,y,'b.')"
   ]
  },
  {
   "cell_type": "code",
   "execution_count": 9,
   "id": "eeb70b24",
   "metadata": {},
   "outputs": [],
   "source": [
    "#performing linear regression with scikit learn\n",
    "lr=LinearRegression()"
   ]
  },
  {
   "cell_type": "code",
   "execution_count": 10,
   "id": "fcb7555c",
   "metadata": {},
   "outputs": [
    {
     "data": {
      "text/plain": [
       "LinearRegression()"
      ]
     },
     "execution_count": 10,
     "metadata": {},
     "output_type": "execute_result"
    }
   ],
   "source": [
    "lr.fit(X,y)"
   ]
  },
  {
   "cell_type": "code",
   "execution_count": 11,
   "id": "0d39402a",
   "metadata": {},
   "outputs": [
    {
     "data": {
      "text/plain": [
       "(array([[3.27259902]]), array([3.77307306]))"
      ]
     },
     "execution_count": 11,
     "metadata": {},
     "output_type": "execute_result"
    }
   ],
   "source": [
    "lr.coef_,lr.intercept_"
   ]
  },
  {
   "cell_type": "code",
   "execution_count": 12,
   "id": "63c31c12",
   "metadata": {},
   "outputs": [
    {
     "data": {
      "text/plain": [
       "array([[ 3.77307306],\n",
       "       [10.31827111]])"
      ]
     },
     "execution_count": 12,
     "metadata": {},
     "output_type": "execute_result"
    }
   ],
   "source": [
    "lr.predict(new_X)"
   ]
  },
  {
   "cell_type": "markdown",
   "id": "fb64a85c",
   "metadata": {},
   "source": [
    "The linearRegression class is based on scipy.linalg.lstsq() function, (least squares)."
   ]
  },
  {
   "cell_type": "markdown",
   "id": "90155c42",
   "metadata": {},
   "source": [
    "## GRADIENT DESCENT\n",
    "It is a very generic optimization algorithm capable of finding the optimal solution to a wide range of problems. It works by tweaking parameters iteratively to minimiza the cost function"
   ]
  },
  {
   "cell_type": "markdown",
   "id": "09b917b9",
   "metadata": {},
   "source": [
    "**BATCH GRADIENT DESCENT**"
   ]
  },
  {
   "cell_type": "code",
   "execution_count": 13,
   "id": "8ed035af",
   "metadata": {},
   "outputs": [],
   "source": [
    "learning_rate=0.1\n",
    "\n",
    "n_iters=500\n",
    "\n",
    "n_instances=100#number of training examples"
   ]
  },
  {
   "cell_type": "code",
   "execution_count": 14,
   "id": "532b86f1",
   "metadata": {},
   "outputs": [],
   "source": [
    "#random initialization\n",
    "theta = np.random.randn(2,1)#this returns an x*x array of normal distribuutions\n",
    "\n",
    "for iter in range(n_iters):\n",
    "    #gradient vector of all partial dervative\n",
    "    gradients = 2/n_instances * x_b.T.dot(x_b.dot(theta) - y)\n",
    "    #gradient descent step\n",
    "    theta = theta - learning_rate*gradients"
   ]
  },
  {
   "cell_type": "code",
   "execution_count": 15,
   "id": "bea10fd7",
   "metadata": {},
   "outputs": [
    {
     "data": {
      "text/plain": [
       "array([[3.77307301],\n",
       "       [3.27259906]])"
      ]
     },
     "execution_count": 15,
     "metadata": {},
     "output_type": "execute_result"
    }
   ],
   "source": [
    "theta"
   ]
  },
  {
   "cell_type": "markdown",
   "id": "72f4154b",
   "metadata": {},
   "source": [
    "We have exactly what the normal equation found.\n",
    "\n",
    "\n"
   ]
  },
  {
   "cell_type": "markdown",
   "id": "9de26de3",
   "metadata": {},
   "source": [
    "**STOCHASTIC GRADIENT DESCENT**"
   ]
  },
  {
   "cell_type": "code",
   "execution_count": 16,
   "id": "63e4b723",
   "metadata": {},
   "outputs": [],
   "source": [
    "#epoch is the passing of the entire data set into the ml algorithm\n",
    "n_epochs=50\n",
    "\n",
    "#learning schedule hyperparameters- the function that determines the learning rate at each iteration\n",
    "t0 , t1=5, 50\n",
    "\n",
    "def learning_schedule(t):\n",
    "    return t0/(t + t1)"
   ]
  },
  {
   "cell_type": "code",
   "execution_count": 17,
   "id": "b5c7cc0c",
   "metadata": {},
   "outputs": [
    {
     "data": {
      "text/plain": [
       "array([[3.78027364],\n",
       "       [3.27984077]])"
      ]
     },
     "execution_count": 17,
     "metadata": {},
     "output_type": "execute_result"
    }
   ],
   "source": [
    "theta  = np.random.randn(2,1)\n",
    "\n",
    "for epoch in range(n_epochs):\n",
    "    \n",
    "    for i in range(n_instances):\n",
    "        \n",
    "        random_index = np.random.randint(n_instances)\n",
    "        \n",
    "        xi = x_b[random_index:random_index+1]\n",
    "        \n",
    "        yi = y[random_index:random_index+1]\n",
    "        \n",
    "        gradients = 2*xi.T.dot(xi.dot(theta)-yi)\n",
    "        \n",
    "        learning_rate = learning_schedule(epoch * n_instances + i)\n",
    "        \n",
    "        theta = theta - learning_rate*gradients\n",
    "theta"
   ]
  },
  {
   "cell_type": "markdown",
   "id": "1eeaaf2a",
   "metadata": {},
   "source": [
    "**STOCHASTIC GRADIENT DESCENT WITH LINEAR REGRESSION**\n"
   ]
  },
  {
   "cell_type": "code",
   "execution_count": 18,
   "id": "82ad9ce9",
   "metadata": {},
   "outputs": [],
   "source": [
    "from sklearn.linear_model import SGDRegressor"
   ]
  },
  {
   "cell_type": "code",
   "execution_count": 19,
   "id": "55cbc264",
   "metadata": {},
   "outputs": [],
   "source": [
    "sgd_reg=SGDRegressor(max_iter=1000,tol=1e-3,eta0=0.1,penalty=None)\n",
    "#max_iter=1000 means maximum number of iterations/epochs until the loss drops by or less than  tol=1e-3  in one epoch\n",
    "#learning rate: eta0=0.1"
   ]
  },
  {
   "cell_type": "code",
   "execution_count": 20,
   "id": "57286506",
   "metadata": {},
   "outputs": [
    {
     "name": "stderr",
     "output_type": "stream",
     "text": [
      "C:\\Users\\USER\\anaconda3\\lib\\site-packages\\sklearn\\utils\\validation.py:63: DataConversionWarning: A column-vector y was passed when a 1d array was expected. Please change the shape of y to (n_samples, ), for example using ravel().\n",
      "  return f(*args, **kwargs)\n"
     ]
    },
    {
     "data": {
      "text/plain": [
       "SGDRegressor(eta0=0.1, penalty=None)"
      ]
     },
     "execution_count": 20,
     "metadata": {},
     "output_type": "execute_result"
    }
   ],
   "source": [
    "sgd_reg.fit(X,y)"
   ]
  },
  {
   "cell_type": "code",
   "execution_count": 21,
   "id": "74571b34",
   "metadata": {},
   "outputs": [
    {
     "data": {
      "text/plain": [
       "(array([3.32712278]), array([3.78205758]))"
      ]
     },
     "execution_count": 21,
     "metadata": {},
     "output_type": "execute_result"
    }
   ],
   "source": [
    "sgd_reg.coef_,sgd_reg.intercept_"
   ]
  },
  {
   "cell_type": "markdown",
   "id": "414255ab",
   "metadata": {},
   "source": [
    "## POLYNOMIAL REGRESSION"
   ]
  },
  {
   "cell_type": "code",
   "execution_count": 22,
   "id": "0099d45f",
   "metadata": {},
   "outputs": [],
   "source": [
    "#LETS GENERATE SOME NON LINEAR DATA\n",
    "n_instances = 100\n",
    "x = 6* np.random.rand(n_instances,1)-3\n",
    "\n",
    "y=0.5 * x**2 + x + 2 + np.random.rand(n_instances,1)"
   ]
  },
  {
   "cell_type": "code",
   "execution_count": 23,
   "id": "5b5b4ac8",
   "metadata": {},
   "outputs": [
    {
     "data": {
      "text/plain": [
       "<matplotlib.collections.PathCollection at 0x1af2f966d00>"
      ]
     },
     "execution_count": 23,
     "metadata": {},
     "output_type": "execute_result"
    },
    {
     "data": {
      "image/png": "[encoded data removed]",
      "text/plain": [
       "<Figure size 432x288 with 1 Axes>"
      ]
     },
     "metadata": {
      "needs_background": "light"
     },
     "output_type": "display_data"
    }
   ],
   "source": [
    "plt.scatter(x,y)"
   ]
  },
  {
   "cell_type": "code",
   "execution_count": 24,
   "id": "691321bc",
   "metadata": {},
   "outputs": [],
   "source": [
    "#transforming non linear data\n",
    "from sklearn.preprocessing import PolynomialFeatures\n",
    "\n",
    "poly=PolynomialFeatures(degree=2,include_bias=False)#degree: degree of polynomial\n",
    "\n",
    "xpoly=poly.fit_transform(x)"
   ]
  },
  {
   "cell_type": "code",
   "execution_count": 25,
   "id": "e259c72f",
   "metadata": {},
   "outputs": [],
   "source": [
    "lin_reg=LinearRegression()"
   ]
  },
  {
   "cell_type": "code",
   "execution_count": 26,
   "id": "72271220",
   "metadata": {},
   "outputs": [
    {
     "data": {
      "text/plain": [
       "LinearRegression()"
      ]
     },
     "execution_count": 26,
     "metadata": {},
     "output_type": "execute_result"
    }
   ],
   "source": [
    "lin_reg.fit(xpoly,y)"
   ]
  },
  {
   "cell_type": "code",
   "execution_count": 27,
   "id": "ecbeb13f",
   "metadata": {},
   "outputs": [
    {
     "data": {
      "text/plain": [
       "(array([[1.01280057, 0.4861144 ]]), array([2.56943537]))"
      ]
     },
     "execution_count": 27,
     "metadata": {},
     "output_type": "execute_result"
    }
   ],
   "source": [
    "lin_reg.coef_,lin_reg.intercept_"
   ]
  },
  {
   "cell_type": "markdown",
   "id": "7babff20",
   "metadata": {},
   "source": [
    "## RIDGE REGRESSION WITH NORMAL EQUATION"
   ]
  },
  {
   "cell_type": "code",
   "execution_count": 28,
   "id": "6bfcdb78",
   "metadata": {},
   "outputs": [],
   "source": [
    "from sklearn.linear_model import Ridge"
   ]
  },
  {
   "cell_type": "code",
   "execution_count": 29,
   "id": "0e62994c",
   "metadata": {},
   "outputs": [],
   "source": [
    "ridge=Ridge(alpha=1,solver='cholesky')\n",
    "#cholesky is matrix factorization technique by Andre-Louis cholesky"
   ]
  },
  {
   "cell_type": "code",
   "execution_count": 30,
   "id": "6f830cfd",
   "metadata": {},
   "outputs": [
    {
     "data": {
      "text/plain": [
       "Ridge(alpha=1, solver='cholesky')"
      ]
     },
     "execution_count": 30,
     "metadata": {},
     "output_type": "execute_result"
    }
   ],
   "source": [
    "ridge.fit(x,y)"
   ]
  },
  {
   "cell_type": "markdown",
   "id": "f4685aad",
   "metadata": {},
   "source": [
    "## RIDGE REGRESSION WITH STOCHASTIC GRADIENT DESCENT"
   ]
  },
  {
   "cell_type": "code",
   "execution_count": 36,
   "id": "6bf3b98c",
   "metadata": {},
   "outputs": [],
   "source": [
    "from sklearn.linear_model import SGDRegressor"
   ]
  },
  {
   "cell_type": "code",
   "execution_count": 37,
   "id": "bf08e138",
   "metadata": {},
   "outputs": [],
   "source": [
    "sgd_ridge=SGDRegressor(penalty='l2')#setting the l2 means ridge regression"
   ]
  },
  {
   "cell_type": "code",
   "execution_count": 40,
   "id": "306659fc",
   "metadata": {},
   "outputs": [
    {
     "data": {
      "text/plain": [
       "SGDRegressor()"
      ]
     },
     "execution_count": 40,
     "metadata": {},
     "output_type": "execute_result"
    }
   ],
   "source": [
    "sgd_ridge.fit(x,y.ravel())"
   ]
  },
  {
   "cell_type": "markdown",
   "id": "87a907b3",
   "metadata": {},
   "source": [
    "## LASSO REGRESSION WITH NORMAL EQUATION"
   ]
  },
  {
   "cell_type": "code",
   "execution_count": 41,
   "id": "2a19e751",
   "metadata": {},
   "outputs": [],
   "source": [
    "from sklearn.linear_model import Lasso"
   ]
  },
  {
   "cell_type": "code",
   "execution_count": 42,
   "id": "92bd8bad",
   "metadata": {},
   "outputs": [],
   "source": [
    "lasso=Lasso(alpha=0.1)"
   ]
  },
  {
   "cell_type": "code",
   "execution_count": 43,
   "id": "79293442",
   "metadata": {},
   "outputs": [
    {
     "data": {
      "text/plain": [
       "Lasso(alpha=0.1)"
      ]
     },
     "execution_count": 43,
     "metadata": {},
     "output_type": "execute_result"
    }
   ],
   "source": [
    "lasso.fit(x,y)"
   ]
  },
  {
   "cell_type": "markdown",
   "id": "b64e0db8",
   "metadata": {},
   "source": [
    "## LASSO REGRESSION WITH STOCHASTIC GRADIENT DESCENT"
   ]
  },
  {
   "cell_type": "code",
   "execution_count": 44,
   "id": "245eb919",
   "metadata": {},
   "outputs": [],
   "source": [
    "sgd_ridge=SGDRegressor(penalty='l1')#setting the l1 means lasso regression"
   ]
  },
  {
   "cell_type": "markdown",
   "id": "da1bd44e",
   "metadata": {},
   "source": [
    "## ELASTIC NET REGRESSION"
   ]
  },
  {
   "cell_type": "code",
   "execution_count": 45,
   "id": "c5ba075e",
   "metadata": {},
   "outputs": [],
   "source": [
    "from sklearn.linear_model import ElasticNet"
   ]
  },
  {
   "cell_type": "code",
   "execution_count": 46,
   "id": "c892dbf1",
   "metadata": {},
   "outputs": [],
   "source": [
    "enet = ElasticNet(alpha=0.1,l1_ratio=0.5)"
   ]
  },
  {
   "cell_type": "code",
   "execution_count": 47,
   "id": "7e0501ef",
   "metadata": {},
   "outputs": [
    {
     "data": {
      "text/plain": [
       "ElasticNet(alpha=0.1)"
      ]
     },
     "execution_count": 47,
     "metadata": {},
     "output_type": "execute_result"
    }
   ],
   "source": [
    "enet.fit(x,y)"
   ]
  },
  {
   "cell_type": "markdown",
   "id": "29e96705",
   "metadata": {},
   "source": [
    "## EARLY STOPPING"
   ]
  },
  {
   "cell_type": "code",
   "execution_count": 72,
   "id": "ec82fae9",
   "metadata": {},
   "outputs": [],
   "source": [
    "from sklearn.base import clone\n",
    "from sklearn.pipeline import Pipeline\n",
    "from sklearn.metrics import mean_squared_error"
   ]
  },
  {
   "cell_type": "code",
   "execution_count": 73,
   "id": "72c7545f",
   "metadata": {},
   "outputs": [],
   "source": [
    "from sklearn.model_selection import train_test_split\n",
    "\n",
    "xtrain,xval,ytrain,yval=train_test_split(x,y,test_size=0.3)"
   ]
  },
  {
   "cell_type": "code",
   "execution_count": 74,
   "id": "b4619b2b",
   "metadata": {},
   "outputs": [
    {
     "data": {
      "application/javascript": [
       "\n",
       "        if (window._pyforest_update_imports_cell) { window._pyforest_update_imports_cell('from sklearn.preprocessing import StandardScaler'); }\n",
       "    "
      ],
      "text/plain": [
       "<IPython.core.display.Javascript object>"
      ]
     },
     "metadata": {},
     "output_type": "display_data"
    }
   ],
   "source": [
    "#prepare data by polynomial transformation and standard scaling\n",
    "polyscaler = Pipeline([('poly_features',PolynomialFeatures(degree=90,include_bias=False)),('Std_Scaler',StandardScaler())])"
   ]
  },
  {
   "cell_type": "code",
   "execution_count": 75,
   "id": "553e42f8",
   "metadata": {},
   "outputs": [],
   "source": [
    "xtrain_polyscaled=polyscaler.fit_transform(xtrain)\n",
    "xval_polyscaled=polyscaler.fit_transform(xval)"
   ]
  },
  {
   "cell_type": "code",
   "execution_count": 76,
   "id": "0422c7e3",
   "metadata": {},
   "outputs": [],
   "source": [
    "sgd_reg=SGDRegressor(max_iter=1,tol=-np.infty,warm_start=True,penalty=None,learning_rate='constant',eta0=0.0005)"
   ]
  },
  {
   "cell_type": "code",
   "execution_count": 77,
   "id": "74e9d949",
   "metadata": {},
   "outputs": [],
   "source": [
    "minimum_val_error = float('inf')\n",
    "\n",
    "best_epoch=None\n",
    "best_model=None"
   ]
  },
  {
   "cell_type": "code",
   "execution_count": 78,
   "id": "6a6c6947",
   "metadata": {},
   "outputs": [],
   "source": [
    "for epoch in range(1000):\n",
    "    sgd_reg.fit(xtrain_polyscaled,ytrain.ravel())\n",
    "    yval_predict=sgd_reg.predict(xval_polyscaled)\n",
    "    \n",
    "    val_error = mean_squared_error(yval,yval_predict)\n",
    "    \n",
    "    if val_error< minimum_val_error:\n",
    "        minimum_val_error=val_error\n",
    "        best_epoch=epoch\n",
    "        best_model=clone(sgd_reg)"
   ]
  },
  {
   "cell_type": "code",
   "execution_count": 64,
   "id": "4f9b20ff",
   "metadata": {},
   "outputs": [
    {
     "data": {
      "text/plain": [
       "inf"
      ]
     },
     "execution_count": 64,
     "metadata": {},
     "output_type": "execute_result"
    }
   ],
   "source": []
  },
  {
   "cell_type": "code",
   "execution_count": null,
   "id": "8cd15433",
   "metadata": {},
   "outputs": [],
   "source": []
  },
  {
   "cell_type": "code",
   "execution_count": null,
   "id": "9059ebab",
   "metadata": {},
   "outputs": [],
   "source": []
  },
  {
   "cell_type": "code",
   "execution_count": null,
   "id": "95578c6f",
   "metadata": {},
   "outputs": [],
   "source": []
  },
  {
   "cell_type": "code",
   "execution_count": null,
   "id": "d3630ce3",
   "metadata": {},
   "outputs": [],
   "source": []
  },
  {
   "cell_type": "code",
   "execution_count": null,
   "id": "f15f3e5b",
   "metadata": {},
   "outputs": [],
   "source": []
  },
  {
   "cell_type": "code",
   "execution_count": null,
   "id": "e62d72bb",
   "metadata": {},
   "outputs": [],
   "source": []
  },
  {
   "cell_type": "code",
   "execution_count": null,
   "id": "897a638a",
   "metadata": {},
   "outputs": [],
   "source": []
  },
  {
   "cell_type": "code",
   "execution_count": null,
   "id": "a202c84a",
   "metadata": {},
   "outputs": [],
   "source": []
  },
  {
   "cell_type": "code",
   "execution_count": null,
   "id": "d122e216",
   "metadata": {},
   "outputs": [],
   "source": []
  },
  {
   "cell_type": "code",
   "execution_count": null,
   "id": "81ca9d07",
   "metadata": {},
   "outputs": [],
   "source": []
  },
  {
   "cell_type": "code",
   "execution_count": null,
   "id": "d1b20f3a",
   "metadata": {},
   "outputs": [],
   "source": []
  },
  {
   "cell_type": "code",
   "execution_count": null,
   "id": "cbe05c07",
   "metadata": {},
   "outputs": [],
   "source": []
  },
  {
   "cell_type": "code",
   "execution_count": null,
   "id": "2643366a",
   "metadata": {},
   "outputs": [],
   "source": []
  },
  {
   "cell_type": "code",
   "execution_count": 32,
   "id": "a8e87489",
   "metadata": {},
   "outputs": [],
   "source": [
    "data=pd.DataFrame({'a':[4,5,6,7,8],'b':['lagos','kano','bauchi','uyo','kebbi']})\n",
    "tatr=pd.DataFrame({'c':[1,5,3,3,],'b':['lagos','kano','bauchi','kebbi']})"
   ]
  },
  {
   "cell_type": "code",
   "execution_count": 33,
   "id": "d6fb2373",
   "metadata": {},
   "outputs": [
    {
     "data": {
      "text/plain": [
       "{'lagos': 4, 'kano': 5, 'bauchi': 6, 'uyo': 7, 'kebbi': 8}"
      ]
     },
     "execution_count": 33,
     "metadata": {},
     "output_type": "execute_result"
    }
   ],
   "source": [
    "mapc=dict(zip(data['b'],data['a']))\n",
    "mapc"
   ]
  },
  {
   "cell_type": "code",
   "execution_count": 34,
   "id": "caaaff01",
   "metadata": {},
   "outputs": [
    {
     "data": {
      "text/plain": [
       "0    4\n",
       "1    5\n",
       "2    6\n",
       "3    8\n",
       "Name: b, dtype: int64"
      ]
     },
     "execution_count": 34,
     "metadata": {},
     "output_type": "execute_result"
    }
   ],
   "source": [
    "tatr['b'].map(mapc)"
   ]
  },
  {
   "cell_type": "code",
   "execution_count": 35,
   "id": "d68d4d5c",
   "metadata": {},
   "outputs": [
    {
     "ename": "NameError",
     "evalue": "name 'dat' is not defined",
     "output_type": "error",
     "traceback": [
      "\u001b[1;31m---------------------------------------------------------------------------\u001b[0m",
      "\u001b[1;31mNameError\u001b[0m                                 Traceback (most recent call last)",
      "\u001b[1;32m<ipython-input-35-c08f6b1206d4>\u001b[0m in \u001b[0;36m<module>\u001b[1;34m\u001b[0m\n\u001b[1;32m----> 1\u001b[1;33m \u001b[0mx\u001b[0m\u001b[1;33m=\u001b[0m\u001b[0mdat\u001b[0m\u001b[1;33m[\u001b[0m\u001b[1;34m'b'\u001b[0m\u001b[1;33m]\u001b[0m\u001b[1;33m\u001b[0m\u001b[1;33m\u001b[0m\u001b[0m\n\u001b[0m\u001b[0;32m      2\u001b[0m \u001b[0my\u001b[0m\u001b[1;33m=\u001b[0m\u001b[0mtatr\u001b[0m\u001b[1;33m[\u001b[0m\u001b[1;34m'a'\u001b[0m\u001b[1;33m]\u001b[0m\u001b[1;33m\u001b[0m\u001b[1;33m\u001b[0m\u001b[0m\n\u001b[0;32m      3\u001b[0m \u001b[0mz\u001b[0m\u001b[1;33m=\u001b[0m\u001b[0mtatr\u001b[0m\u001b[1;33m[\u001b[0m\u001b[1;34m'b'\u001b[0m\u001b[1;33m]\u001b[0m\u001b[1;33m\u001b[0m\u001b[1;33m\u001b[0m\u001b[0m\n",
      "\u001b[1;31mNameError\u001b[0m: name 'dat' is not defined"
     ]
    }
   ],
   "source": [
    "x=dat['b']\n",
    "y=tatr['a']\n",
    "z=tatr['b']"
   ]
  },
  {
   "cell_type": "code",
   "execution_count": null,
   "id": "adcbc88b",
   "metadata": {},
   "outputs": [],
   "source": [
    "if x==z:\n",
    "    dat=dat.replace(x,y)\n",
    "dat"
   ]
  },
  {
   "cell_type": "code",
   "execution_count": null,
   "id": "0626e993",
   "metadata": {},
   "outputs": [],
   "source": [
    "for i in dat['b'].values:\n",
    "    for h in tatr['b'].values:\n",
    "        if i==h:\n",
    "            dat['b']=dat.replace(i,tatr['a'],inplace=True)"
   ]
  },
  {
   "cell_type": "code",
   "execution_count": null,
   "id": "9634740f",
   "metadata": {},
   "outputs": [],
   "source": [
    "dat"
   ]
  },
  {
   "cell_type": "code",
   "execution_count": null,
   "id": "533a10c6",
   "metadata": {},
   "outputs": [],
   "source": [
    "for i in dat['b']:\n",
    "    for a in tatr['b']:\n",
    "        if i==j:\n",
    "            print(dat['b'].str.replace(i,tatr['a'].values))"
   ]
  },
  {
   "cell_type": "code",
   "execution_count": null,
   "id": "b4172ccc",
   "metadata": {},
   "outputs": [],
   "source": [
    "dat"
   ]
  },
  {
   "cell_type": "code",
   "execution_count": null,
   "id": "f27d8e98",
   "metadata": {},
   "outputs": [],
   "source": []
  },
  {
   "cell_type": "code",
   "execution_count": null,
   "id": "dcf8700c",
   "metadata": {},
   "outputs": [],
   "source": []
  },
  {
   "cell_type": "code",
   "execution_count": null,
   "id": "878e4d14",
   "metadata": {},
   "outputs": [],
   "source": []
  },
  {
   "cell_type": "code",
   "execution_count": null,
   "id": "2c186dcb",
   "metadata": {},
   "outputs": [],
   "source": []
  },
  {
   "cell_type": "code",
   "execution_count": null,
   "id": "25f6f32f",
   "metadata": {},
   "outputs": [],
   "source": []
  },
  {
   "cell_type": "code",
   "execution_count": null,
   "id": "764181a9",
   "metadata": {},
   "outputs": [],
   "source": []
  },
  {
   "cell_type": "code",
   "execution_count": null,
   "id": "d5f9827c",
   "metadata": {},
   "outputs": [],
   "source": []
  },
  {
   "cell_type": "code",
   "execution_count": null,
   "id": "485322ef",
   "metadata": {},
   "outputs": [],
   "source": []
  },
  {
   "cell_type": "code",
   "execution_count": null,
   "id": "76eea2ba",
   "metadata": {},
   "outputs": [],
   "source": []
  },
  {
   "cell_type": "code",
   "execution_count": null,
   "id": "f872e14a",
   "metadata": {},
   "outputs": [],
   "source": []
  },
  {
   "cell_type": "code",
   "execution_count": null,
   "id": "a7f14c45",
   "metadata": {},
   "outputs": [],
   "source": []
  },
  {
   "cell_type": "code",
   "execution_count": null,
   "id": "a331e7fa",
   "metadata": {},
   "outputs": [],
   "source": []
  },
  {
   "cell_type": "code",
   "execution_count": null,
   "id": "4cc5ee2a",
   "metadata": {},
   "outputs": [],
   "source": []
  },
  {
   "cell_type": "code",
   "execution_count": null,
   "id": "920ed05b",
   "metadata": {},
   "outputs": [],
   "source": []
  },
  {
   "cell_type": "code",
   "execution_count": null,
   "id": "bbd1e977",
   "metadata": {},
   "outputs": [],
   "source": []
  },
  {
   "cell_type": "code",
   "execution_count": null,
   "id": "52cb3ad2",
   "metadata": {},
   "outputs": [],
   "source": []
  },
  {
   "cell_type": "code",
   "execution_count": null,
   "id": "c0304703",
   "metadata": {},
   "outputs": [],
   "source": []
  },
  {
   "cell_type": "code",
   "execution_count": null,
   "id": "36bacf23",
   "metadata": {},
   "outputs": [],
   "source": []
  },
  {
   "cell_type": "code",
   "execution_count": null,
   "id": "84cb269f",
   "metadata": {},
   "outputs": [],
   "source": []
  },
  {
   "cell_type": "code",
   "execution_count": null,
   "id": "3d292f51",
   "metadata": {},
   "outputs": [],
   "source": []
  },
  {
   "cell_type": "code",
   "execution_count": null,
   "id": "d87dc7af",
   "metadata": {},
   "outputs": [],
   "source": []
  },
  {
   "cell_type": "code",
   "execution_count": null,
   "id": "f62a1507",
   "metadata": {},
   "outputs": [],
   "source": []
  },
  {
   "cell_type": "code",
   "execution_count": null,
   "id": "d1674d1b",
   "metadata": {},
   "outputs": [],
   "source": []
  },
  {
   "cell_type": "code",
   "execution_count": null,
   "id": "3c9293e3",
   "metadata": {},
   "outputs": [],
   "source": []
  },
  {
   "cell_type": "code",
   "execution_count": null,
   "id": "dff677ee",
   "metadata": {},
   "outputs": [],
   "source": []
  },
  {
   "cell_type": "code",
   "execution_count": null,
   "id": "bb2d88ab",
   "metadata": {},
   "outputs": [],
   "source": []
  },
  {
   "cell_type": "code",
   "execution_count": null,
   "id": "c3b0d1c0",
   "metadata": {},
   "outputs": [],
   "source": []
  },
  {
   "cell_type": "code",
   "execution_count": null,
   "id": "4d6f2dbf",
   "metadata": {},
   "outputs": [],
   "source": []
  },
  {
   "cell_type": "code",
   "execution_count": null,
   "id": "c4095c4f",
   "metadata": {},
   "outputs": [],
   "source": []
  },
  {
   "cell_type": "code",
   "execution_count": null,
   "id": "301d4242",
   "metadata": {},
   "outputs": [],
   "source": []
  },
  {
   "cell_type": "code",
   "execution_count": null,
   "id": "ca4e5029",
   "metadata": {},
   "outputs": [],
   "source": []
  },
  {
   "cell_type": "code",
   "execution_count": null,
   "id": "fd3fd41d",
   "metadata": {},
   "outputs": [],
   "source": []
  },
  {
   "cell_type": "code",
   "execution_count": null,
   "id": "30817eeb",
   "metadata": {},
   "outputs": [],
   "source": []
  },
  {
   "cell_type": "code",
   "execution_count": null,
   "id": "56f12b5e",
   "metadata": {},
   "outputs": [],
   "source": []
  },
  {
   "cell_type": "code",
   "execution_count": null,
   "id": "2d6b8403",
   "metadata": {},
   "outputs": [],
   "source": []
  },
  {
   "cell_type": "code",
   "execution_count": null,
   "id": "09add4d8",
   "metadata": {},
   "outputs": [],
   "source": []
  },
  {
   "cell_type": "code",
   "execution_count": null,
   "id": "31f4bb03",
   "metadata": {},
   "outputs": [],
   "source": []
  },
  {
   "cell_type": "code",
   "execution_count": null,
   "id": "e384ad1d",
   "metadata": {},
   "outputs": [],
   "source": []
  },
  {
   "cell_type": "code",
   "execution_count": null,
   "id": "546d242f",
   "metadata": {},
   "outputs": [],
   "source": []
  },
  {
   "cell_type": "code",
   "execution_count": null,
   "id": "d781bed9",
   "metadata": {},
   "outputs": [],
   "source": []
  },
  {
   "cell_type": "code",
   "execution_count": null,
   "id": "ba455815",
   "metadata": {},
   "outputs": [],
   "source": []
  },
  {
   "cell_type": "code",
   "execution_count": null,
   "id": "a6837532",
   "metadata": {},
   "outputs": [],
   "source": []
  },
  {
   "cell_type": "code",
   "execution_count": null,
   "id": "595a0928",
   "metadata": {},
   "outputs": [],
   "source": []
  },
  {
   "cell_type": "code",
   "execution_count": null,
   "id": "c515c31d",
   "metadata": {},
   "outputs": [],
   "source": []
  },
  {
   "cell_type": "code",
   "execution_count": null,
   "id": "a2ca8acc",
   "metadata": {},
   "outputs": [],
   "source": []
  },
  {
   "cell_type": "code",
   "execution_count": null,
   "id": "eefc5c02",
   "metadata": {},
   "outputs": [],
   "source": []
  },
  {
   "cell_type": "code",
   "execution_count": null,
   "id": "947bdeb4",
   "metadata": {},
   "outputs": [],
   "source": []
  },
  {
   "cell_type": "code",
   "execution_count": null,
   "id": "bb93bb08",
   "metadata": {},
   "outputs": [],
   "source": []
  },
  {
   "cell_type": "code",
   "execution_count": null,
   "id": "0c28e899",
   "metadata": {},
   "outputs": [],
   "source": []
  },
  {
   "cell_type": "code",
   "execution_count": null,
   "id": "2166e18f",
   "metadata": {},
   "outputs": [],
   "source": []
  },
  {
   "cell_type": "code",
   "execution_count": null,
   "id": "77fa4607",
   "metadata": {},
   "outputs": [],
   "source": []
  },
  {
   "cell_type": "code",
   "execution_count": null,
   "id": "3c6d81a8",
   "metadata": {},
   "outputs": [],
   "source": []
  },
  {
   "cell_type": "code",
   "execution_count": null,
   "id": "56d1f82d",
   "metadata": {},
   "outputs": [],
   "source": []
  },
  {
   "cell_type": "code",
   "execution_count": null,
   "id": "ba173243",
   "metadata": {},
   "outputs": [],
   "source": []
  },
  {
   "cell_type": "code",
   "execution_count": null,
   "id": "606b170e",
   "metadata": {},
   "outputs": [],
   "source": []
  },
  {
   "cell_type": "code",
   "execution_count": null,
   "id": "f0807d91",
   "metadata": {},
   "outputs": [],
   "source": []
  },
  {
   "cell_type": "code",
   "execution_count": null,
   "id": "fef37be8",
   "metadata": {},
   "outputs": [],
   "source": []
  },
  {
   "cell_type": "code",
   "execution_count": null,
   "id": "4583f7a4",
   "metadata": {},
   "outputs": [],
   "source": []
  },
  {
   "cell_type": "code",
   "execution_count": null,
   "id": "69d8c86f",
   "metadata": {},
   "outputs": [],
   "source": []
  },
  {
   "cell_type": "code",
   "execution_count": null,
   "id": "16486cec",
   "metadata": {},
   "outputs": [],
   "source": []
  },
  {
   "cell_type": "code",
   "execution_count": null,
   "id": "0c9d49fe",
   "metadata": {},
   "outputs": [],
   "source": []
  },
  {
   "cell_type": "code",
   "execution_count": null,
   "id": "ae300294",
   "metadata": {},
   "outputs": [],
   "source": []
  },
  {
   "cell_type": "code",
   "execution_count": null,
   "id": "75134d90",
   "metadata": {},
   "outputs": [],
   "source": []
  },
  {
   "cell_type": "code",
   "execution_count": null,
   "id": "5aa27d1e",
   "metadata": {},
   "outputs": [],
   "source": []
  },
  {
   "cell_type": "code",
   "execution_count": null,
   "id": "6cc9aad2",
   "metadata": {},
   "outputs": [],
   "source": []
  },
  {
   "cell_type": "code",
   "execution_count": null,
   "id": "0b722489",
   "metadata": {},
   "outputs": [],
   "source": []
  },
  {
   "cell_type": "code",
   "execution_count": null,
   "id": "a04e29f8",
   "metadata": {},
   "outputs": [],
   "source": []
  },
  {
   "cell_type": "code",
   "execution_count": null,
   "id": "f888a8cc",
   "metadata": {},
   "outputs": [],
   "source": []
  },
  {
   "cell_type": "code",
   "execution_count": null,
   "id": "22e9046f",
   "metadata": {},
   "outputs": [],
   "source": []
  },
  {
   "cell_type": "code",
   "execution_count": null,
   "id": "12aaa3a2",
   "metadata": {},
   "outputs": [],
   "source": []
  },
  {
   "cell_type": "code",
   "execution_count": null,
   "id": "e4663f97",
   "metadata": {},
   "outputs": [],
   "source": []
  },
  {
   "cell_type": "code",
   "execution_count": null,
   "id": "0e4cc603",
   "metadata": {},
   "outputs": [],
   "source": []
  },
  {
   "cell_type": "code",
   "execution_count": null,
   "id": "b23f59a4",
   "metadata": {},
   "outputs": [],
   "source": []
  },
  {
   "cell_type": "code",
   "execution_count": null,
   "id": "0784ee24",
   "metadata": {},
   "outputs": [],
   "source": []
  },
  {
   "cell_type": "code",
   "execution_count": null,
   "id": "f3410891",
   "metadata": {},
   "outputs": [],
   "source": []
  },
  {
   "cell_type": "code",
   "execution_count": null,
   "id": "d49d983b",
   "metadata": {},
   "outputs": [],
   "source": []
  },
  {
   "cell_type": "code",
   "execution_count": null,
   "id": "7569485c",
   "metadata": {},
   "outputs": [],
   "source": []
  },
  {
   "cell_type": "raw",
   "id": "eca7d174",
   "metadata": {},
   "source": [
    "\n",
    " "
   ]
  }
 ],
 "metadata": {
  "kernelspec": {
   "display_name": "Python 3",
   "language": "python",
   "name": "python3"
  },
  "language_info": {
   "codemirror_mode": {
    "name": "ipython",
    "version": 3
   },
   "file_extension": ".py",
   "mimetype": "text/x-python",
   "name": "python",
   "nbconvert_exporter": "python",
   "pygments_lexer": "ipython3",
   "version": "3.8.8"
  }
 },
 "nbformat": 4,
 "nbformat_minor": 5
}
