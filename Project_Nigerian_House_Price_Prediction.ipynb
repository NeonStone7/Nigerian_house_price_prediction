{
 "cells": [
  {
   "cell_type": "markdown",
   "id": "990986fc",
   "metadata": {},
   "source": [
    "# PREDICTING PRICES OF HOUSES IN NIGERIA"
   ]
  },
  {
   "cell_type": "markdown",
   "id": "dab66472",
   "metadata": {},
   "source": [
    "**DATA SOURCE**\n",
    "- House prices: https://www.kaggle.com/datasets/abdullahiyunus/nigeria-houses-and-prices-dataset"
   ]
  },
  {
   "cell_type": "code",
   "execution_count": 1,
   "id": "11d455a5",
   "metadata": {},
   "outputs": [],
   "source": [
    "# import matplotlib.pyplot as plt\n",
    "import matplotlib as mpl\n",
    "\n",
    "import warnings\n",
    "\n",
    "from glob import glob #library that helps us search for files\n",
    "\n",
    "import numpy as np\n",
    "import pandas as pd\n",
    "import seaborn as sns\n",
    "import plotly.express as px\n",
    "from category_encoders import OneHotEncoder\n",
    "from sklearn.linear_model import LinearRegression, Ridge, Lasso, ElasticNet \n",
    "from sklearn.metrics import r2_score,mean_absolute_error,mean_squared_error\n",
    "from sklearn.pipeline import make_pipeline, Pipeline\n",
    "from sklearn.utils.validation import check_is_fitted\n",
    "from sklearn.impute import SimpleImputer\n",
    "from sklearn.preprocessing import StandardScaler, MinMaxScaler, FunctionTransformer, PowerTransformer,LabelEncoder\n",
    "from sklearn.model_selection import train_test_split,GridSearchCV\n",
    "from sklearn.model_selection import cross_val_score\n",
    "from sklearn.compose import ColumnTransformer\n",
    "from sklearn.tree import DecisionTreeRegressor\n",
    "from sklearn.ensemble import RandomForestRegressor\n",
    "import xgboost as xgb\n",
    "from sklearn.feature_selection import RFE\n",
    "\n",
    "\n",
    "warnings.simplefilter(action=\"ignore\")\n",
    "pd.pandas.set_option('display.max_rows',None)\n",
    "pd.pandas.set_option('display.max_columns',None)\n",
    "from sklearn.feature_selection import VarianceThreshold\n",
    "#pd.options.display.float_format = '{:20,.2f}'.format\n"
   ]
  },
  {
   "cell_type": "code",
   "execution_count": 2,
   "id": "5fa89f07",
   "metadata": {},
   "outputs": [],
   "source": [
    "#importing dataset\n",
    "\n",
    "data=pd.read_csv(\"/Users/USER/Documents/DATASETS/nigeria_houses_data.csv\")"
   ]
  },
  {
   "cell_type": "code",
   "execution_count": 3,
   "id": "1948f368",
   "metadata": {},
   "outputs": [
    {
     "data": {
      "text/html": [
       "<div>\n",
       "<style scoped>\n",
       "    .dataframe tbody tr th:only-of-type {\n",
       "        vertical-align: middle;\n",
       "    }\n",
       "\n",
       "    .dataframe tbody tr th {\n",
       "        vertical-align: top;\n",
       "    }\n",
       "\n",
       "    .dataframe thead th {\n",
       "        text-align: right;\n",
       "    }\n",
       "</style>\n",
       "<table border=\"1\" class=\"dataframe\">\n",
       "  <thead>\n",
       "    <tr style=\"text-align: right;\">\n",
       "      <th></th>\n",
       "      <th>bedrooms</th>\n",
       "      <th>bathrooms</th>\n",
       "      <th>toilets</th>\n",
       "      <th>parking_space</th>\n",
       "      <th>title</th>\n",
       "      <th>town</th>\n",
       "      <th>state</th>\n",
       "      <th>price</th>\n",
       "    </tr>\n",
       "  </thead>\n",
       "  <tbody>\n",
       "    <tr>\n",
       "      <th>0</th>\n",
       "      <td>6.0</td>\n",
       "      <td>5.0</td>\n",
       "      <td>5.0</td>\n",
       "      <td>4.0</td>\n",
       "      <td>Detached Duplex</td>\n",
       "      <td>Mabushi</td>\n",
       "      <td>Abuja</td>\n",
       "      <td>450000000.0</td>\n",
       "    </tr>\n",
       "    <tr>\n",
       "      <th>1</th>\n",
       "      <td>4.0</td>\n",
       "      <td>5.0</td>\n",
       "      <td>5.0</td>\n",
       "      <td>4.0</td>\n",
       "      <td>Terraced Duplexes</td>\n",
       "      <td>Katampe</td>\n",
       "      <td>Abuja</td>\n",
       "      <td>800000000.0</td>\n",
       "    </tr>\n",
       "    <tr>\n",
       "      <th>2</th>\n",
       "      <td>4.0</td>\n",
       "      <td>5.0</td>\n",
       "      <td>5.0</td>\n",
       "      <td>4.0</td>\n",
       "      <td>Detached Duplex</td>\n",
       "      <td>Lekki</td>\n",
       "      <td>Lagos</td>\n",
       "      <td>120000000.0</td>\n",
       "    </tr>\n",
       "    <tr>\n",
       "      <th>3</th>\n",
       "      <td>4.0</td>\n",
       "      <td>4.0</td>\n",
       "      <td>5.0</td>\n",
       "      <td>6.0</td>\n",
       "      <td>Detached Duplex</td>\n",
       "      <td>Ajah</td>\n",
       "      <td>Lagos</td>\n",
       "      <td>40000000.0</td>\n",
       "    </tr>\n",
       "    <tr>\n",
       "      <th>4</th>\n",
       "      <td>4.0</td>\n",
       "      <td>4.0</td>\n",
       "      <td>5.0</td>\n",
       "      <td>2.0</td>\n",
       "      <td>Semi Detached Duplex</td>\n",
       "      <td>Lekki</td>\n",
       "      <td>Lagos</td>\n",
       "      <td>75000000.0</td>\n",
       "    </tr>\n",
       "  </tbody>\n",
       "</table>\n",
       "</div>"
      ],
      "text/plain": [
       "   bedrooms  bathrooms  toilets  parking_space                 title     town  \\\n",
       "0       6.0        5.0      5.0            4.0       Detached Duplex  Mabushi   \n",
       "1       4.0        5.0      5.0            4.0     Terraced Duplexes  Katampe   \n",
       "2       4.0        5.0      5.0            4.0       Detached Duplex    Lekki   \n",
       "3       4.0        4.0      5.0            6.0       Detached Duplex     Ajah   \n",
       "4       4.0        4.0      5.0            2.0  Semi Detached Duplex    Lekki   \n",
       "\n",
       "   state        price  \n",
       "0  Abuja  450000000.0  \n",
       "1  Abuja  800000000.0  \n",
       "2  Lagos  120000000.0  \n",
       "3  Lagos   40000000.0  \n",
       "4  Lagos   75000000.0  "
      ]
     },
     "execution_count": 3,
     "metadata": {},
     "output_type": "execute_result"
    }
   ],
   "source": [
    "data.head()"
   ]
  },
  {
   "cell_type": "code",
   "execution_count": 4,
   "id": "5c048f5d",
   "metadata": {},
   "outputs": [],
   "source": [
    "data.drop_duplicates(inplace=True)"
   ]
  },
  {
   "cell_type": "code",
   "execution_count": 5,
   "id": "5ce55eb0",
   "metadata": {},
   "outputs": [
    {
     "name": "stdout",
     "output_type": "stream",
     "text": [
      "<class 'pandas.core.frame.DataFrame'>\n",
      "Int64Index: 13888 entries, 0 to 24324\n",
      "Data columns (total 8 columns):\n",
      " #   Column         Non-Null Count  Dtype  \n",
      "---  ------         --------------  -----  \n",
      " 0   bedrooms       13888 non-null  float64\n",
      " 1   bathrooms      13888 non-null  float64\n",
      " 2   toilets        13888 non-null  float64\n",
      " 3   parking_space  13888 non-null  float64\n",
      " 4   title          13888 non-null  object \n",
      " 5   town           13888 non-null  object \n",
      " 6   state          13888 non-null  object \n",
      " 7   price          13888 non-null  float64\n",
      "dtypes: float64(5), object(3)\n",
      "memory usage: 976.5+ KB\n"
     ]
    }
   ],
   "source": [
    "data.info()"
   ]
  },
  {
   "cell_type": "code",
   "execution_count": 6,
   "id": "e18d4192",
   "metadata": {},
   "outputs": [
    {
     "data": {
      "text/html": [
       "<div>\n",
       "<style scoped>\n",
       "    .dataframe tbody tr th:only-of-type {\n",
       "        vertical-align: middle;\n",
       "    }\n",
       "\n",
       "    .dataframe tbody tr th {\n",
       "        vertical-align: top;\n",
       "    }\n",
       "\n",
       "    .dataframe thead th {\n",
       "        text-align: right;\n",
       "    }\n",
       "</style>\n",
       "<table border=\"1\" class=\"dataframe\">\n",
       "  <thead>\n",
       "    <tr style=\"text-align: right;\">\n",
       "      <th></th>\n",
       "      <th>bedrooms</th>\n",
       "      <th>bathrooms</th>\n",
       "      <th>toilets</th>\n",
       "      <th>parking_space</th>\n",
       "      <th>price</th>\n",
       "    </tr>\n",
       "  </thead>\n",
       "  <tbody>\n",
       "    <tr>\n",
       "      <th>count</th>\n",
       "      <td>13888.000000</td>\n",
       "      <td>13888.000000</td>\n",
       "      <td>13888.000000</td>\n",
       "      <td>13888.000000</td>\n",
       "      <td>1.388800e+04</td>\n",
       "    </tr>\n",
       "    <tr>\n",
       "      <th>mean</th>\n",
       "      <td>4.185412</td>\n",
       "      <td>4.516993</td>\n",
       "      <td>4.997264</td>\n",
       "      <td>4.072725</td>\n",
       "      <td>4.002137e+08</td>\n",
       "    </tr>\n",
       "    <tr>\n",
       "      <th>std</th>\n",
       "      <td>1.317457</td>\n",
       "      <td>1.360651</td>\n",
       "      <td>1.424560</td>\n",
       "      <td>1.638640</td>\n",
       "      <td>1.614926e+10</td>\n",
       "    </tr>\n",
       "    <tr>\n",
       "      <th>min</th>\n",
       "      <td>1.000000</td>\n",
       "      <td>1.000000</td>\n",
       "      <td>1.000000</td>\n",
       "      <td>1.000000</td>\n",
       "      <td>9.000000e+04</td>\n",
       "    </tr>\n",
       "    <tr>\n",
       "      <th>25%</th>\n",
       "      <td>3.000000</td>\n",
       "      <td>4.000000</td>\n",
       "      <td>4.000000</td>\n",
       "      <td>3.000000</td>\n",
       "      <td>3.800000e+07</td>\n",
       "    </tr>\n",
       "    <tr>\n",
       "      <th>50%</th>\n",
       "      <td>4.000000</td>\n",
       "      <td>5.000000</td>\n",
       "      <td>5.000000</td>\n",
       "      <td>4.000000</td>\n",
       "      <td>7.500000e+07</td>\n",
       "    </tr>\n",
       "    <tr>\n",
       "      <th>75%</th>\n",
       "      <td>5.000000</td>\n",
       "      <td>5.000000</td>\n",
       "      <td>6.000000</td>\n",
       "      <td>5.000000</td>\n",
       "      <td>1.600000e+08</td>\n",
       "    </tr>\n",
       "    <tr>\n",
       "      <th>max</th>\n",
       "      <td>9.000000</td>\n",
       "      <td>9.000000</td>\n",
       "      <td>9.000000</td>\n",
       "      <td>9.000000</td>\n",
       "      <td>1.800000e+12</td>\n",
       "    </tr>\n",
       "  </tbody>\n",
       "</table>\n",
       "</div>"
      ],
      "text/plain": [
       "           bedrooms     bathrooms       toilets  parking_space         price\n",
       "count  13888.000000  13888.000000  13888.000000   13888.000000  1.388800e+04\n",
       "mean       4.185412      4.516993      4.997264       4.072725  4.002137e+08\n",
       "std        1.317457      1.360651      1.424560       1.638640  1.614926e+10\n",
       "min        1.000000      1.000000      1.000000       1.000000  9.000000e+04\n",
       "25%        3.000000      4.000000      4.000000       3.000000  3.800000e+07\n",
       "50%        4.000000      5.000000      5.000000       4.000000  7.500000e+07\n",
       "75%        5.000000      5.000000      6.000000       5.000000  1.600000e+08\n",
       "max        9.000000      9.000000      9.000000       9.000000  1.800000e+12"
      ]
     },
     "execution_count": 6,
     "metadata": {},
     "output_type": "execute_result"
    }
   ],
   "source": [
    "data.describe()"
   ]
  },
  {
   "cell_type": "code",
   "execution_count": 7,
   "id": "b0b667c4",
   "metadata": {},
   "outputs": [
    {
     "data": {
      "text/plain": [
       "bedrooms                    1.0\n",
       "bathrooms                   1.0\n",
       "toilets                     1.0\n",
       "parking_space               1.0\n",
       "title            Block of Flats\n",
       "town                        Aba\n",
       "state                      Abia\n",
       "price                   90000.0\n",
       "dtype: object"
      ]
     },
     "execution_count": 7,
     "metadata": {},
     "output_type": "execute_result"
    }
   ],
   "source": [
    "#the minimum house price is 90000, checking where it's located\n",
    "data.min()"
   ]
  },
  {
   "cell_type": "code",
   "execution_count": 8,
   "id": "dcf7c157",
   "metadata": {},
   "outputs": [
    {
     "data": {
      "text/plain": [
       "bedrooms                       9.0\n",
       "bathrooms                      9.0\n",
       "toilets                        9.0\n",
       "parking_space                  9.0\n",
       "title            Terraced Duplexes\n",
       "town                    Yewa South\n",
       "state                       Rivers\n",
       "price              1800000000000.0\n",
       "dtype: object"
      ]
     },
     "execution_count": 8,
     "metadata": {},
     "output_type": "execute_result"
    }
   ],
   "source": [
    "data.max()"
   ]
  },
  {
   "cell_type": "code",
   "execution_count": 9,
   "id": "c359b7d6",
   "metadata": {},
   "outputs": [
    {
     "data": {
      "text/plain": [
       "bedrooms         0\n",
       "bathrooms        0\n",
       "toilets          0\n",
       "parking_space    0\n",
       "title            0\n",
       "town             0\n",
       "state            0\n",
       "price            0\n",
       "dtype: int64"
      ]
     },
     "execution_count": 9,
     "metadata": {},
     "output_type": "execute_result"
    }
   ],
   "source": [
    "data.isnull().sum()\n",
    "#checking for null values"
   ]
  },
  {
   "cell_type": "code",
   "execution_count": 10,
   "id": "1b9db12b",
   "metadata": {},
   "outputs": [
    {
     "data": {
      "text/plain": [
       "[]"
      ]
     },
     "execution_count": 10,
     "metadata": {},
     "output_type": "execute_result"
    }
   ],
   "source": [
    "#checking for whitespaces in columns\n",
    "[i for i in data.columns if i.startswith(' ') or i.endswith(' ')]"
   ]
  },
  {
   "cell_type": "code",
   "execution_count": 11,
   "id": "3101ed5e",
   "metadata": {},
   "outputs": [
    {
     "data": {
      "text/plain": [
       "(array([], dtype=int64), array([], dtype=int64), array([], dtype=int64))"
      ]
     },
     "execution_count": 11,
     "metadata": {},
     "output_type": "execute_result"
    }
   ],
   "source": [
    "#checking for white spaces in data\n",
    "np.where([data.apply(lambda x:x==' ')])"
   ]
  },
  {
   "cell_type": "code",
   "execution_count": 12,
   "id": "3cab54cd",
   "metadata": {},
   "outputs": [],
   "source": [
    "# SPLITTING DATA\n",
    "\n",
    "train,test,=train_test_split(data,test_size=0.21,random_state=12)"
   ]
  },
  {
   "cell_type": "code",
   "execution_count": 13,
   "id": "b729eafc",
   "metadata": {},
   "outputs": [
    {
     "data": {
      "text/plain": [
       "((10971, 8), (2917, 8))"
      ]
     },
     "execution_count": 13,
     "metadata": {},
     "output_type": "execute_result"
    }
   ],
   "source": [
    "train.shape,test.shape"
   ]
  },
  {
   "cell_type": "markdown",
   "id": "9abf4df3",
   "metadata": {},
   "source": [
    "## EXPLORATORY DATA ANALYSIS "
   ]
  },
  {
   "cell_type": "markdown",
   "id": "7c42aeeb",
   "metadata": {},
   "source": [
    "**Categorical variables**"
   ]
  },
  {
   "cell_type": "code",
   "execution_count": 14,
   "id": "2faca434",
   "metadata": {},
   "outputs": [],
   "source": [
    "df=train.copy()"
   ]
  },
  {
   "cell_type": "code",
   "execution_count": 15,
   "id": "e707269d",
   "metadata": {},
   "outputs": [],
   "source": [
    "cat = df.select_dtypes('O')"
   ]
  },
  {
   "cell_type": "code",
   "execution_count": 16,
   "id": "e9ec8a09",
   "metadata": {},
   "outputs": [
    {
     "name": "stdout",
     "output_type": "stream",
     "text": [
      "title 7\n",
      "town 179\n",
      "state 24\n"
     ]
    }
   ],
   "source": [
    "for i in cat.columns:\n",
    "    print(i,df[i].nunique())"
   ]
  },
  {
   "cell_type": "markdown",
   "id": "22ef47b1",
   "metadata": {},
   "source": [
    "Town and state have high cardinalities and will affect model performance if encoded. A solution to this is to replace the towns and state with their current population, remove values with low frequency, or target encoding."
   ]
  },
  {
   "cell_type": "markdown",
   "id": "18564360",
   "metadata": {},
   "source": [
    "**#univariate analysis of categorical variables**"
   ]
  },
  {
   "cell_type": "code",
   "execution_count": 17,
   "id": "7d15321b",
   "metadata": {},
   "outputs": [
    {
     "data": {
      "application/javascript": [
       "\n",
       "        if (window._pyforest_update_imports_cell) { window._pyforest_update_imports_cell('import matplotlib.pyplot as plt'); }\n",
       "    "
      ],
      "text/plain": [
       "<IPython.core.display.Javascript object>"
      ]
     },
     "metadata": {},
     "output_type": "display_data"
    },
    {
     "data": {
      "application/javascript": [
       "\n",
       "        if (window._pyforest_update_imports_cell) { window._pyforest_update_imports_cell('import matplotlib.pyplot as plt'); }\n",
       "    "
      ],
      "text/plain": [
       "<IPython.core.display.Javascript object>"
      ]
     },
     "metadata": {},
     "output_type": "display_data"
    },
    {
     "data": {
      "application/javascript": [
       "\n",
       "        if (window._pyforest_update_imports_cell) { window._pyforest_update_imports_cell('import matplotlib.pyplot as plt'); }\n",
       "    "
      ],
      "text/plain": [
       "<IPython.core.display.Javascript object>"
      ]
     },
     "metadata": {},
     "output_type": "display_data"
    },
    {
     "data": {
      "image/png": "[encoded data removed]",
      "text/plain": [
       "<Figure size 432x288 with 1 Axes>"
      ]
     },
     "metadata": {
      "needs_background": "light"
     },
     "output_type": "display_data"
    },
    {
     "data": {
      "image/png": "[encoded data removed]",
      "text/plain": [
       "<Figure size 432x288 with 1 Axes>"
      ]
     },
     "metadata": {
      "needs_background": "light"
     },
     "output_type": "display_data"
    },
    {
     "data": {
      "image/png": "[encoded data removed]",
      "text/plain": [
       "<Figure size 432x288 with 1 Axes>"
      ]
     },
     "metadata": {
      "needs_background": "light"
     },
     "output_type": "display_data"
    }
   ],
   "source": [
    "for i in cat:\n",
    "    plt.figure()\n",
    "    ax=((df[i].value_counts()*100/len(df)).head(10)).plot(kind='barh',color=['darkblue','purple','grey','k'])\n",
    "    ax.set_xlabel(i.upper())"
   ]
  },
  {
   "cell_type": "markdown",
   "id": "97eee3b4",
   "metadata": {},
   "source": [
    "**Relationship between categorical variables and the target variable**"
   ]
  },
  {
   "cell_type": "code",
   "execution_count": 18,
   "id": "e86517bd",
   "metadata": {},
   "outputs": [
    {
     "data": {
      "application/javascript": [
       "\n",
       "        if (window._pyforest_update_imports_cell) { window._pyforest_update_imports_cell('import matplotlib.pyplot as plt'); }\n",
       "    "
      ],
      "text/plain": [
       "<IPython.core.display.Javascript object>"
      ]
     },
     "metadata": {},
     "output_type": "display_data"
    },
    {
     "data": {
      "application/javascript": [
       "\n",
       "        if (window._pyforest_update_imports_cell) { window._pyforest_update_imports_cell('import matplotlib.pyplot as plt'); }\n",
       "    "
      ],
      "text/plain": [
       "<IPython.core.display.Javascript object>"
      ]
     },
     "metadata": {},
     "output_type": "display_data"
    },
    {
     "data": {
      "application/javascript": [
       "\n",
       "        if (window._pyforest_update_imports_cell) { window._pyforest_update_imports_cell('import matplotlib.pyplot as plt'); }\n",
       "    "
      ],
      "text/plain": [
       "<IPython.core.display.Javascript object>"
      ]
     },
     "metadata": {},
     "output_type": "display_data"
    },
    {
     "data": {
      "application/javascript": [
       "\n",
       "        if (window._pyforest_update_imports_cell) { window._pyforest_update_imports_cell('import matplotlib.pyplot as plt'); }\n",
       "    "
      ],
      "text/plain": [
       "<IPython.core.display.Javascript object>"
      ]
     },
     "metadata": {},
     "output_type": "display_data"
    },
    {
     "data": {
      "application/javascript": [
       "\n",
       "        if (window._pyforest_update_imports_cell) { window._pyforest_update_imports_cell('import matplotlib.pyplot as plt'); }\n",
       "    "
      ],
      "text/plain": [
       "<IPython.core.display.Javascript object>"
      ]
     },
     "metadata": {},
     "output_type": "display_data"
    },
    {
     "data": {
      "application/javascript": [
       "\n",
       "        if (window._pyforest_update_imports_cell) { window._pyforest_update_imports_cell('import matplotlib.pyplot as plt'); }\n",
       "    "
      ],
      "text/plain": [
       "<IPython.core.display.Javascript object>"
      ]
     },
     "metadata": {},
     "output_type": "display_data"
    },
    {
     "data": {
      "application/javascript": [
       "\n",
       "        if (window._pyforest_update_imports_cell) { window._pyforest_update_imports_cell('import matplotlib.pyplot as plt'); }\n",
       "    "
      ],
      "text/plain": [
       "<IPython.core.display.Javascript object>"
      ]
     },
     "metadata": {},
     "output_type": "display_data"
    },
    {
     "data": {
      "application/javascript": [
       "\n",
       "        if (window._pyforest_update_imports_cell) { window._pyforest_update_imports_cell('import matplotlib.pyplot as plt'); }\n",
       "    "
      ],
      "text/plain": [
       "<IPython.core.display.Javascript object>"
      ]
     },
     "metadata": {},
     "output_type": "display_data"
    },
    {
     "data": {
      "application/javascript": [
       "\n",
       "        if (window._pyforest_update_imports_cell) { window._pyforest_update_imports_cell('import matplotlib.pyplot as plt'); }\n",
       "    "
      ],
      "text/plain": [
       "<IPython.core.display.Javascript object>"
      ]
     },
     "metadata": {},
     "output_type": "display_data"
    },
    {
     "data": {
      "application/javascript": [
       "\n",
       "        if (window._pyforest_update_imports_cell) { window._pyforest_update_imports_cell('import matplotlib.pyplot as plt'); }\n",
       "    "
      ],
      "text/plain": [
       "<IPython.core.display.Javascript object>"
      ]
     },
     "metadata": {},
     "output_type": "display_data"
    },
    {
     "data": {
      "application/javascript": [
       "\n",
       "        if (window._pyforest_update_imports_cell) { window._pyforest_update_imports_cell('import matplotlib.pyplot as plt'); }\n",
       "    "
      ],
      "text/plain": [
       "<IPython.core.display.Javascript object>"
      ]
     },
     "metadata": {},
     "output_type": "display_data"
    },
    {
     "data": {
      "application/javascript": [
       "\n",
       "        if (window._pyforest_update_imports_cell) { window._pyforest_update_imports_cell('import matplotlib.pyplot as plt'); }\n",
       "    "
      ],
      "text/plain": [
       "<IPython.core.display.Javascript object>"
      ]
     },
     "metadata": {},
     "output_type": "display_data"
    },
    {
     "data": {
      "image/png": "[encoded data removed]",
      "text/plain": [
       "<Figure size 432x288 with 1 Axes>"
      ]
     },
     "metadata": {
      "needs_background": "light"
     },
     "output_type": "display_data"
    },
    {
     "data": {
      "image/png": "[encoded data removed]",
      "text/plain": [
       "<Figure size 432x288 with 1 Axes>"
      ]
     },
     "metadata": {
      "needs_background": "light"
     },
     "output_type": "display_data"
    },
    {
     "data": {
      "image/png": "[encoded data removed]",
      "text/plain": [
       "<Figure size 432x288 with 1 Axes>"
      ]
     },
     "metadata": {
      "needs_background": "light"
     },
     "output_type": "display_data"
    }
   ],
   "source": [
    "for i in cat.columns:\n",
    "    plt.figure()\n",
    "    (df.groupby(i)['price'].mean()/1e6).sort_values(ascending=False).head(10).plot.bar(color='darkblue')\n",
    "    plt.xlabel(i.upper())\n",
    "    plt.ylabel('Average House Price')\n",
    "    plt.title(f'Average House Price by {i}');"
   ]
  },
  {
   "cell_type": "code",
   "execution_count": 19,
   "id": "3d1b596f",
   "metadata": {},
   "outputs": [
    {
     "name": "stdout",
     "output_type": "stream",
     "text": [
      "Minimum House Price: 90000.0\n",
      "Maximum House Price: 1800000000000.0\n"
     ]
    }
   ],
   "source": [
    "print('Minimum House Price:',df['price'].min())\n",
    "print('Maximum House Price:',df['price'].max())"
   ]
  },
  {
   "cell_type": "markdown",
   "id": "5262b22b",
   "metadata": {},
   "source": [
    "**Numerical variables**"
   ]
  },
  {
   "cell_type": "code",
   "execution_count": 20,
   "id": "5e7e1744",
   "metadata": {},
   "outputs": [
    {
     "data": {
      "text/html": [
       "<div>\n",
       "<style scoped>\n",
       "    .dataframe tbody tr th:only-of-type {\n",
       "        vertical-align: middle;\n",
       "    }\n",
       "\n",
       "    .dataframe tbody tr th {\n",
       "        vertical-align: top;\n",
       "    }\n",
       "\n",
       "    .dataframe thead th {\n",
       "        text-align: right;\n",
       "    }\n",
       "</style>\n",
       "<table border=\"1\" class=\"dataframe\">\n",
       "  <thead>\n",
       "    <tr style=\"text-align: right;\">\n",
       "      <th></th>\n",
       "      <th>bedrooms</th>\n",
       "      <th>bathrooms</th>\n",
       "      <th>toilets</th>\n",
       "      <th>parking_space</th>\n",
       "      <th>price</th>\n",
       "    </tr>\n",
       "  </thead>\n",
       "  <tbody>\n",
       "    <tr>\n",
       "      <th>23482</th>\n",
       "      <td>3.0</td>\n",
       "      <td>3.0</td>\n",
       "      <td>3.0</td>\n",
       "      <td>3.0</td>\n",
       "      <td>18000000.0</td>\n",
       "    </tr>\n",
       "    <tr>\n",
       "      <th>23662</th>\n",
       "      <td>6.0</td>\n",
       "      <td>5.0</td>\n",
       "      <td>5.0</td>\n",
       "      <td>4.0</td>\n",
       "      <td>150000000.0</td>\n",
       "    </tr>\n",
       "    <tr>\n",
       "      <th>1443</th>\n",
       "      <td>9.0</td>\n",
       "      <td>9.0</td>\n",
       "      <td>9.0</td>\n",
       "      <td>4.0</td>\n",
       "      <td>550000000.0</td>\n",
       "    </tr>\n",
       "  </tbody>\n",
       "</table>\n",
       "</div>"
      ],
      "text/plain": [
       "       bedrooms  bathrooms  toilets  parking_space        price\n",
       "23482       3.0        3.0      3.0            3.0   18000000.0\n",
       "23662       6.0        5.0      5.0            4.0  150000000.0\n",
       "1443        9.0        9.0      9.0            4.0  550000000.0"
      ]
     },
     "execution_count": 20,
     "metadata": {},
     "output_type": "execute_result"
    }
   ],
   "source": [
    "num=df.select_dtypes('number')\n",
    "num[:3]"
   ]
  },
  {
   "cell_type": "markdown",
   "id": "1b2d14ae",
   "metadata": {},
   "source": [
    "**#relationship between discrete features and the target variable**"
   ]
  },
  {
   "cell_type": "code",
   "execution_count": 21,
   "id": "b302ba60",
   "metadata": {},
   "outputs": [
    {
     "data": {
      "application/javascript": [
       "\n",
       "        if (window._pyforest_update_imports_cell) { window._pyforest_update_imports_cell('import matplotlib.pyplot as plt'); }\n",
       "    "
      ],
      "text/plain": [
       "<IPython.core.display.Javascript object>"
      ]
     },
     "metadata": {},
     "output_type": "display_data"
    },
    {
     "data": {
      "application/javascript": [
       "\n",
       "        if (window._pyforest_update_imports_cell) { window._pyforest_update_imports_cell('import matplotlib.pyplot as plt'); }\n",
       "    "
      ],
      "text/plain": [
       "<IPython.core.display.Javascript object>"
      ]
     },
     "metadata": {},
     "output_type": "display_data"
    },
    {
     "data": {
      "application/javascript": [
       "\n",
       "        if (window._pyforest_update_imports_cell) { window._pyforest_update_imports_cell('import matplotlib.pyplot as plt'); }\n",
       "    "
      ],
      "text/plain": [
       "<IPython.core.display.Javascript object>"
      ]
     },
     "metadata": {},
     "output_type": "display_data"
    },
    {
     "data": {
      "application/javascript": [
       "\n",
       "        if (window._pyforest_update_imports_cell) { window._pyforest_update_imports_cell('import matplotlib.pyplot as plt'); }\n",
       "    "
      ],
      "text/plain": [
       "<IPython.core.display.Javascript object>"
      ]
     },
     "metadata": {},
     "output_type": "display_data"
    },
    {
     "data": {
      "application/javascript": [
       "\n",
       "        if (window._pyforest_update_imports_cell) { window._pyforest_update_imports_cell('import matplotlib.pyplot as plt'); }\n",
       "    "
      ],
      "text/plain": [
       "<IPython.core.display.Javascript object>"
      ]
     },
     "metadata": {},
     "output_type": "display_data"
    },
    {
     "data": {
      "application/javascript": [
       "\n",
       "        if (window._pyforest_update_imports_cell) { window._pyforest_update_imports_cell('import matplotlib.pyplot as plt'); }\n",
       "    "
      ],
      "text/plain": [
       "<IPython.core.display.Javascript object>"
      ]
     },
     "metadata": {},
     "output_type": "display_data"
    },
    {
     "data": {
      "application/javascript": [
       "\n",
       "        if (window._pyforest_update_imports_cell) { window._pyforest_update_imports_cell('import matplotlib.pyplot as plt'); }\n",
       "    "
      ],
      "text/plain": [
       "<IPython.core.display.Javascript object>"
      ]
     },
     "metadata": {},
     "output_type": "display_data"
    },
    {
     "data": {
      "application/javascript": [
       "\n",
       "        if (window._pyforest_update_imports_cell) { window._pyforest_update_imports_cell('import matplotlib.pyplot as plt'); }\n",
       "    "
      ],
      "text/plain": [
       "<IPython.core.display.Javascript object>"
      ]
     },
     "metadata": {},
     "output_type": "display_data"
    },
    {
     "data": {
      "application/javascript": [
       "\n",
       "        if (window._pyforest_update_imports_cell) { window._pyforest_update_imports_cell('import matplotlib.pyplot as plt'); }\n",
       "    "
      ],
      "text/plain": [
       "<IPython.core.display.Javascript object>"
      ]
     },
     "metadata": {},
     "output_type": "display_data"
    },
    {
     "data": {
      "application/javascript": [
       "\n",
       "        if (window._pyforest_update_imports_cell) { window._pyforest_update_imports_cell('import matplotlib.pyplot as plt'); }\n",
       "    "
      ],
      "text/plain": [
       "<IPython.core.display.Javascript object>"
      ]
     },
     "metadata": {},
     "output_type": "display_data"
    },
    {
     "data": {
      "application/javascript": [
       "\n",
       "        if (window._pyforest_update_imports_cell) { window._pyforest_update_imports_cell('import matplotlib.pyplot as plt'); }\n",
       "    "
      ],
      "text/plain": [
       "<IPython.core.display.Javascript object>"
      ]
     },
     "metadata": {},
     "output_type": "display_data"
    },
    {
     "data": {
      "application/javascript": [
       "\n",
       "        if (window._pyforest_update_imports_cell) { window._pyforest_update_imports_cell('import matplotlib.pyplot as plt'); }\n",
       "    "
      ],
      "text/plain": [
       "<IPython.core.display.Javascript object>"
      ]
     },
     "metadata": {},
     "output_type": "display_data"
    },
    {
     "data": {
      "application/javascript": [
       "\n",
       "        if (window._pyforest_update_imports_cell) { window._pyforest_update_imports_cell('import matplotlib.pyplot as plt'); }\n",
       "    "
      ],
      "text/plain": [
       "<IPython.core.display.Javascript object>"
      ]
     },
     "metadata": {},
     "output_type": "display_data"
    },
    {
     "data": {
      "application/javascript": [
       "\n",
       "        if (window._pyforest_update_imports_cell) { window._pyforest_update_imports_cell('import matplotlib.pyplot as plt'); }\n",
       "    "
      ],
      "text/plain": [
       "<IPython.core.display.Javascript object>"
      ]
     },
     "metadata": {},
     "output_type": "display_data"
    },
    {
     "data": {
      "application/javascript": [
       "\n",
       "        if (window._pyforest_update_imports_cell) { window._pyforest_update_imports_cell('import matplotlib.pyplot as plt'); }\n",
       "    "
      ],
      "text/plain": [
       "<IPython.core.display.Javascript object>"
      ]
     },
     "metadata": {},
     "output_type": "display_data"
    },
    {
     "data": {
      "application/javascript": [
       "\n",
       "        if (window._pyforest_update_imports_cell) { window._pyforest_update_imports_cell('import matplotlib.pyplot as plt'); }\n",
       "    "
      ],
      "text/plain": [
       "<IPython.core.display.Javascript object>"
      ]
     },
     "metadata": {},
     "output_type": "display_data"
    },
    {
     "data": {
      "image/png": "[encoded data removed]",
      "text/plain": [
       "<Figure size 432x288 with 1 Axes>"
      ]
     },
     "metadata": {
      "needs_background": "light"
     },
     "output_type": "display_data"
    },
    {
     "data": {
      "image/png": "[encoded data removed]",
      "text/plain": [
       "<Figure size 432x288 with 1 Axes>"
      ]
     },
     "metadata": {
      "needs_background": "light"
     },
     "output_type": "display_data"
    },
    {
     "data": {
      "image/png": "[encoded data removed]",
      "text/plain": [
       "<Figure size 432x288 with 1 Axes>"
      ]
     },
     "metadata": {
      "needs_background": "light"
     },
     "output_type": "display_data"
    },
    {
     "data": {
      "image/png": "[encoded data removed]",
      "text/plain": [
       "<Figure size 432x288 with 1 Axes>"
      ]
     },
     "metadata": {
      "needs_background": "light"
     },
     "output_type": "display_data"
    }
   ],
   "source": [
    "for i in num.iloc[:,:4].columns:\n",
    "    plt.figure()\n",
    "    (df.groupby(i)['price'].mean()/1e6).sort_values(ascending=False).plot.bar(color='darkred')\n",
    "    plt.xlabel(i.upper())\n",
    "    plt.ylabel('Average House Price')\n",
    "    plt.title(f'Average House Price by {i}');"
   ]
  },
  {
   "cell_type": "markdown",
   "id": "c27b9dd9",
   "metadata": {},
   "source": [
    "**Distribution of target variable**"
   ]
  },
  {
   "cell_type": "code",
   "execution_count": 22,
   "id": "7fa0100f",
   "metadata": {},
   "outputs": [
    {
     "data": {
      "text/plain": [
       "<AxesSubplot:xlabel='price', ylabel='Density'>"
      ]
     },
     "execution_count": 22,
     "metadata": {},
     "output_type": "execute_result"
    },
    {
     "data": {
      "image/png": "[encoded data removed]",
      "text/plain": [
       "<Figure size 432x288 with 1 Axes>"
      ]
     },
     "metadata": {
      "needs_background": "light"
     },
     "output_type": "display_data"
    }
   ],
   "source": [
    "sns.distplot(df['price'])\n"
   ]
  },
  {
   "cell_type": "markdown",
   "id": "6c2e294d",
   "metadata": {},
   "source": [
    "The target variable is very skewed and has a lot of outliers. Lets try a log transformation of the target variable."
   ]
  },
  {
   "cell_type": "code",
   "execution_count": 23,
   "id": "3e89cbac",
   "metadata": {},
   "outputs": [
    {
     "data": {
      "application/javascript": [
       "\n",
       "        if (window._pyforest_update_imports_cell) { window._pyforest_update_imports_cell('import matplotlib.pyplot as plt'); }\n",
       "    "
      ],
      "text/plain": [
       "<IPython.core.display.Javascript object>"
      ]
     },
     "metadata": {},
     "output_type": "display_data"
    },
    {
     "data": {
      "text/plain": [
       "<AxesSubplot:xlabel='price', ylabel='Density'>"
      ]
     },
     "execution_count": 23,
     "metadata": {},
     "output_type": "execute_result"
    },
    {
     "data": {
      "image/png": "[encoded data removed]",
      "text/plain": [
       "<Figure size 864x576 with 1 Axes>"
      ]
     },
     "metadata": {
      "needs_background": "light"
     },
     "output_type": "display_data"
    }
   ],
   "source": [
    "#distribution of continuous variable\n",
    "plt.figure(figsize=(12,8))\n",
    "\n",
    "sns.distplot(np.log(df['price']))\n"
   ]
  },
  {
   "cell_type": "code",
   "execution_count": 24,
   "id": "03cb29d2",
   "metadata": {},
   "outputs": [],
   "source": [
    "df['log_price']=np.log(df['price'])# log transformation of target variable"
   ]
  },
  {
   "cell_type": "code",
   "execution_count": 25,
   "id": "2d670461",
   "metadata": {},
   "outputs": [
    {
     "data": {
      "text/plain": [
       "<AxesSubplot:>"
      ]
     },
     "execution_count": 25,
     "metadata": {},
     "output_type": "execute_result"
    },
    {
     "data": {
      "image/png": "[encoded data removed]",
      "text/plain": [
       "<Figure size 432x288 with 1 Axes>"
      ]
     },
     "metadata": {
      "needs_background": "light"
     },
     "output_type": "display_data"
    }
   ],
   "source": [
    "sns.boxplot(df['price'])\n"
   ]
  },
  {
   "cell_type": "code",
   "execution_count": 26,
   "id": "1ca9d382",
   "metadata": {},
   "outputs": [
    {
     "data": {
      "text/plain": [
       "<AxesSubplot:>"
      ]
     },
     "execution_count": 26,
     "metadata": {},
     "output_type": "execute_result"
    },
    {
     "data": {
      "image/png": "[encoded data removed]",
      "text/plain": [
       "<Figure size 432x288 with 1 Axes>"
      ]
     },
     "metadata": {
      "needs_background": "light"
     },
     "output_type": "display_data"
    }
   ],
   "source": [
    "sns.boxplot(df['log_price'])\n"
   ]
  },
  {
   "cell_type": "code",
   "execution_count": 27,
   "id": "d8752c42",
   "metadata": {},
   "outputs": [
    {
     "name": "stdout",
     "output_type": "stream",
     "text": [
      "Price\n",
      "Skewness 92.17994452482394\n",
      "Kurtosis 9020.69255800467\n",
      "Mean 427128174.13\n",
      "Median 75000000.0\n",
      "Right Skewed\n"
     ]
    }
   ],
   "source": [
    "print('Price')\n",
    "print('Skewness',df['price'].skew())\n",
    "print('Kurtosis',df['price'].kurt())\n",
    "Mean=round(df['price'].mean(),2)\n",
    "Median=round(df['price'].median(),2)\n",
    "print('Mean',Mean)\n",
    "print('Median',Median)\n",
    "if Mean>Median:\n",
    "    print('Right Skewed')\n",
    "else:\n",
    "    print('Left Skewed')\n",
    "    print('*****************************************************************************')\n",
    "    print()"
   ]
  },
  {
   "cell_type": "markdown",
   "id": "8e9ac6f4",
   "metadata": {},
   "source": [
    "The distplot and boxplot show the presence of outliers in the data. Are they due to errors or typos in the data collection process, or do they represent legitimate observations with unusually high or low values?\n",
    "\n"
   ]
  },
  {
   "cell_type": "markdown",
   "id": "d9ba10e2",
   "metadata": {},
   "source": [
    "**Checking for linearity**"
   ]
  },
  {
   "cell_type": "code",
   "execution_count": 28,
   "id": "e5a941bc",
   "metadata": {},
   "outputs": [
    {
     "data": {
      "application/javascript": [
       "\n",
       "        if (window._pyforest_update_imports_cell) { window._pyforest_update_imports_cell('import matplotlib.pyplot as plt'); }\n",
       "    "
      ],
      "text/plain": [
       "<IPython.core.display.Javascript object>"
      ]
     },
     "metadata": {},
     "output_type": "display_data"
    },
    {
     "data": {
      "application/javascript": [
       "\n",
       "        if (window._pyforest_update_imports_cell) { window._pyforest_update_imports_cell('import matplotlib.pyplot as plt'); }\n",
       "    "
      ],
      "text/plain": [
       "<IPython.core.display.Javascript object>"
      ]
     },
     "metadata": {},
     "output_type": "display_data"
    },
    {
     "data": {
      "application/javascript": [
       "\n",
       "        if (window._pyforest_update_imports_cell) { window._pyforest_update_imports_cell('import matplotlib.pyplot as plt'); }\n",
       "    "
      ],
      "text/plain": [
       "<IPython.core.display.Javascript object>"
      ]
     },
     "metadata": {},
     "output_type": "display_data"
    },
    {
     "data": {
      "application/javascript": [
       "\n",
       "        if (window._pyforest_update_imports_cell) { window._pyforest_update_imports_cell('import matplotlib.pyplot as plt'); }\n",
       "    "
      ],
      "text/plain": [
       "<IPython.core.display.Javascript object>"
      ]
     },
     "metadata": {},
     "output_type": "display_data"
    },
    {
     "data": {
      "application/javascript": [
       "\n",
       "        if (window._pyforest_update_imports_cell) { window._pyforest_update_imports_cell('import matplotlib.pyplot as plt'); }\n",
       "    "
      ],
      "text/plain": [
       "<IPython.core.display.Javascript object>"
      ]
     },
     "metadata": {},
     "output_type": "display_data"
    },
    {
     "data": {
      "application/javascript": [
       "\n",
       "        if (window._pyforest_update_imports_cell) { window._pyforest_update_imports_cell('import matplotlib.pyplot as plt'); }\n",
       "    "
      ],
      "text/plain": [
       "<IPython.core.display.Javascript object>"
      ]
     },
     "metadata": {},
     "output_type": "display_data"
    },
    {
     "data": {
      "application/javascript": [
       "\n",
       "        if (window._pyforest_update_imports_cell) { window._pyforest_update_imports_cell('import matplotlib.pyplot as plt'); }\n",
       "    "
      ],
      "text/plain": [
       "<IPython.core.display.Javascript object>"
      ]
     },
     "metadata": {},
     "output_type": "display_data"
    },
    {
     "data": {
      "application/javascript": [
       "\n",
       "        if (window._pyforest_update_imports_cell) { window._pyforest_update_imports_cell('import matplotlib.pyplot as plt'); }\n",
       "    "
      ],
      "text/plain": [
       "<IPython.core.display.Javascript object>"
      ]
     },
     "metadata": {},
     "output_type": "display_data"
    },
    {
     "data": {
      "application/javascript": [
       "\n",
       "        if (window._pyforest_update_imports_cell) { window._pyforest_update_imports_cell('import matplotlib.pyplot as plt'); }\n",
       "    "
      ],
      "text/plain": [
       "<IPython.core.display.Javascript object>"
      ]
     },
     "metadata": {},
     "output_type": "display_data"
    },
    {
     "data": {
      "application/javascript": [
       "\n",
       "        if (window._pyforest_update_imports_cell) { window._pyforest_update_imports_cell('import matplotlib.pyplot as plt'); }\n",
       "    "
      ],
      "text/plain": [
       "<IPython.core.display.Javascript object>"
      ]
     },
     "metadata": {},
     "output_type": "display_data"
    },
    {
     "data": {
      "application/javascript": [
       "\n",
       "        if (window._pyforest_update_imports_cell) { window._pyforest_update_imports_cell('import matplotlib.pyplot as plt'); }\n",
       "    "
      ],
      "text/plain": [
       "<IPython.core.display.Javascript object>"
      ]
     },
     "metadata": {},
     "output_type": "display_data"
    },
    {
     "data": {
      "application/javascript": [
       "\n",
       "        if (window._pyforest_update_imports_cell) { window._pyforest_update_imports_cell('import matplotlib.pyplot as plt'); }\n",
       "    "
      ],
      "text/plain": [
       "<IPython.core.display.Javascript object>"
      ]
     },
     "metadata": {},
     "output_type": "display_data"
    },
    {
     "data": {
      "application/javascript": [
       "\n",
       "        if (window._pyforest_update_imports_cell) { window._pyforest_update_imports_cell('import matplotlib.pyplot as plt'); }\n",
       "    "
      ],
      "text/plain": [
       "<IPython.core.display.Javascript object>"
      ]
     },
     "metadata": {},
     "output_type": "display_data"
    },
    {
     "data": {
      "application/javascript": [
       "\n",
       "        if (window._pyforest_update_imports_cell) { window._pyforest_update_imports_cell('import matplotlib.pyplot as plt'); }\n",
       "    "
      ],
      "text/plain": [
       "<IPython.core.display.Javascript object>"
      ]
     },
     "metadata": {},
     "output_type": "display_data"
    },
    {
     "data": {
      "application/javascript": [
       "\n",
       "        if (window._pyforest_update_imports_cell) { window._pyforest_update_imports_cell('import matplotlib.pyplot as plt'); }\n",
       "    "
      ],
      "text/plain": [
       "<IPython.core.display.Javascript object>"
      ]
     },
     "metadata": {},
     "output_type": "display_data"
    },
    {
     "data": {
      "application/javascript": [
       "\n",
       "        if (window._pyforest_update_imports_cell) { window._pyforest_update_imports_cell('import matplotlib.pyplot as plt'); }\n",
       "    "
      ],
      "text/plain": [
       "<IPython.core.display.Javascript object>"
      ]
     },
     "metadata": {},
     "output_type": "display_data"
    },
    {
     "data": {
      "application/javascript": [
       "\n",
       "        if (window._pyforest_update_imports_cell) { window._pyforest_update_imports_cell('import matplotlib.pyplot as plt'); }\n",
       "    "
      ],
      "text/plain": [
       "<IPython.core.display.Javascript object>"
      ]
     },
     "metadata": {},
     "output_type": "display_data"
    },
    {
     "data": {
      "application/javascript": [
       "\n",
       "        if (window._pyforest_update_imports_cell) { window._pyforest_update_imports_cell('import matplotlib.pyplot as plt'); }\n",
       "    "
      ],
      "text/plain": [
       "<IPython.core.display.Javascript object>"
      ]
     },
     "metadata": {},
     "output_type": "display_data"
    },
    {
     "data": {
      "application/javascript": [
       "\n",
       "        if (window._pyforest_update_imports_cell) { window._pyforest_update_imports_cell('import matplotlib.pyplot as plt'); }\n",
       "    "
      ],
      "text/plain": [
       "<IPython.core.display.Javascript object>"
      ]
     },
     "metadata": {},
     "output_type": "display_data"
    },
    {
     "data": {
      "application/javascript": [
       "\n",
       "        if (window._pyforest_update_imports_cell) { window._pyforest_update_imports_cell('import matplotlib.pyplot as plt'); }\n",
       "    "
      ],
      "text/plain": [
       "<IPython.core.display.Javascript object>"
      ]
     },
     "metadata": {},
     "output_type": "display_data"
    },
    {
     "data": {
      "application/javascript": [
       "\n",
       "        if (window._pyforest_update_imports_cell) { window._pyforest_update_imports_cell('import matplotlib.pyplot as plt'); }\n",
       "    "
      ],
      "text/plain": [
       "<IPython.core.display.Javascript object>"
      ]
     },
     "metadata": {},
     "output_type": "display_data"
    },
    {
     "data": {
      "application/javascript": [
       "\n",
       "        if (window._pyforest_update_imports_cell) { window._pyforest_update_imports_cell('import matplotlib.pyplot as plt'); }\n",
       "    "
      ],
      "text/plain": [
       "<IPython.core.display.Javascript object>"
      ]
     },
     "metadata": {},
     "output_type": "display_data"
    },
    {
     "data": {
      "application/javascript": [
       "\n",
       "        if (window._pyforest_update_imports_cell) { window._pyforest_update_imports_cell('import matplotlib.pyplot as plt'); }\n",
       "    "
      ],
      "text/plain": [
       "<IPython.core.display.Javascript object>"
      ]
     },
     "metadata": {},
     "output_type": "display_data"
    },
    {
     "data": {
      "application/javascript": [
       "\n",
       "        if (window._pyforest_update_imports_cell) { window._pyforest_update_imports_cell('import matplotlib.pyplot as plt'); }\n",
       "    "
      ],
      "text/plain": [
       "<IPython.core.display.Javascript object>"
      ]
     },
     "metadata": {},
     "output_type": "display_data"
    },
    {
     "data": {
      "application/javascript": [
       "\n",
       "        if (window._pyforest_update_imports_cell) { window._pyforest_update_imports_cell('import matplotlib.pyplot as plt'); }\n",
       "    "
      ],
      "text/plain": [
       "<IPython.core.display.Javascript object>"
      ]
     },
     "metadata": {},
     "output_type": "display_data"
    },
    {
     "data": {
      "image/png": "[encoded data removed]",
      "text/plain": [
       "<Figure size 432x288 with 1 Axes>"
      ]
     },
     "metadata": {
      "needs_background": "light"
     },
     "output_type": "display_data"
    },
    {
     "data": {
      "image/png": "[encoded data removed]",
      "text/plain": [
       "<Figure size 432x288 with 1 Axes>"
      ]
     },
     "metadata": {
      "needs_background": "light"
     },
     "output_type": "display_data"
    },
    {
     "data": {
      "image/png": "[encoded data removed]",
      "text/plain": [
       "<Figure size 432x288 with 1 Axes>"
      ]
     },
     "metadata": {
      "needs_background": "light"
     },
     "output_type": "display_data"
    },
    {
     "data": {
      "image/png": "[encoded data removed]",
      "text/plain": [
       "<Figure size 432x288 with 1 Axes>"
      ]
     },
     "metadata": {
      "needs_background": "light"
     },
     "output_type": "display_data"
    },
    {
     "data": {
      "image/png": "[encoded data removed]",
      "text/plain": [
       "<Figure size 432x288 with 1 Axes>"
      ]
     },
     "metadata": {
      "needs_background": "light"
     },
     "output_type": "display_data"
    }
   ],
   "source": [
    "for i in num.columns:\n",
    "    plt.figure()\n",
    "    plt.scatter(df[i],df['price'])\n",
    "    plt.xlabel(i)\n",
    "    plt.ylabel('Price')\n",
    "    plt.title(f'Price by {i}')"
   ]
  },
  {
   "cell_type": "markdown",
   "id": "42d00f96",
   "metadata": {},
   "source": [
    "**Checking for correlation and multicollinearity**"
   ]
  },
  {
   "cell_type": "code",
   "execution_count": 29,
   "id": "5f18f05c",
   "metadata": {},
   "outputs": [
    {
     "data": {
      "text/plain": [
       "<AxesSubplot:>"
      ]
     },
     "execution_count": 29,
     "metadata": {},
     "output_type": "execute_result"
    },
    {
     "data": {
      "image/png": "[encoded data removed]",
      "text/plain": [
       "<Figure size 432x288 with 2 Axes>"
      ]
     },
     "metadata": {
      "needs_background": "light"
     },
     "output_type": "display_data"
    }
   ],
   "source": [
    "sns.heatmap(df.corr(),annot=True)"
   ]
  },
  {
   "cell_type": "markdown",
   "id": "c545a408",
   "metadata": {},
   "source": [
    "**Checking for normality**"
   ]
  },
  {
   "cell_type": "code",
   "execution_count": 30,
   "id": "02131482",
   "metadata": {},
   "outputs": [],
   "source": [
    "from scipy.stats import shapiro"
   ]
  },
  {
   "cell_type": "code",
   "execution_count": 31,
   "id": "49e480e4",
   "metadata": {},
   "outputs": [
    {
     "name": "stdout",
     "output_type": "stream",
     "text": [
      "BEDROOMS\n"
     ]
    },
    {
     "data": {
      "application/javascript": [
       "\n",
       "        if (window._pyforest_update_imports_cell) { window._pyforest_update_imports_cell('import matplotlib.pyplot as plt\\nfrom scipy import stats'); }\n",
       "    "
      ],
      "text/plain": [
       "<IPython.core.display.Javascript object>"
      ]
     },
     "metadata": {},
     "output_type": "display_data"
    },
    {
     "name": "stdout",
     "output_type": "stream",
     "text": [
      "Null hypothesis rejected. Data is not normal\n",
      "\n",
      "BATHROOMS\n"
     ]
    },
    {
     "data": {
      "application/javascript": [
       "\n",
       "        if (window._pyforest_update_imports_cell) { window._pyforest_update_imports_cell('import matplotlib.pyplot as plt\\nfrom scipy import stats'); }\n",
       "    "
      ],
      "text/plain": [
       "<IPython.core.display.Javascript object>"
      ]
     },
     "metadata": {},
     "output_type": "display_data"
    },
    {
     "name": "stdout",
     "output_type": "stream",
     "text": [
      "Null hypothesis rejected. Data is not normal\n",
      "\n",
      "TOILETS\n"
     ]
    },
    {
     "data": {
      "application/javascript": [
       "\n",
       "        if (window._pyforest_update_imports_cell) { window._pyforest_update_imports_cell('import matplotlib.pyplot as plt\\nfrom scipy import stats'); }\n",
       "    "
      ],
      "text/plain": [
       "<IPython.core.display.Javascript object>"
      ]
     },
     "metadata": {},
     "output_type": "display_data"
    },
    {
     "name": "stdout",
     "output_type": "stream",
     "text": [
      "Null hypothesis rejected. Data is not normal\n",
      "\n",
      "PARKING_SPACE\n"
     ]
    },
    {
     "data": {
      "application/javascript": [
       "\n",
       "        if (window._pyforest_update_imports_cell) { window._pyforest_update_imports_cell('import matplotlib.pyplot as plt\\nfrom scipy import stats'); }\n",
       "    "
      ],
      "text/plain": [
       "<IPython.core.display.Javascript object>"
      ]
     },
     "metadata": {},
     "output_type": "display_data"
    },
    {
     "name": "stdout",
     "output_type": "stream",
     "text": [
      "Null hypothesis rejected. Data is not normal\n",
      "\n",
      "PRICE\n"
     ]
    },
    {
     "data": {
      "application/javascript": [
       "\n",
       "        if (window._pyforest_update_imports_cell) { window._pyforest_update_imports_cell('import matplotlib.pyplot as plt\\nfrom scipy import stats'); }\n",
       "    "
      ],
      "text/plain": [
       "<IPython.core.display.Javascript object>"
      ]
     },
     "metadata": {},
     "output_type": "display_data"
    },
    {
     "name": "stdout",
     "output_type": "stream",
     "text": [
      "Null hypothesis rejected. Data is not normal\n",
      "\n"
     ]
    }
   ],
   "source": [
    "for i in num:\n",
    "    print(i.upper())\n",
    "    pvalue=stats.shapiro(df[i])[1]\n",
    "    if pvalue<0.05:\n",
    "        print('Null hypothesis rejected. Data is not normal')\n",
    "    else:\n",
    "        print('Null hypothesis accepted. Data is normal')\n",
    "    print()"
   ]
  },
  {
   "cell_type": "markdown",
   "id": "4ba14173",
   "metadata": {},
   "source": [
    "## FEATURE ENGINEERING"
   ]
  },
  {
   "cell_type": "markdown",
   "id": "92fb8b50",
   "metadata": {},
   "source": [
    "**Should Outliers be removed?**"
   ]
  },
  {
   "cell_type": "code",
   "execution_count": 32,
   "id": "03500bbe",
   "metadata": {},
   "outputs": [],
   "source": [
    "mini,maxi=df['price'].quantile([0.01,0.99])\n",
    "\n",
    "mask = df['price'].between(mini,maxi)\n",
    "\n",
    "df=df[mask]"
   ]
  },
  {
   "cell_type": "code",
   "execution_count": 33,
   "id": "ab9480bb",
   "metadata": {},
   "outputs": [
    {
     "data": {
      "text/plain": [
       "<AxesSubplot:>"
      ]
     },
     "execution_count": 33,
     "metadata": {},
     "output_type": "execute_result"
    },
    {
     "data": {
      "image/png": "[encoded data removed]",
      "text/plain": [
       "<Figure size 432x288 with 1 Axes>"
      ]
     },
     "metadata": {
      "needs_background": "light"
     },
     "output_type": "display_data"
    }
   ],
   "source": [
    "df.price.hist()"
   ]
  },
  {
   "cell_type": "code",
   "execution_count": 34,
   "id": "31cafc49",
   "metadata": {},
   "outputs": [
    {
     "data": {
      "application/javascript": [
       "\n",
       "        if (window._pyforest_update_imports_cell) { window._pyforest_update_imports_cell('import matplotlib.pyplot as plt\\nfrom scipy import stats'); }\n",
       "    "
      ],
      "text/plain": [
       "<IPython.core.display.Javascript object>"
      ]
     },
     "metadata": {},
     "output_type": "display_data"
    },
    {
     "data": {
      "application/javascript": [
       "\n",
       "        if (window._pyforest_update_imports_cell) { window._pyforest_update_imports_cell('import matplotlib.pyplot as plt\\nfrom scipy import stats'); }\n",
       "    "
      ],
      "text/plain": [
       "<IPython.core.display.Javascript object>"
      ]
     },
     "metadata": {},
     "output_type": "display_data"
    },
    {
     "data": {
      "application/javascript": [
       "\n",
       "        if (window._pyforest_update_imports_cell) { window._pyforest_update_imports_cell('import matplotlib.pyplot as plt\\nfrom scipy import stats'); }\n",
       "    "
      ],
      "text/plain": [
       "<IPython.core.display.Javascript object>"
      ]
     },
     "metadata": {},
     "output_type": "display_data"
    },
    {
     "data": {
      "application/javascript": [
       "\n",
       "        if (window._pyforest_update_imports_cell) { window._pyforest_update_imports_cell('import matplotlib.pyplot as plt\\nfrom scipy import stats'); }\n",
       "    "
      ],
      "text/plain": [
       "<IPython.core.display.Javascript object>"
      ]
     },
     "metadata": {},
     "output_type": "display_data"
    },
    {
     "data": {
      "application/javascript": [
       "\n",
       "        if (window._pyforest_update_imports_cell) { window._pyforest_update_imports_cell('import matplotlib.pyplot as plt\\nfrom scipy import stats'); }\n",
       "    "
      ],
      "text/plain": [
       "<IPython.core.display.Javascript object>"
      ]
     },
     "metadata": {},
     "output_type": "display_data"
    },
    {
     "data": {
      "application/javascript": [
       "\n",
       "        if (window._pyforest_update_imports_cell) { window._pyforest_update_imports_cell('import matplotlib.pyplot as plt\\nfrom scipy import stats'); }\n",
       "    "
      ],
      "text/plain": [
       "<IPython.core.display.Javascript object>"
      ]
     },
     "metadata": {},
     "output_type": "display_data"
    },
    {
     "data": {
      "application/javascript": [
       "\n",
       "        if (window._pyforest_update_imports_cell) { window._pyforest_update_imports_cell('import matplotlib.pyplot as plt\\nfrom scipy import stats'); }\n",
       "    "
      ],
      "text/plain": [
       "<IPython.core.display.Javascript object>"
      ]
     },
     "metadata": {},
     "output_type": "display_data"
    },
    {
     "data": {
      "application/javascript": [
       "\n",
       "        if (window._pyforest_update_imports_cell) { window._pyforest_update_imports_cell('import matplotlib.pyplot as plt\\nfrom scipy import stats'); }\n",
       "    "
      ],
      "text/plain": [
       "<IPython.core.display.Javascript object>"
      ]
     },
     "metadata": {},
     "output_type": "display_data"
    },
    {
     "data": {
      "application/javascript": [
       "\n",
       "        if (window._pyforest_update_imports_cell) { window._pyforest_update_imports_cell('import matplotlib.pyplot as plt\\nfrom scipy import stats'); }\n",
       "    "
      ],
      "text/plain": [
       "<IPython.core.display.Javascript object>"
      ]
     },
     "metadata": {},
     "output_type": "display_data"
    },
    {
     "data": {
      "application/javascript": [
       "\n",
       "        if (window._pyforest_update_imports_cell) { window._pyforest_update_imports_cell('import matplotlib.pyplot as plt\\nfrom scipy import stats'); }\n",
       "    "
      ],
      "text/plain": [
       "<IPython.core.display.Javascript object>"
      ]
     },
     "metadata": {},
     "output_type": "display_data"
    },
    {
     "data": {
      "application/javascript": [
       "\n",
       "        if (window._pyforest_update_imports_cell) { window._pyforest_update_imports_cell('import matplotlib.pyplot as plt\\nfrom scipy import stats'); }\n",
       "    "
      ],
      "text/plain": [
       "<IPython.core.display.Javascript object>"
      ]
     },
     "metadata": {},
     "output_type": "display_data"
    },
    {
     "data": {
      "application/javascript": [
       "\n",
       "        if (window._pyforest_update_imports_cell) { window._pyforest_update_imports_cell('import matplotlib.pyplot as plt\\nfrom scipy import stats'); }\n",
       "    "
      ],
      "text/plain": [
       "<IPython.core.display.Javascript object>"
      ]
     },
     "metadata": {},
     "output_type": "display_data"
    },
    {
     "data": {
      "image/png": "[encoded data removed]",
      "text/plain": [
       "<Figure size 432x288 with 1 Axes>"
      ]
     },
     "metadata": {
      "needs_background": "light"
     },
     "output_type": "display_data"
    },
    {
     "data": {
      "image/png": "[encoded data removed]",
      "text/plain": [
       "<Figure size 432x288 with 1 Axes>"
      ]
     },
     "metadata": {
      "needs_background": "light"
     },
     "output_type": "display_data"
    },
    {
     "data": {
      "image/png": "[encoded data removed]",
      "text/plain": [
       "<Figure size 432x288 with 1 Axes>"
      ]
     },
     "metadata": {
      "needs_background": "light"
     },
     "output_type": "display_data"
    }
   ],
   "source": [
    "for i in cat.columns:\n",
    "    plt.figure()\n",
    "    (df.groupby(i)['price'].mean()/1e6).sort_values(ascending=False).head(10).plot.bar(color='darkblue')\n",
    "    plt.xlabel(i.upper())\n",
    "    plt.ylabel('Average House Price')\n",
    "    plt.title(f'Average House Price by {i}');"
   ]
  },
  {
   "cell_type": "markdown",
   "id": "4c70c193",
   "metadata": {},
   "source": [
    "**Should with high cardinality be treated by replacing values that are less than 1% with others?**"
   ]
  },
  {
   "cell_type": "code",
   "execution_count": 35,
   "id": "8e023519",
   "metadata": {},
   "outputs": [],
   "source": [
    "for m in cat:\n",
    "    \n",
    "    temp=df.groupby(m)['price'].count()/len(df)\n",
    "    \n",
    "    #features greater than 1%\n",
    "    temp_df=temp[temp>0.01].index \n",
    "    \n",
    "    #extract the feature if it is in temp_df(>1%) else replace with rare_var\n",
    "    df[m]=np.where(df[m].isin(temp_df),df[m],'Others')\n",
    "    "
   ]
  },
  {
   "cell_type": "code",
   "execution_count": 36,
   "id": "47aca16c",
   "metadata": {},
   "outputs": [
    {
     "name": "stdout",
     "output_type": "stream",
     "text": [
      "title 7\n",
      "town 23\n",
      "state 7\n"
     ]
    }
   ],
   "source": [
    "for a in df.select_dtypes('O').columns:\n",
    "    print(a,df[a].nunique())"
   ]
  },
  {
   "cell_type": "code",
   "execution_count": 37,
   "id": "e55810a1",
   "metadata": {},
   "outputs": [],
   "source": [
    "df['Total_rooms']= df['bedrooms'] + df['bathrooms'] + df['toilets']#creating a new column"
   ]
  },
  {
   "cell_type": "markdown",
   "id": "c35aaa1e",
   "metadata": {},
   "source": [
    "**Should high cardinality variables like town and state be replaced with their populations instead?**"
   ]
  },
  {
   "cell_type": "code",
   "execution_count": 38,
   "id": "2cd15841",
   "metadata": {},
   "outputs": [
    {
     "name": "stdout",
     "output_type": "stream",
     "text": [
      "Towns with no population value: 13888\n"
     ]
    },
    {
     "data": {
      "text/html": [
       "<div>\n",
       "<style scoped>\n",
       "    .dataframe tbody tr th:only-of-type {\n",
       "        vertical-align: middle;\n",
       "    }\n",
       "\n",
       "    .dataframe tbody tr th {\n",
       "        vertical-align: top;\n",
       "    }\n",
       "\n",
       "    .dataframe thead th {\n",
       "        text-align: right;\n",
       "    }\n",
       "</style>\n",
       "<table border=\"1\" class=\"dataframe\">\n",
       "  <thead>\n",
       "    <tr style=\"text-align: right;\">\n",
       "      <th></th>\n",
       "      <th>bedrooms</th>\n",
       "      <th>bathrooms</th>\n",
       "      <th>toilets</th>\n",
       "      <th>parking_space</th>\n",
       "      <th>title</th>\n",
       "      <th>town</th>\n",
       "      <th>state</th>\n",
       "      <th>price</th>\n",
       "    </tr>\n",
       "  </thead>\n",
       "  <tbody>\n",
       "    <tr>\n",
       "      <th>0</th>\n",
       "      <td>6.0</td>\n",
       "      <td>5.0</td>\n",
       "      <td>5.0</td>\n",
       "      <td>4.0</td>\n",
       "      <td>Detached Duplex</td>\n",
       "      <td>NaN</td>\n",
       "      <td>Abuja</td>\n",
       "      <td>450000000.0</td>\n",
       "    </tr>\n",
       "    <tr>\n",
       "      <th>1</th>\n",
       "      <td>4.0</td>\n",
       "      <td>5.0</td>\n",
       "      <td>5.0</td>\n",
       "      <td>4.0</td>\n",
       "      <td>Terraced Duplexes</td>\n",
       "      <td>NaN</td>\n",
       "      <td>Abuja</td>\n",
       "      <td>800000000.0</td>\n",
       "    </tr>\n",
       "    <tr>\n",
       "      <th>2</th>\n",
       "      <td>4.0</td>\n",
       "      <td>5.0</td>\n",
       "      <td>5.0</td>\n",
       "      <td>4.0</td>\n",
       "      <td>Detached Duplex</td>\n",
       "      <td>401272.0</td>\n",
       "      <td>Lagos</td>\n",
       "      <td>120000000.0</td>\n",
       "    </tr>\n",
       "    <tr>\n",
       "      <th>3</th>\n",
       "      <td>4.0</td>\n",
       "      <td>4.0</td>\n",
       "      <td>5.0</td>\n",
       "      <td>6.0</td>\n",
       "      <td>Detached Duplex</td>\n",
       "      <td>NaN</td>\n",
       "      <td>Lagos</td>\n",
       "      <td>40000000.0</td>\n",
       "    </tr>\n",
       "    <tr>\n",
       "      <th>4</th>\n",
       "      <td>4.0</td>\n",
       "      <td>4.0</td>\n",
       "      <td>5.0</td>\n",
       "      <td>2.0</td>\n",
       "      <td>Semi Detached Duplex</td>\n",
       "      <td>401272.0</td>\n",
       "      <td>Lagos</td>\n",
       "      <td>75000000.0</td>\n",
       "    </tr>\n",
       "  </tbody>\n",
       "</table>\n",
       "</div>"
      ],
      "text/plain": [
       "   bedrooms  bathrooms  toilets  parking_space                 title  \\\n",
       "0       6.0        5.0      5.0            4.0       Detached Duplex   \n",
       "1       4.0        5.0      5.0            4.0     Terraced Duplexes   \n",
       "2       4.0        5.0      5.0            4.0       Detached Duplex   \n",
       "3       4.0        4.0      5.0            6.0       Detached Duplex   \n",
       "4       4.0        4.0      5.0            2.0  Semi Detached Duplex   \n",
       "\n",
       "       town  state        price  \n",
       "0       NaN  Abuja  450000000.0  \n",
       "1       NaN  Abuja  800000000.0  \n",
       "2  401272.0  Lagos  120000000.0  \n",
       "3       NaN  Lagos   40000000.0  \n",
       "4  401272.0  Lagos   75000000.0  "
      ]
     },
     "execution_count": 38,
     "metadata": {},
     "output_type": "execute_result"
    }
   ],
   "source": [
    "#importing dataset\n",
    "\n",
    "town1=pd.read_csv(\"/Users/USER/Documents/DATASETS/Town_populations_nigeria.csv\")\n",
    "town1.rename(columns={'city':'town'},inplace=True)\n",
    "town1=town1[['town','population']]\n",
    "\n",
    "town2=pd.read_csv(\"/Users/USER/Documents/DATASETS/Town_populations_nigeria_2.csv\")\n",
    "town2.rename(columns={'city':'town','2022':'population'},inplace=True)\n",
    "town2=town2[['town','population']]\n",
    "\n",
    "town=pd.concat([town1,town2],axis=0)\n",
    "town2.shape\n",
    "\n",
    "map_town=dict(zip(town['town'],town['population']))\n",
    "\n",
    "data_copy=data.copy()\n",
    "\n",
    "data_copy['town']=data_copy['town'].map(map_town)\n",
    "\n",
    "print('Towns with no population value:',data_copy['town'].map(map_town).isnull().sum())\n",
    "data_copy.head()"
   ]
  },
  {
   "cell_type": "code",
   "execution_count": null,
   "id": "611d0bf3",
   "metadata": {},
   "outputs": [],
   "source": []
  },
  {
   "cell_type": "code",
   "execution_count": null,
   "id": "fbcacfd6",
   "metadata": {},
   "outputs": [],
   "source": []
  },
  {
   "cell_type": "markdown",
   "id": "9b4f9a38",
   "metadata": {},
   "source": [
    "**Power Transformer**\n",
    "\n",
    "There are two popular approaches for such automatic power transforms; they are:\n",
    "\n",
    "- Box-Cox Transform\n",
    "- Yeo-Johnson Transform\n",
    "The transformed training dataset can then be fed to a machine learning model to learn a predictive modeling task.\n",
    "\n",
    "A hyperparameter, often referred to as lambda  is used to control the nature of the transform.\n",
    "\n",
    "… statistical methods can be used to empirically identify an appropriate transformation. Box and Cox (1964) propose a family of transformations that are indexed by a parameter, denoted as lambda\n",
    "\n",
    "Below are some common values for lambda:\n",
    "\n",
    "- lambda = -1. is a reciprocal transform.\n",
    "- lambda = -0.5 is a reciprocal square root transform.\n",
    "- lambda = 0.0 is a log transform.\n",
    "- lambda = 0.5 is a square root transform.\n",
    "- lambda = 1.0 is no transform.\n",
    "\n",
    "Source: https://machinelearningmastery.com/power-transforms-with-scikit-learn/\n"
   ]
  },
  {
   "cell_type": "markdown",
   "id": "3ab6b13d",
   "metadata": {},
   "source": [
    "# EXPERIMENT 1\n",
    "FEATURE ENGINEERING:\n",
    "  - Power transformation of target variable\n",
    "  - Reducing high cardinality by replacing values less than 10 with 'others'\n",
    "  - Adding a new column\n",
    "  - Encoding columns with OneHotEncoder"
   ]
  },
  {
   "cell_type": "code",
   "execution_count": 39,
   "id": "d0e22aa3",
   "metadata": {},
   "outputs": [],
   "source": [
    "train_copy=train.copy()\n",
    "test_copy=test.copy()\n",
    "\n",
    "\n",
    "\n",
    "power = PowerTransformer(method='box-cox') \n",
    "\n",
    "\n",
    "\n",
    "ytrain=train_copy['price']\n",
    "power.fit(ytrain.to_frame())\n",
    "\n",
    "ytrain_1=power.transform(ytrain.to_frame())\n",
    "xtrain_1=train_copy.drop(['price'],axis=1)\n",
    "\n",
    "\n",
    "\n",
    "\n",
    "ytest=test_copy['price']\n",
    "y_test_1 = power.transform(ytest.to_frame())\n",
    "xtest_1 = test_copy.drop(['price'],axis=1)"
   ]
  },
  {
   "cell_type": "code",
   "execution_count": 40,
   "id": "28765217",
   "metadata": {},
   "outputs": [
    {
     "data": {
      "text/plain": [
       "<AxesSubplot:ylabel='Density'>"
      ]
     },
     "execution_count": 40,
     "metadata": {},
     "output_type": "execute_result"
    },
    {
     "data": {
      "image/png": "[encoded data removed]",
      "text/plain": [
       "<Figure size 432x288 with 1 Axes>"
      ]
     },
     "metadata": {
      "needs_background": "light"
     },
     "output_type": "display_data"
    }
   ],
   "source": [
    "sns.distplot(ytrain_1)"
   ]
  },
  {
   "cell_type": "markdown",
   "id": "87a31136",
   "metadata": {},
   "source": [
    "# BASELINE MODEL 1"
   ]
  },
  {
   "cell_type": "code",
   "execution_count": 41,
   "id": "4d4d617d",
   "metadata": {},
   "outputs": [
    {
     "name": "stdout",
     "output_type": "stream",
     "text": [
      "Mean apt price: -6.02319518965357e-16\n",
      "Baseline MAE: 0.767510159682701\n"
     ]
    }
   ],
   "source": [
    "y_mean_1=ytrain_1.mean()\n",
    "\n",
    "y_base=[y_mean_1]*len(ytrain_1)\n",
    "\n",
    "base_mae=mean_absolute_error(y_base,ytrain_1)\n",
    "print(\"Mean apt price:\", y_mean_1)\n",
    "\n",
    "print(\"Baseline MAE:\", base_mae)"
   ]
  },
  {
   "cell_type": "markdown",
   "id": "e9cbd700",
   "metadata": {},
   "source": [
    "# MODEL BUILDING 1"
   ]
  },
  {
   "cell_type": "code",
   "execution_count": 42,
   "id": "dd719402",
   "metadata": {},
   "outputs": [],
   "source": [
    "def regression_model_1(model):\n",
    "    \n",
    "    model.fit(xtrain_1,ytrain_1)\n",
    "    \n",
    "    train_pred=model.predict(xtrain_1)\n",
    "    \n",
    "    # The .reshape(-1,1) method changes a numpy array into a numpy matrix with 1 column\n",
    "    ridge_pred_reversed = power.inverse_transform(train_pred.reshape(-1,1))\n",
    "    \n",
    "    r2score=r2_score(ytrain_1,train_pred)\n",
    "    \n",
    "    mae=mean_absolute_error(train_pred,ytrain_1)\n",
    "    \n",
    "    mse=mean_squared_error(ytrain_1,train_pred)\n",
    "    \n",
    "    root_mean_squared_error=np.sqrt(mse)\n",
    "    \n",
    "    #to evaluate whether the RMSE is high or low, we can compare it with the standard deviation of the dependent variable. \n",
    "    # A RMSE value lower than the standard deviation indicates good model performance\n",
    "    \n",
    "    std=np.std(ytrain_1)\n",
    "    \n",
    "    normalised_rmse=root_mean_squared_error/(ytrain_1.max()- ytrain_1.min())\n",
    "    \n",
    "    \n",
    "    n=xtrain_1.shape[0]\n",
    "    p=xtrain_1.shape[1]\n",
    "    adjusted_r2 = 1 - (1-r2score) *(n-1)/(n-p-1)\n",
    "    \n",
    "    \n",
    "    \n",
    "    \n",
    "   \n",
    "    print('Train_Mean_absolute_error','---',mae)\n",
    "    print('Train_R2_score','---',r2score)\n",
    "    print('Train_Mean_squared_error','---',mse)\n",
    "    print('Train_Root_mean_squared_error','---',root_mean_squared_error)\n",
    "    print('Standard deviation of dependent variable','---',std)\n",
    "\n",
    "    print('Train_Adjusted_r2','---',adjusted_r2)\n",
    "    print('Train_Normalised_rmse','---',normalised_rmse)\n",
    "    print()\n",
    "    print()\n",
    "    \n",
    "    \n",
    "    sns.regplot(x=train_pred,y=ytrain_1)\n",
    "    plt.title('Residual Plot')\n",
    "    plt.xlabel('Predicted')\n",
    "    plt.ylabel('Actual values')\n",
    "    plt.show();\n",
    "    \n",
    "    stats=pd.DataFrame(ytrain_1)\n",
    "    \n",
    "    stats['Predicted']=train_pred\n",
    "    \n",
    "    stats.rename(columns={0:'Actual'},inplace=True)\n",
    "\n",
    "    stats['Residuals']=stats['Actual'] - stats['Predicted']\n",
    "\n",
    "    stats['Diff_in_%']=abs((stats['Residuals']/stats['Actual'])*100)\n",
    "\n",
    "\n",
    "\n",
    "    #to view all data\n",
    "    pd.options.display.max_rows=1000\n",
    "    stats = stats.sort_values(by='Diff_in_%')\n",
    "    print(stats)\n",
    "    return model\n",
    "    \n",
    "    \n",
    "def regression_weights_1(model):\n",
    "    model.fit(xtrain_1,ytrain_1)\n",
    "    \n",
    "    coefficients=model.coef_\n",
    "    \n",
    "    intercept=model.intercept_\n",
    "    \n",
    "    return coefficients,intercept\n"
   ]
  },
  {
   "cell_type": "markdown",
   "id": "fb9cf2ba",
   "metadata": {},
   "source": [
    "# PIPELINE 1"
   ]
  },
  {
   "cell_type": "code",
   "execution_count": 43,
   "id": "5a3cd060",
   "metadata": {},
   "outputs": [],
   "source": [
    "target_variable=['price']\n",
    "\n",
    "add_columns_variables=['bedrooms','bathrooms','toilets']\n",
    "\n",
    "categorical_variables=['title','town','state']"
   ]
  },
  {
   "cell_type": "code",
   "execution_count": 44,
   "id": "37c1bf4b",
   "metadata": {},
   "outputs": [],
   "source": [
    "from sklearn.base import BaseEstimator, TransformerMixin\n",
    "\n",
    "'''# Add a log transformation step to the pipeline\n",
    "class LogTransformer(BaseEstimator, TransformerMixin):\n",
    "    def fit(self, X, y):\n",
    "        return self\n",
    "    def transform(self, X, y=None):\n",
    "        return np.log1p(X)'''\n",
    "    \n",
    "\n",
    "# Add a step to create new columns in the pipeline\n",
    "class FeatureUp(BaseEstimator, TransformerMixin):\n",
    "    def fit(self, X, y):\n",
    "        return self\n",
    "    def transform(self, X, y=None):\n",
    "        X_copy = X.copy()\n",
    "        X_copy['total_rooms'] = X_copy['bedrooms'] + X_copy['bathrooms'] + X_copy['toilets']\n",
    "        return X_copy\n",
    "\n",
    "# Add a step to replace high cardinality variables with 'others' in the pipeline\n",
    "class ReplaceHighCardinality(BaseEstimator, TransformerMixin):\n",
    "    def __init__(self, threshold=10):\n",
    "        self.threshold = threshold\n",
    "        \n",
    "    def fit(self, X, y):\n",
    "        return self\n",
    "    \n",
    "    #def transform(self, X, y=None):\n",
    "     #   columns = np.array(X.select_dtypes(include=\"object\").columns)\n",
    "        \n",
    "      #  u = np.array([X[x].nunique() for x in columns]) >= self.threshold\n",
    "        \n",
    "       # high_cardinal_col = columns[u]\n",
    "        \n",
    "        #X = X.copy().drop(columns=high_cardinal_col)\n",
    "        # value_counts = xtrain[column].value_counts()\n",
    "        # to_replace = value_counts[value_counts <= threshold].index\n",
    "        # xtrain[column].replace(to_replace, 'others', inplace=True)\n",
    "        #return X'''\n",
    "    def transform(self,X,y=None):\n",
    "        X_copy = X.copy()\n",
    "\n",
    "        # Add a step to replace high cardinality variables with 'others' in the pipeline\n",
    "        for i in X_copy.select_dtypes('O').columns:\n",
    "            value_counts = X_copy[i].value_counts()\n",
    "            to_replace = value_counts[value_counts <= self.threshold].index\n",
    "            X_copy[i].replace(to_replace, 'others', inplace=True)\n",
    "            return X_copy\n",
    "        \n",
    "        "
   ]
  },
  {
   "cell_type": "markdown",
   "id": "5c568360",
   "metadata": {},
   "source": [
    "# RIDGE REGRESSION"
   ]
  },
  {
   "cell_type": "code",
   "execution_count": 45,
   "id": "b1626e89",
   "metadata": {},
   "outputs": [],
   "source": [
    "\n",
    "ridge=Ridge()\n",
    "\n",
    "parameters={'alpha':[1e-15,1e-8,1e-3,1e-2,1,3,5,7,9,20,40,45,55,100]}\n",
    "\n",
    "ridge_regressor_1=GridSearchCV(ridge,parameters,scoring='neg_mean_squared_error',cv=5)\n",
    "        \n",
    "\n",
    "# Create the full pipeline\n",
    "ridge_pipeline_1 = Pipeline(steps=[\n",
    "    ('create_new_columns', FeatureUp()),\n",
    "    ('replace_high_cardinality', ReplaceHighCardinality(threshold=10)),\n",
    "    #('preprocessor', preprocessor),\n",
    "    ('ohe',OneHotEncoder()),\n",
    "    #('log_transformer', LogTransformer()),\n",
    "\n",
    "    ('model', ridge_regressor_1),\n",
    "])\n",
    "\n",
    "# Fit the model"
   ]
  },
  {
   "cell_type": "code",
   "execution_count": 46,
   "id": "af7f2406",
   "metadata": {
    "scrolled": false
   },
   "outputs": [
    {
     "name": "stdout",
     "output_type": "stream",
     "text": [
      "Train_Mean_absolute_error --- 0.4030830672438648\n",
      "Train_R2_score --- 0.6511431357751158\n",
      "Train_Mean_squared_error --- 0.3488568642248841\n",
      "Train_Root_mean_squared_error --- 0.5906410620883754\n",
      "Standard deviation of dependent variable --- 1.0\n",
      "Train_Adjusted_r2 --- 0.650920386705557\n",
      "Train_Normalised_rmse --- 0.044063864897086545\n",
      "\n",
      "\n"
     ]
    },
    {
     "data": {
      "application/javascript": [
       "\n",
       "        if (window._pyforest_update_imports_cell) { window._pyforest_update_imports_cell('import matplotlib.pyplot as plt\\nfrom scipy import stats'); }\n",
       "    "
      ],
      "text/plain": [
       "<IPython.core.display.Javascript object>"
      ]
     },
     "metadata": {},
     "output_type": "display_data"
    },
    {
     "data": {
      "application/javascript": [
       "\n",
       "        if (window._pyforest_update_imports_cell) { window._pyforest_update_imports_cell('import matplotlib.pyplot as plt\\nfrom scipy import stats'); }\n",
       "    "
      ],
      "text/plain": [
       "<IPython.core.display.Javascript object>"
      ]
     },
     "metadata": {},
     "output_type": "display_data"
    },
    {
     "data": {
      "application/javascript": [
       "\n",
       "        if (window._pyforest_update_imports_cell) { window._pyforest_update_imports_cell('import matplotlib.pyplot as plt\\nfrom scipy import stats'); }\n",
       "    "
      ],
      "text/plain": [
       "<IPython.core.display.Javascript object>"
      ]
     },
     "metadata": {},
     "output_type": "display_data"
    },
    {
     "data": {
      "application/javascript": [
       "\n",
       "        if (window._pyforest_update_imports_cell) { window._pyforest_update_imports_cell('import matplotlib.pyplot as plt\\nfrom scipy import stats'); }\n",
       "    "
      ],
      "text/plain": [
       "<IPython.core.display.Javascript object>"
      ]
     },
     "metadata": {},
     "output_type": "display_data"
    },
    {
     "data": {
      "image/png": "[encoded data removed]",
      "text/plain": [
       "<Figure size 432x288 with 1 Axes>"
      ]
     },
     "metadata": {
      "needs_background": "light"
     },
     "output_type": "display_data"
    },
    {
     "name": "stdout",
     "output_type": "stream",
     "text": [
      "         Actual  Predicted     Residuals     Diff_in_%\n",
      "31    -0.984500  -0.984501  8.857288e-07      0.000090\n",
      "9507   0.521093   0.521108 -1.534031e-05      0.002944\n",
      "1568   1.002941   1.002684  2.563370e-04      0.025559\n",
      "7013  -0.566679  -0.566826  1.469114e-04      0.025925\n",
      "10578 -0.372292  -0.372410  1.188322e-04      0.031919\n",
      "...         ...        ...           ...           ...\n",
      "8191  -0.003276   0.500722 -5.039975e-01  15386.765291\n",
      "3020  -0.003276   0.505078 -5.083539e-01  15519.762950\n",
      "5650  -0.003276   0.525465 -5.287401e-01  16142.141437\n",
      "10596 -0.003276   0.609174 -6.124491e-01  18697.732715\n",
      "8695  -0.003276  -0.810605  8.073290e-01  24647.306602\n",
      "\n",
      "[10971 rows x 4 columns]\n"
     ]
    },
    {
     "data": {
      "text/plain": [
       "Pipeline(steps=[('create_new_columns', FeatureUp()),\n",
       "                ('replace_high_cardinality', ReplaceHighCardinality()),\n",
       "                ('ohe', OneHotEncoder(cols=['title', 'town', 'state'])),\n",
       "                ('model',\n",
       "                 GridSearchCV(cv=5, estimator=Ridge(),\n",
       "                              param_grid={'alpha': [1e-15, 1e-08, 0.001, 0.01,\n",
       "                                                    1, 3, 5, 7, 9, 20, 40, 45,\n",
       "                                                    55, 100]},\n",
       "                              scoring='neg_mean_squared_error'))])"
      ]
     },
     "execution_count": 46,
     "metadata": {},
     "output_type": "execute_result"
    }
   ],
   "source": [
    "regression_model_1(ridge_pipeline_1)"
   ]
  },
  {
   "cell_type": "markdown",
   "id": "05fd395b",
   "metadata": {},
   "source": [
    "# LASSO REGRESSION"
   ]
  },
  {
   "cell_type": "code",
   "execution_count": 47,
   "id": "ab164d47",
   "metadata": {},
   "outputs": [],
   "source": [
    "      \n",
    "        \n",
    "lasso=Lasso()\n",
    "parameters={'alpha':[1e-15,1e-8,1e-3,1e-2,1,3,5,7,9,20,40,45,55,100]}\n",
    "\n",
    "lasso_regressor_1=GridSearchCV(lasso,parameters,scoring='neg_mean_squared_error',cv=5)\n",
    "        \n",
    "\n",
    "\n",
    "# Create the full pipeline\n",
    "lasso_pipeline_1 = Pipeline(steps=[\n",
    "    ('create_new_columns', FeatureUp()),\n",
    "    ('replace_high_cardinality', ReplaceHighCardinality(threshold=10)),\n",
    "    #('preprocessor', preprocessor),\n",
    "    ('ohe',OneHotEncoder()),\n",
    "    #('log_transformer', LogTransformer()),\n",
    "\n",
    "    ('model', lasso_regressor_1),\n",
    "])\n",
    "\n",
    "# Fit the model"
   ]
  },
  {
   "cell_type": "code",
   "execution_count": 48,
   "id": "34caa037",
   "metadata": {},
   "outputs": [
    {
     "name": "stdout",
     "output_type": "stream",
     "text": [
      "Train_Mean_absolute_error --- 0.39995894969779167\n",
      "Train_R2_score --- 0.6553314539711856\n",
      "Train_Mean_squared_error --- 0.34466854602881436\n",
      "Train_Root_mean_squared_error --- 0.5870847860648531\n",
      "Standard deviation of dependent variable --- 1.0\n",
      "Train_Adjusted_r2 --- 0.6551113791903591\n",
      "Train_Normalised_rmse --- 0.04379855441277452\n",
      "\n",
      "\n"
     ]
    },
    {
     "data": {
      "application/javascript": [
       "\n",
       "        if (window._pyforest_update_imports_cell) { window._pyforest_update_imports_cell('import matplotlib.pyplot as plt\\nfrom scipy import stats'); }\n",
       "    "
      ],
      "text/plain": [
       "<IPython.core.display.Javascript object>"
      ]
     },
     "metadata": {},
     "output_type": "display_data"
    },
    {
     "data": {
      "application/javascript": [
       "\n",
       "        if (window._pyforest_update_imports_cell) { window._pyforest_update_imports_cell('import matplotlib.pyplot as plt\\nfrom scipy import stats'); }\n",
       "    "
      ],
      "text/plain": [
       "<IPython.core.display.Javascript object>"
      ]
     },
     "metadata": {},
     "output_type": "display_data"
    },
    {
     "data": {
      "application/javascript": [
       "\n",
       "        if (window._pyforest_update_imports_cell) { window._pyforest_update_imports_cell('import matplotlib.pyplot as plt\\nfrom scipy import stats'); }\n",
       "    "
      ],
      "text/plain": [
       "<IPython.core.display.Javascript object>"
      ]
     },
     "metadata": {},
     "output_type": "display_data"
    },
    {
     "data": {
      "application/javascript": [
       "\n",
       "        if (window._pyforest_update_imports_cell) { window._pyforest_update_imports_cell('import matplotlib.pyplot as plt\\nfrom scipy import stats'); }\n",
       "    "
      ],
      "text/plain": [
       "<IPython.core.display.Javascript object>"
      ]
     },
     "metadata": {},
     "output_type": "display_data"
    },
    {
     "data": {
      "image/png": "[encoded data removed]",
      "text/plain": [
       "<Figure size 432x288 with 1 Axes>"
      ]
     },
     "metadata": {
      "needs_background": "light"
     },
     "output_type": "display_data"
    },
    {
     "name": "stdout",
     "output_type": "stream",
     "text": [
      "         Actual  Predicted  Residuals     Diff_in_%\n",
      "1904   0.432002   0.431994   0.000008      0.001820\n",
      "5099  -2.325833  -2.325778  -0.000055      0.002359\n",
      "5233  -3.740416  -3.740307  -0.000109      0.002919\n",
      "9903  -1.451818  -1.451763  -0.000055      0.003778\n",
      "5731  -2.610037  -2.609935  -0.000103      0.003932\n",
      "...         ...        ...        ...           ...\n",
      "8191  -0.003276   0.498942  -0.502218  15332.426750\n",
      "3020  -0.003276   0.504012  -0.507288  15487.219256\n",
      "5650  -0.003276   0.525546  -0.528822  16144.639102\n",
      "10596 -0.003276   0.636531  -0.639807  19532.943089\n",
      "8695  -0.003276  -0.808563   0.805288  24584.986205\n",
      "\n",
      "[10971 rows x 4 columns]\n"
     ]
    },
    {
     "data": {
      "text/plain": [
       "Pipeline(steps=[('create_new_columns', FeatureUp()),\n",
       "                ('replace_high_cardinality', ReplaceHighCardinality()),\n",
       "                ('ohe', OneHotEncoder(cols=['title', 'town', 'state'])),\n",
       "                ('model',\n",
       "                 GridSearchCV(cv=5, estimator=Lasso(),\n",
       "                              param_grid={'alpha': [1e-15, 1e-08, 0.001, 0.01,\n",
       "                                                    1, 3, 5, 7, 9, 20, 40, 45,\n",
       "                                                    55, 100]},\n",
       "                              scoring='neg_mean_squared_error'))])"
      ]
     },
     "execution_count": 48,
     "metadata": {},
     "output_type": "execute_result"
    }
   ],
   "source": [
    "regression_model_1(lasso_pipeline_1)"
   ]
  },
  {
   "cell_type": "markdown",
   "id": "ab7ee3e6",
   "metadata": {},
   "source": [
    "# ELASTIC NET REGRESSION"
   ]
  },
  {
   "cell_type": "code",
   "execution_count": 49,
   "id": "b35d20b1",
   "metadata": {},
   "outputs": [],
   "source": [
    "        \n",
    "enet=ElasticNet()\n",
    "\n",
    "parameters={'alpha':[1e-15,1e-8,1e-3,1e-2,0.1,1,3,5,7,9,20,40,45,55,100]}\n",
    "\n",
    "enet_regressor_1=GridSearchCV(enet,parameters,scoring='neg_mean_squared_error',cv=5)\n",
    "        \n",
    "\n",
    "# Create the full pipeline\n",
    "enet_pipeline_1 = Pipeline(steps=[\n",
    "    ('create_new_columns', FeatureUp()),\n",
    "    ('replace_high_cardinality', ReplaceHighCardinality(threshold=10)),\n",
    "    #('preprocessor', preprocessor),\n",
    "    ('ohe',OneHotEncoder()),\n",
    "    #('log_transformer', LogTransformer()),\n",
    "\n",
    "    ('model', enet_regressor_1),\n",
    "])\n",
    "\n",
    "# Fit the model"
   ]
  },
  {
   "cell_type": "code",
   "execution_count": 50,
   "id": "f1b04278",
   "metadata": {},
   "outputs": [
    {
     "name": "stdout",
     "output_type": "stream",
     "text": [
      "Train_Mean_absolute_error --- 0.3999589510410107\n",
      "Train_R2_score --- 0.6553314538576307\n",
      "Train_Mean_squared_error --- 0.34466854614236936\n",
      "Train_Root_mean_squared_error --- 0.587084786161564\n",
      "Standard deviation of dependent variable --- 1.0\n",
      "Train_Adjusted_r2 --- 0.6551113790767316\n",
      "Train_Normalised_rmse --- 0.043798554419989484\n",
      "\n",
      "\n"
     ]
    },
    {
     "data": {
      "application/javascript": [
       "\n",
       "        if (window._pyforest_update_imports_cell) { window._pyforest_update_imports_cell('import matplotlib.pyplot as plt\\nfrom scipy import stats'); }\n",
       "    "
      ],
      "text/plain": [
       "<IPython.core.display.Javascript object>"
      ]
     },
     "metadata": {},
     "output_type": "display_data"
    },
    {
     "data": {
      "application/javascript": [
       "\n",
       "        if (window._pyforest_update_imports_cell) { window._pyforest_update_imports_cell('import matplotlib.pyplot as plt\\nfrom scipy import stats'); }\n",
       "    "
      ],
      "text/plain": [
       "<IPython.core.display.Javascript object>"
      ]
     },
     "metadata": {},
     "output_type": "display_data"
    },
    {
     "data": {
      "application/javascript": [
       "\n",
       "        if (window._pyforest_update_imports_cell) { window._pyforest_update_imports_cell('import matplotlib.pyplot as plt\\nfrom scipy import stats'); }\n",
       "    "
      ],
      "text/plain": [
       "<IPython.core.display.Javascript object>"
      ]
     },
     "metadata": {},
     "output_type": "display_data"
    },
    {
     "data": {
      "application/javascript": [
       "\n",
       "        if (window._pyforest_update_imports_cell) { window._pyforest_update_imports_cell('import matplotlib.pyplot as plt\\nfrom scipy import stats'); }\n",
       "    "
      ],
      "text/plain": [
       "<IPython.core.display.Javascript object>"
      ]
     },
     "metadata": {},
     "output_type": "display_data"
    },
    {
     "data": {
      "image/png": "[encoded data removed]",
      "text/plain": [
       "<Figure size 432x288 with 1 Axes>"
      ]
     },
     "metadata": {
      "needs_background": "light"
     },
     "output_type": "display_data"
    },
    {
     "name": "stdout",
     "output_type": "stream",
     "text": [
      "         Actual  Predicted  Residuals     Diff_in_%\n",
      "9903  -1.451818  -1.451842   0.000024      0.001647\n",
      "1904   0.432002   0.431995   0.000007      0.001698\n",
      "5099  -2.325833  -2.325744  -0.000089      0.003816\n",
      "2701  -2.325833  -2.325725  -0.000108      0.004655\n",
      "4482  -2.046367  -2.046264  -0.000103      0.005047\n",
      "...         ...        ...        ...           ...\n",
      "8191  -0.003276   0.498942  -0.502218  15332.429227\n",
      "3020  -0.003276   0.504013  -0.507288  15487.222043\n",
      "5650  -0.003276   0.525546  -0.528822  16144.642865\n",
      "10596 -0.003276   0.636531  -0.639807  19532.941313\n",
      "8695  -0.003276  -0.808563   0.805288  24584.981035\n",
      "\n",
      "[10971 rows x 4 columns]\n"
     ]
    },
    {
     "data": {
      "text/plain": [
       "Pipeline(steps=[('create_new_columns', FeatureUp()),\n",
       "                ('replace_high_cardinality', ReplaceHighCardinality()),\n",
       "                ('ohe', OneHotEncoder(cols=['title', 'town', 'state'])),\n",
       "                ('model',\n",
       "                 GridSearchCV(cv=5, estimator=ElasticNet(),\n",
       "                              param_grid={'alpha': [1e-15, 1e-08, 0.001, 0.01,\n",
       "                                                    0.1, 1, 3, 5, 7, 9, 20, 40,\n",
       "                                                    45, 55, 100]},\n",
       "                              scoring='neg_mean_squared_error'))])"
      ]
     },
     "execution_count": 50,
     "metadata": {},
     "output_type": "execute_result"
    }
   ],
   "source": [
    "regression_model_1(enet_pipeline_1)"
   ]
  },
  {
   "cell_type": "markdown",
   "id": "f0397e53",
   "metadata": {},
   "source": [
    "# DECISION TREE REGRESSOR"
   ]
  },
  {
   "cell_type": "code",
   "execution_count": 51,
   "id": "61320514",
   "metadata": {},
   "outputs": [],
   "source": [
    "\n",
    "\n",
    " \n",
    "tree_regressor_1=DecisionTreeRegressor()\n",
    "\n",
    "\n",
    "# Create the full pipeline\n",
    "tree_pipeline_1 = Pipeline(steps=[\n",
    "    ('create_new_columns', FeatureUp()),\n",
    "    ('replace_high_cardinality', ReplaceHighCardinality(threshold=10)),\n",
    "    #('preprocessor', preprocessor),\n",
    "    ('ohe',OneHotEncoder()),\n",
    "    #('log_transformer', LogTransformer()),\n",
    "\n",
    "    ('model', tree_regressor_1),\n",
    "])\n",
    "\n",
    "# Fit the model"
   ]
  },
  {
   "cell_type": "code",
   "execution_count": 52,
   "id": "7ca9af80",
   "metadata": {},
   "outputs": [
    {
     "name": "stdout",
     "output_type": "stream",
     "text": [
      "Train_Mean_absolute_error --- 0.20063116397613504\n",
      "Train_R2_score --- 0.85454118578372\n",
      "Train_Mean_squared_error --- 0.14545881421628007\n",
      "Train_Root_mean_squared_error --- 0.38139063205102464\n",
      "Standard deviation of dependent variable --- 1.0\n",
      "Train_Adjusted_r2 --- 0.8544483086789572\n",
      "Train_Normalised_rmse --- 0.028453059501637297\n",
      "\n",
      "\n"
     ]
    },
    {
     "data": {
      "application/javascript": [
       "\n",
       "        if (window._pyforest_update_imports_cell) { window._pyforest_update_imports_cell('import matplotlib.pyplot as plt\\nfrom scipy import stats'); }\n",
       "    "
      ],
      "text/plain": [
       "<IPython.core.display.Javascript object>"
      ]
     },
     "metadata": {},
     "output_type": "display_data"
    },
    {
     "data": {
      "application/javascript": [
       "\n",
       "        if (window._pyforest_update_imports_cell) { window._pyforest_update_imports_cell('import matplotlib.pyplot as plt\\nfrom scipy import stats'); }\n",
       "    "
      ],
      "text/plain": [
       "<IPython.core.display.Javascript object>"
      ]
     },
     "metadata": {},
     "output_type": "display_data"
    },
    {
     "data": {
      "application/javascript": [
       "\n",
       "        if (window._pyforest_update_imports_cell) { window._pyforest_update_imports_cell('import matplotlib.pyplot as plt\\nfrom scipy import stats'); }\n",
       "    "
      ],
      "text/plain": [
       "<IPython.core.display.Javascript object>"
      ]
     },
     "metadata": {},
     "output_type": "display_data"
    },
    {
     "data": {
      "application/javascript": [
       "\n",
       "        if (window._pyforest_update_imports_cell) { window._pyforest_update_imports_cell('import matplotlib.pyplot as plt\\nfrom scipy import stats'); }\n",
       "    "
      ],
      "text/plain": [
       "<IPython.core.display.Javascript object>"
      ]
     },
     "metadata": {},
     "output_type": "display_data"
    },
    {
     "data": {
      "image/png": "[encoded data removed]",
      "text/plain": [
       "<Figure size 432x288 with 1 Axes>"
      ]
     },
     "metadata": {
      "needs_background": "light"
     },
     "output_type": "display_data"
    },
    {
     "name": "stdout",
     "output_type": "stream",
     "text": [
      "        Actual  Predicted  Residuals     Diff_in_%\n",
      "0    -1.283422  -1.283422   0.000000      0.000000\n",
      "5699 -1.142438  -1.142438   0.000000      0.000000\n",
      "5697  1.629439   1.629439   0.000000      0.000000\n",
      "5696 -0.984500  -0.984500   0.000000      0.000000\n",
      "5694 -0.146957  -0.146957   0.000000      0.000000\n",
      "...        ...        ...        ...           ...\n",
      "815   0.007610   0.718241  -0.710632   9338.731645\n",
      "450  -0.003276   0.386521  -0.389797  11900.285572\n",
      "8191 -0.003276   0.594510  -0.597786  18250.074093\n",
      "5650 -0.003276   0.617276  -0.620551  18945.080241\n",
      "3020 -0.003276   0.630589  -0.633865  19351.542860\n",
      "\n",
      "[10971 rows x 4 columns]\n"
     ]
    },
    {
     "data": {
      "text/plain": [
       "Pipeline(steps=[('create_new_columns', FeatureUp()),\n",
       "                ('replace_high_cardinality', ReplaceHighCardinality()),\n",
       "                ('ohe', OneHotEncoder(cols=['title', 'town', 'state'])),\n",
       "                ('model', DecisionTreeRegressor())])"
      ]
     },
     "execution_count": 52,
     "metadata": {},
     "output_type": "execute_result"
    }
   ],
   "source": [
    "decision_tree_model_1=regression_model_1(tree_pipeline_1)\n",
    "decision_tree_model_1"
   ]
  },
  {
   "cell_type": "markdown",
   "id": "34af81f7",
   "metadata": {},
   "source": [
    "# XGBOOST REGRESSOR"
   ]
  },
  {
   "cell_type": "markdown",
   "id": "19ca5e1f",
   "metadata": {},
   "source": [
    "### ABOUT XGBOOST\n",
    "XGBoost was the first of The Big Three gradient boosting frameworks, released in 2014. The other two are LightGBM by Microsoft and launched in 2016, and CatBoost by Yandex, launched in 2017. Each of these frameworks are magnificent tools to tackling tabular data problems, using either regression or classification.\n",
    "\n",
    "\n",
    "**What is 'boosting'?**<BR>\n",
    "First there was a tree. The underlying element of these technique is the decision tree. Decision trees were one of the first algorithms, dating back to the 1980s with examples such as CART, and ID3, C4.5 and C5.0 by Quinlan. Trees are wonderfully intuitive leading to easily interpretable results. In view of this the most important hyperparameter for the DecisionTreeRegressor is the max_depth, although being a tree perhaps this should have really been called the maximum height... However, despite the appealing aspects such as few hyperparameters and interpretability, the drawback of decision trees is their high variance; a slight change in the input data can lead to a radically different tree structure. A similar thing can happen if there are collinear variables present. Sometimes individual decision trees are know as weak predictors, or weak learners.\n",
    "\n",
    "\n",
    "Then we have a forest. As we all know, listening to many opinions and taking an average leads to a more balanced consensus. With this in mind, why not randomly plant a lot of trees and then ensemble them into one aggregate output. Each of the trees are slightly different in that they are grown from a subset (for example  n−−√  of  n ) of randomly selected features, which are taken from a \"bootstrapped\" copy of the dataset which consists of  ≈63%  samples taken (with replacement) from the original dataset. We now have the random forest, which outperforms the individual decision tree. \n",
    "\n",
    "\n",
    " Random forests are great in reducing the variance with respect to a single decision tree, are particularly immune to overfitting, and are wonderful for obtaining a baseline score against which to compare more extravagant techniques. For more details see the introduction by Breiman and Cutler who invented the Random Forest in the early 2000's. With the RandomForestRegressor the most important hyperparameters are now max_depth as before, as well as n_estimators; which is the number of trees in the forest.\n",
    "\n",
    "Gradient boosting. This time, instead of simultaneously planting a load of independent trees all at once at random (bootstrapping and aggregating aka. bagging), each successive tree that we plant is weighted in such a way as to compensate for any weakness (residual errors) in the previous tree. This is known as boosting. We have the hyperparameters max_depth, n_estimators as before, and now we have a learning_rate hyperparameter which is between 0 and 1, and controls the amount of shrinkage when creating each successive new tree.\n",
    "\n",
    "GPU Useage: For large and computationally intensive problems XGBoost has GPU support and thus can be ran on GPU's rather than on the CPU. This can be done by using the parameter\n",
    "\n",
    "XGBRegressor(tree_method='gpu_hist')\n",
    "    \n",
    "SOURCE: https://www.kaggle.com/code/carlmcbrideellis/an-introduction-to-xgboost-regression\n",
    "    "
   ]
  },
  {
   "cell_type": "code",
   "execution_count": 53,
   "id": "507bd494",
   "metadata": {},
   "outputs": [],
   "source": [
    "\n",
    "        \n",
    "xgb_=xgb.XGBRegressor()\n",
    "\n",
    "\n",
    "parameters = {\"max_depth\":    [2,3,4,5,],\n",
    "              \"n_estimators\": [80,100,150,200,500],\n",
    "              \"learning_rate\": [0.0001,0.001,0.01, 0.015]}\n",
    "\n",
    "# try out every combination of the above values\n",
    "xgb_regressor_1 = GridSearchCV(xgb_, parameters, scoring='neg_mean_squared_error',cv=3)\n",
    "\n",
    "\n",
    "# Create the full pipeline\n",
    "xgb_pipeline_1 = Pipeline(steps=[\n",
    "    ('create_new_columns', FeatureUp()),\n",
    "    ('replace_high_cardinality', ReplaceHighCardinality(threshold=10)),\n",
    "    #('preprocessor', preprocessor),\n",
    "    ('ohe',OneHotEncoder()),\n",
    "    #('log_transformer', LogTransformer()),\n",
    "\n",
    "    ('model', xgb_regressor_1),\n",
    "])\n",
    "\n",
    "# Fit the model"
   ]
  },
  {
   "cell_type": "code",
   "execution_count": 54,
   "id": "c044f5ac",
   "metadata": {},
   "outputs": [
    {
     "name": "stdout",
     "output_type": "stream",
     "text": [
      "Train_Mean_absolute_error --- 0.38848267706726697\n",
      "Train_R2_score --- 0.6798215745687477\n",
      "Train_Mean_squared_error --- 0.3201784254312523\n",
      "Train_Root_mean_squared_error --- 0.565843110262246\n",
      "Standard deviation of dependent variable --- 1.0\n",
      "Train_Adjusted_r2 --- 0.6796171370080418\n",
      "Train_Normalised_rmse --- 0.04221385197193111\n",
      "\n",
      "\n"
     ]
    },
    {
     "data": {
      "application/javascript": [
       "\n",
       "        if (window._pyforest_update_imports_cell) { window._pyforest_update_imports_cell('import matplotlib.pyplot as plt\\nfrom scipy import stats'); }\n",
       "    "
      ],
      "text/plain": [
       "<IPython.core.display.Javascript object>"
      ]
     },
     "metadata": {},
     "output_type": "display_data"
    },
    {
     "data": {
      "application/javascript": [
       "\n",
       "        if (window._pyforest_update_imports_cell) { window._pyforest_update_imports_cell('import matplotlib.pyplot as plt\\nfrom scipy import stats'); }\n",
       "    "
      ],
      "text/plain": [
       "<IPython.core.display.Javascript object>"
      ]
     },
     "metadata": {},
     "output_type": "display_data"
    },
    {
     "data": {
      "application/javascript": [
       "\n",
       "        if (window._pyforest_update_imports_cell) { window._pyforest_update_imports_cell('import matplotlib.pyplot as plt\\nfrom scipy import stats'); }\n",
       "    "
      ],
      "text/plain": [
       "<IPython.core.display.Javascript object>"
      ]
     },
     "metadata": {},
     "output_type": "display_data"
    },
    {
     "data": {
      "application/javascript": [
       "\n",
       "        if (window._pyforest_update_imports_cell) { window._pyforest_update_imports_cell('import matplotlib.pyplot as plt\\nfrom scipy import stats'); }\n",
       "    "
      ],
      "text/plain": [
       "<IPython.core.display.Javascript object>"
      ]
     },
     "metadata": {},
     "output_type": "display_data"
    },
    {
     "data": {
      "image/png": "[encoded data removed]",
      "text/plain": [
       "<Figure size 432x288 with 1 Axes>"
      ]
     },
     "metadata": {
      "needs_background": "light"
     },
     "output_type": "display_data"
    },
    {
     "name": "stdout",
     "output_type": "stream",
     "text": [
      "         Actual  Predicted  Residuals     Diff_in_%\n",
      "2574  -0.736306  -0.736380   0.000073      0.009963\n",
      "101   -0.736306  -0.736380   0.000073      0.009963\n",
      "3483  -1.585251  -1.585019  -0.000232      0.014665\n",
      "10336  0.215613   0.215663  -0.000049      0.022931\n",
      "4990  -0.984500  -0.984139  -0.000361      0.036715\n",
      "...         ...        ...        ...           ...\n",
      "4885  -0.003276   0.316942  -0.320218   9776.075443\n",
      "8695  -0.003276  -0.529928   0.526652  16078.401431\n",
      "3020  -0.003276   0.594756  -0.598031  18257.556373\n",
      "8191  -0.003276   0.594756  -0.598031  18257.556373\n",
      "5650  -0.003276   0.594756  -0.598031  18257.556373\n",
      "\n",
      "[10971 rows x 4 columns]\n"
     ]
    },
    {
     "data": {
      "text/plain": [
       "Pipeline(steps=[('create_new_columns', FeatureUp()),\n",
       "                ('replace_high_cardinality', ReplaceHighCardinality()),\n",
       "                ('ohe', OneHotEncoder(cols=['title', 'town', 'state'])),\n",
       "                ('model',\n",
       "                 GridSearchCV(cv=3,\n",
       "                              estimator=XGBRegressor(base_score=None,\n",
       "                                                     booster=None,\n",
       "                                                     callbacks=None,\n",
       "                                                     colsample_bylevel=None,\n",
       "                                                     colsample_bynode=None,\n",
       "                                                     colsample_bytree=None,\n",
       "                                                     early_stopping_rounds=None,\n",
       "                                                     enab...\n",
       "                                                     max_depth=None,\n",
       "                                                     max_leaves=None,\n",
       "                                                     min_child_weight=None,\n",
       "                                                     missing=nan,\n",
       "                                                     monotone_constraints=None,\n",
       "                                                     n_estimators=100,\n",
       "                                                     n_jobs=None,\n",
       "                                                     num_parallel_tree=None,\n",
       "                                                     predictor=None,\n",
       "                                                     random_state=None,\n",
       "                                                     reg_alpha=None,\n",
       "                                                     reg_lambda=None, ...),\n",
       "                              param_grid={'learning_rate': [0.0001, 0.001, 0.01,\n",
       "                                                            0.015],\n",
       "                                          'max_depth': [2, 3, 4, 5],\n",
       "                                          'n_estimators': [80, 100, 150, 200,\n",
       "                                                           500]},\n",
       "                              scoring='neg_mean_squared_error'))])"
      ]
     },
     "execution_count": 54,
     "metadata": {},
     "output_type": "execute_result"
    }
   ],
   "source": [
    "regression_model_1(xgb_pipeline_1)"
   ]
  },
  {
   "cell_type": "markdown",
   "id": "c28f7ae8",
   "metadata": {},
   "source": [
    "# EXPERIMENT 2\n",
    "FEATURE ENGINEERING:\n",
    "  - Removing outliers from the target variable\n",
    "  - Reducing high cardinality by replacing values less than 10 with 'others'\n",
    "  - Adding a new column\n",
    "  - Encoding columns with OneHotEncoder"
   ]
  },
  {
   "cell_type": "code",
   "execution_count": 55,
   "id": "f21da60c",
   "metadata": {},
   "outputs": [],
   "source": [
    "train_copy=train.copy()\n",
    "test_copy=test.copy()"
   ]
  },
  {
   "cell_type": "code",
   "execution_count": 56,
   "id": "566e2b37",
   "metadata": {},
   "outputs": [],
   "source": [
    "# Outlier removal\n",
    "def Remove_Outliers(data):\n",
    "    '''This function removes outliers from the data variable. \n",
    "    It filters out outliers above the 99th quantile and below 1st quantile'''\n",
    "\n",
    "    mini,maxi=data['price'].quantile([0.01,0.99])\n",
    "\n",
    "    mask = data['price'].between(mini,maxi)\n",
    "\n",
    "    data=data[mask]\n",
    "    return data"
   ]
  },
  {
   "cell_type": "code",
   "execution_count": 57,
   "id": "095a6e8d",
   "metadata": {},
   "outputs": [],
   "source": [
    "train_copy_2=Remove_Outliers(train_copy)\n",
    "\n",
    "test_copy_2=Remove_Outliers(test_copy)\n"
   ]
  },
  {
   "cell_type": "code",
   "execution_count": 58,
   "id": "374f0a60",
   "metadata": {},
   "outputs": [],
   "source": [
    "ytrain_2=train_copy_2['price']\n",
    "xtrain_2=train_copy_2.drop(['price'],axis=1)"
   ]
  },
  {
   "cell_type": "code",
   "execution_count": 59,
   "id": "7625a985",
   "metadata": {},
   "outputs": [
    {
     "data": {
      "text/plain": [
       "<AxesSubplot:xlabel='price', ylabel='Density'>"
      ]
     },
     "execution_count": 59,
     "metadata": {},
     "output_type": "execute_result"
    },
    {
     "data": {
      "image/png": "[encoded data removed]",
      "text/plain": [
       "<Figure size 432x288 with 1 Axes>"
      ]
     },
     "metadata": {
      "needs_background": "light"
     },
     "output_type": "display_data"
    }
   ],
   "source": [
    "sns.distplot(ytrain_2)"
   ]
  },
  {
   "cell_type": "markdown",
   "id": "d7ef608b",
   "metadata": {},
   "source": [
    "# BASELINE MODEL 2"
   ]
  },
  {
   "cell_type": "code",
   "execution_count": 60,
   "id": "5e94f712",
   "metadata": {},
   "outputs": [
    {
     "name": "stdout",
     "output_type": "stream",
     "text": [
      "Mean apt price: 151785826.13367394\n",
      "Baseline MAE: 133766259.24622248\n"
     ]
    }
   ],
   "source": [
    "y_mean_2=ytrain_2.mean()\n",
    "\n",
    "y_base=[y_mean_2]*len(ytrain_2)\n",
    "\n",
    "base_mae=mean_absolute_error(y_base,ytrain_2)\n",
    "print(\"Mean apt price:\", y_mean_2)\n",
    "\n",
    "print(\"Baseline MAE:\", base_mae)"
   ]
  },
  {
   "cell_type": "markdown",
   "id": "25e0cffd",
   "metadata": {},
   "source": [
    "# MODEL BUILDING 2"
   ]
  },
  {
   "cell_type": "code",
   "execution_count": 61,
   "id": "4fc3f6db",
   "metadata": {},
   "outputs": [],
   "source": [
    "def regression_model_2(model):\n",
    "    \n",
    "    model.fit(xtrain_2,ytrain_2)\n",
    "    \n",
    "    train_pred=model.predict(xtrain_2)\n",
    "    \n",
    "    r2score=r2_score(ytrain_2,train_pred)\n",
    "    \n",
    "    mae=mean_absolute_error(train_pred,ytrain_2)\n",
    "    \n",
    "    mse=mean_squared_error(ytrain_2,train_pred)\n",
    "    \n",
    "     #to evaluate whether the RMSE is high or low, we can compare it with the standard deviation of the dependent variable. \n",
    "    # A RMSE value lower than the standard deviation indicates good model performance\n",
    "    \n",
    "    std=np.std(ytrain_1)\n",
    "    \n",
    "    root_mean_squared_error=np.sqrt(mse)\n",
    "    \n",
    "    normalised_rmse=root_mean_squared_error/(ytrain_2.max()- ytrain_2.min())\n",
    "    \n",
    "    \n",
    "    n=xtrain_2.shape[0]\n",
    "    p=xtrain_2.shape[1]\n",
    "    adjusted_r2 = 1 - (1-r2score) *(n-1)/(n-p-1)\n",
    "    \n",
    "    \n",
    "    \n",
    "    \n",
    "   \n",
    "    print('Train_Mean_absolute_error','---',mae)\n",
    "    print('Train_R2_score','---',r2score)\n",
    "    print('Train_Mean_squared_error','---',mse)\n",
    "    print('Train_Root_mean_squared_error','---',root_mean_squared_error)\n",
    "    print('Standard deviation of dependent variable','---',std)\n",
    "\n",
    "    print('Train_Adjusted_r2','---',adjusted_r2)\n",
    "    print('Train_Normalised_rmse','---',normalised_rmse)\n",
    "    print()\n",
    "    print()\n",
    "    \n",
    "    \n",
    "    sns.regplot(x=train_pred,y=ytrain_2)\n",
    "    plt.title('Residual Plot')\n",
    "    plt.xlabel('Predicted')\n",
    "    plt.ylabel('Actual values')\n",
    "    plt.show();\n",
    "    \n",
    "    stat=pd.DataFrame(ytrain_2)\n",
    "    \n",
    "    stat['Predicted']=train_pred\n",
    "    \n",
    "    stat.rename(columns={0:'Actual'},inplace=True)\n",
    "\n",
    "    stat['Residuals']=stat.iloc[:,0] - stat['Predicted']\n",
    "\n",
    "    stat['Diff_in_%']=abs((stat['Residuals']/stat.iloc[:,0])*100)\n",
    "\n",
    "\n",
    "\n",
    "    #to view all data\n",
    "    pd.options.display.max_rows=1000\n",
    "    stat= stat.sort_values(by='Diff_in_%')\n",
    "    print(stat)\n",
    "    return model\n",
    "    \n",
    "def regression_weights(model):\n",
    "    model.fit(xtrain_2,ytrain_2)\n",
    "    \n",
    "    coefficients=model.coef_\n",
    "    \n",
    "    intercept=model.intercept_\n",
    "    \n",
    "    return coefficients,intercept\n"
   ]
  },
  {
   "cell_type": "markdown",
   "id": "2986895e",
   "metadata": {},
   "source": [
    "# PIPELINE 2"
   ]
  },
  {
   "cell_type": "code",
   "execution_count": 62,
   "id": "d63bfecf",
   "metadata": {},
   "outputs": [],
   "source": [
    "from sklearn.base import BaseEstimator, TransformerMixin\n",
    "\n",
    "# Add a step to create new columns in the pipeline\n",
    "class FeatureUp(BaseEstimator, TransformerMixin):\n",
    "    def fit(self, X, y):\n",
    "        return self\n",
    "    def transform(self, X, y=None):\n",
    "        X_copy = X.copy()\n",
    "        X_copy['total_rooms'] = X_copy['bedrooms'] + X_copy['bathrooms'] + X_copy['toilets']\n",
    "        return X_copy\n",
    "\n",
    "# Add a step to replace high cardinality variables with 'others' in the pipeline\n",
    "class ReplaceHighCardinality(BaseEstimator, TransformerMixin):\n",
    "    def __init__(self, threshold=10):\n",
    "        self.threshold = threshold\n",
    "        \n",
    "    def fit(self, X, y):\n",
    "        return self\n",
    "      \n",
    "   \n",
    "    def transform(self,X,y=None):\n",
    "        X_copy = X.copy()\n",
    "\n",
    "        # Add a step to replace high cardinality variables with 'others' in the pipeline\n",
    "        for i in X_copy.select_dtypes('O').columns:\n",
    "            value_counts = X_copy[i].value_counts()\n",
    "            to_replace = value_counts[value_counts <= self.threshold].index\n",
    "            X_copy[i].replace(to_replace, 'others', inplace=True)\n",
    "            return X_copy\n"
   ]
  },
  {
   "cell_type": "markdown",
   "id": "c61ca7fe",
   "metadata": {},
   "source": [
    "# RIDGE REGRESSION"
   ]
  },
  {
   "cell_type": "code",
   "execution_count": 63,
   "id": "82512cde",
   "metadata": {},
   "outputs": [],
   "source": [
    "      \n",
    "ridge=Ridge()\n",
    "\n",
    "parameters={'alpha':[1e-15,1e-8,1e-3,1e-2,1,3,5,7,9,20,40,45,55,100]}\n",
    "\n",
    "ridge_regressor_2=GridSearchCV(ridge,parameters,scoring='neg_mean_squared_error',cv=5)\n",
    "        \n",
    "\n",
    "# Create the full pipeline\n",
    "ridge_pipeline_2 = Pipeline(steps=[\n",
    "    ('create_new_columns', FeatureUp()),\n",
    "    ('replace_high_cardinality', ReplaceHighCardinality(threshold=10)),\n",
    "    #('preprocessor', preprocessor),\n",
    "    ('oe',OneHotEncoder()),\n",
    "    #('log_transformer', LogTransformer()),\n",
    "\n",
    "    ('model', ridge_regressor_2),\n",
    "])\n",
    "\n",
    "# Fit the model"
   ]
  },
  {
   "cell_type": "code",
   "execution_count": 64,
   "id": "f3af73f6",
   "metadata": {},
   "outputs": [
    {
     "name": "stdout",
     "output_type": "stream",
     "text": [
      "Train_Mean_absolute_error --- 84686678.42944816\n",
      "Train_R2_score --- 0.5171772215432724\n",
      "Train_Mean_squared_error --- 2.4721115052487436e+16\n",
      "Train_Root_mean_squared_error --- 157229498.035475\n",
      "Standard deviation of dependent variable --- 1.0\n",
      "Train_Adjusted_r2 --- 0.5168630299053438\n",
      "Train_Normalised_rmse --- 0.09863833000970827\n",
      "\n",
      "\n"
     ]
    },
    {
     "data": {
      "application/javascript": [
       "\n",
       "        if (window._pyforest_update_imports_cell) { window._pyforest_update_imports_cell('import matplotlib.pyplot as plt\\nfrom scipy import stats'); }\n",
       "    "
      ],
      "text/plain": [
       "<IPython.core.display.Javascript object>"
      ]
     },
     "metadata": {},
     "output_type": "display_data"
    },
    {
     "data": {
      "application/javascript": [
       "\n",
       "        if (window._pyforest_update_imports_cell) { window._pyforest_update_imports_cell('import matplotlib.pyplot as plt\\nfrom scipy import stats'); }\n",
       "    "
      ],
      "text/plain": [
       "<IPython.core.display.Javascript object>"
      ]
     },
     "metadata": {},
     "output_type": "display_data"
    },
    {
     "data": {
      "application/javascript": [
       "\n",
       "        if (window._pyforest_update_imports_cell) { window._pyforest_update_imports_cell('import matplotlib.pyplot as plt\\nfrom scipy import stats'); }\n",
       "    "
      ],
      "text/plain": [
       "<IPython.core.display.Javascript object>"
      ]
     },
     "metadata": {},
     "output_type": "display_data"
    },
    {
     "data": {
      "application/javascript": [
       "\n",
       "        if (window._pyforest_update_imports_cell) { window._pyforest_update_imports_cell('import matplotlib.pyplot as plt\\nfrom scipy import stats'); }\n",
       "    "
      ],
      "text/plain": [
       "<IPython.core.display.Javascript object>"
      ]
     },
     "metadata": {},
     "output_type": "display_data"
    },
    {
     "data": {
      "image/png": "[encoded data removed]",
      "text/plain": [
       "<Figure size 432x288 with 1 Axes>"
      ]
     },
     "metadata": {
      "needs_background": "light"
     },
     "output_type": "display_data"
    },
    {
     "name": "stdout",
     "output_type": "stream",
     "text": [
      "             price     Predicted     Residuals     Diff_in_%\n",
      "5771    95000000.0  9.499970e+07  2.996775e+02      0.000315\n",
      "17689  190000000.0  1.899926e+08  7.354820e+03      0.003871\n",
      "23462  198000000.0  1.980245e+08 -2.451268e+04      0.012380\n",
      "23186  195000000.0  1.950336e+08 -3.356972e+04      0.017215\n",
      "7770    55000000.0  5.501527e+07 -1.527449e+04      0.027772\n",
      "...            ...           ...           ...           ...\n",
      "7302     6000000.0  1.660500e+08 -1.600500e+08   2667.499862\n",
      "2640     7200000.0  2.848817e+08 -2.776817e+08   3856.690095\n",
      "4839     8700000.0  7.803714e+08 -7.716714e+08   8869.786076\n",
      "15947    6000000.0  6.250410e+08 -6.190410e+08  10317.349367\n",
      "8623     6000000.0  6.398350e+08 -6.338350e+08  10563.916803\n",
      "\n",
      "[10765 rows x 4 columns]\n"
     ]
    },
    {
     "data": {
      "text/plain": [
       "Pipeline(steps=[('create_new_columns', FeatureUp()),\n",
       "                ('replace_high_cardinality', ReplaceHighCardinality()),\n",
       "                ('oe', OneHotEncoder(cols=['title', 'town', 'state'])),\n",
       "                ('model',\n",
       "                 GridSearchCV(cv=5, estimator=Ridge(),\n",
       "                              param_grid={'alpha': [1e-15, 1e-08, 0.001, 0.01,\n",
       "                                                    1, 3, 5, 7, 9, 20, 40, 45,\n",
       "                                                    55, 100]},\n",
       "                              scoring='neg_mean_squared_error'))])"
      ]
     },
     "execution_count": 64,
     "metadata": {},
     "output_type": "execute_result"
    }
   ],
   "source": [
    "regression_model_2(ridge_pipeline_2)"
   ]
  },
  {
   "cell_type": "markdown",
   "id": "e8dc45b2",
   "metadata": {},
   "source": [
    "# LASSO REGRESSION"
   ]
  },
  {
   "cell_type": "code",
   "execution_count": 65,
   "id": "b7c1138b",
   "metadata": {},
   "outputs": [],
   "source": [
    "      \n",
    "        \n",
    "lasso=Lasso()\n",
    "\n",
    "parameters={'alpha':[1e-15,1e-8,1e-3,1e-2,1,3,5,7,9,20,40,45,55,100]}\n",
    "\n",
    "lasso_regressor_2=GridSearchCV(lasso,parameters,scoring='neg_mean_squared_error',cv=5)\n",
    "        \n",
    "\n",
    "# Create the full pipeline\n",
    "lasso_pipeline_2 = Pipeline(steps=[\n",
    "    ('create_new_columns', FeatureUp()),\n",
    "    ('replace_high_cardinality', ReplaceHighCardinality(threshold=10)),\n",
    "    #('preprocessor', preprocessor),\n",
    "    ('oe',OneHotEncoder()),\n",
    "    #('log_transformer', LogTransformer()),\n",
    "\n",
    "    ('model', lasso_regressor_2),\n",
    "])\n",
    "\n",
    "# Fit the model"
   ]
  },
  {
   "cell_type": "code",
   "execution_count": 66,
   "id": "4ffef9f5",
   "metadata": {},
   "outputs": [
    {
     "name": "stdout",
     "output_type": "stream",
     "text": [
      "Train_Mean_absolute_error --- 84631554.83729953\n",
      "Train_R2_score --- 0.5177742606632055\n",
      "Train_Mean_squared_error --- 2.469054592146615e+16\n",
      "Train_Root_mean_squared_error --- 157132256.14578998\n",
      "Standard deviation of dependent variable --- 1.0\n",
      "Train_Adjusted_r2 --- 0.5174604575419489\n",
      "Train_Normalised_rmse --- 0.09857732506009409\n",
      "\n",
      "\n"
     ]
    },
    {
     "data": {
      "application/javascript": [
       "\n",
       "        if (window._pyforest_update_imports_cell) { window._pyforest_update_imports_cell('import matplotlib.pyplot as plt\\nfrom scipy import stats'); }\n",
       "    "
      ],
      "text/plain": [
       "<IPython.core.display.Javascript object>"
      ]
     },
     "metadata": {},
     "output_type": "display_data"
    },
    {
     "data": {
      "application/javascript": [
       "\n",
       "        if (window._pyforest_update_imports_cell) { window._pyforest_update_imports_cell('import matplotlib.pyplot as plt\\nfrom scipy import stats'); }\n",
       "    "
      ],
      "text/plain": [
       "<IPython.core.display.Javascript object>"
      ]
     },
     "metadata": {},
     "output_type": "display_data"
    },
    {
     "data": {
      "application/javascript": [
       "\n",
       "        if (window._pyforest_update_imports_cell) { window._pyforest_update_imports_cell('import matplotlib.pyplot as plt\\nfrom scipy import stats'); }\n",
       "    "
      ],
      "text/plain": [
       "<IPython.core.display.Javascript object>"
      ]
     },
     "metadata": {},
     "output_type": "display_data"
    },
    {
     "data": {
      "application/javascript": [
       "\n",
       "        if (window._pyforest_update_imports_cell) { window._pyforest_update_imports_cell('import matplotlib.pyplot as plt\\nfrom scipy import stats'); }\n",
       "    "
      ],
      "text/plain": [
       "<IPython.core.display.Javascript object>"
      ]
     },
     "metadata": {},
     "output_type": "display_data"
    },
    {
     "data": {
      "image/png": "[encoded data removed]",
      "text/plain": [
       "<Figure size 432x288 with 1 Axes>"
      ]
     },
     "metadata": {
      "needs_background": "light"
     },
     "output_type": "display_data"
    },
    {
     "name": "stdout",
     "output_type": "stream",
     "text": [
      "             price     Predicted     Residuals     Diff_in_%\n",
      "5867   650000000.0  6.499958e+08  4.246321e+03      0.000653\n",
      "20211  176020999.0  1.759977e+08  2.334145e+04      0.013261\n",
      "9228   135000000.0  1.350333e+08 -3.326389e+04      0.024640\n",
      "23186  195000000.0  1.950925e+08 -9.252656e+04      0.047450\n",
      "9741   130000000.0  1.299358e+08  6.417741e+04      0.049367\n",
      "...            ...           ...           ...           ...\n",
      "20663   22000000.0  5.975253e+08 -5.755253e+08   2616.024036\n",
      "2640     7200000.0  2.881100e+08 -2.809100e+08   3901.528260\n",
      "4839     8700000.0  7.882463e+08 -7.795463e+08   8960.302738\n",
      "15947    6000000.0  6.263888e+08 -6.203888e+08  10339.813066\n",
      "8623     6000000.0  6.419909e+08 -6.359909e+08  10599.847848\n",
      "\n",
      "[10765 rows x 4 columns]\n"
     ]
    },
    {
     "data": {
      "text/plain": [
       "Pipeline(steps=[('create_new_columns', FeatureUp()),\n",
       "                ('replace_high_cardinality', ReplaceHighCardinality()),\n",
       "                ('oe', OneHotEncoder(cols=['title', 'town', 'state'])),\n",
       "                ('model',\n",
       "                 GridSearchCV(cv=5, estimator=Lasso(),\n",
       "                              param_grid={'alpha': [1e-15, 1e-08, 0.001, 0.01,\n",
       "                                                    1, 3, 5, 7, 9, 20, 40, 45,\n",
       "                                                    55, 100]},\n",
       "                              scoring='neg_mean_squared_error'))])"
      ]
     },
     "execution_count": 66,
     "metadata": {},
     "output_type": "execute_result"
    }
   ],
   "source": [
    "regression_model_2(lasso_pipeline_2)"
   ]
  },
  {
   "cell_type": "markdown",
   "id": "d8483801",
   "metadata": {},
   "source": [
    "# ELASTIC NET REGRESSION"
   ]
  },
  {
   "cell_type": "code",
   "execution_count": 67,
   "id": "35dd3622",
   "metadata": {},
   "outputs": [],
   "source": [
    "\n",
    "enet=ElasticNet()\n",
    "\n",
    "parameters={'alpha':[1e-15,1e-8,1e-3,1e-2,1,3,5,7,9,20,40,45,55,100]}\n",
    "\n",
    "enet_regressor_2=GridSearchCV(enet,parameters,scoring='neg_mean_squared_error',cv=5)\n",
    "        \n",
    "\n",
    "# Create the full pipeline\n",
    "enet_pipeline_2 = Pipeline(steps=[\n",
    "    ('create_new_columns', FeatureUp()),\n",
    "    ('replace_high_cardinality', ReplaceHighCardinality(threshold=10)),\n",
    "    #('preprocessor', preprocessor),\n",
    "    ('oe',OneHotEncoder()),\n",
    "    #('log_transformer', LogTransformer()),\n",
    "\n",
    "    ('model', enet_regressor_2),\n",
    "])\n",
    "\n",
    "# Fit the model"
   ]
  },
  {
   "cell_type": "code",
   "execution_count": 68,
   "id": "94ff1338",
   "metadata": {},
   "outputs": [
    {
     "name": "stdout",
     "output_type": "stream",
     "text": [
      "Train_Mean_absolute_error --- 84725580.7243219\n",
      "Train_R2_score --- 0.5166143324954355\n",
      "Train_Mean_squared_error --- 2.4749935658171856e+16\n",
      "Train_Root_mean_squared_error --- 157321122.7336363\n",
      "Standard deviation of dependent variable --- 1.0\n",
      "Train_Adjusted_r2 --- 0.5162997745636208\n",
      "Train_Normalised_rmse --- 0.09869581099977183\n",
      "\n",
      "\n"
     ]
    },
    {
     "data": {
      "application/javascript": [
       "\n",
       "        if (window._pyforest_update_imports_cell) { window._pyforest_update_imports_cell('import matplotlib.pyplot as plt\\nfrom scipy import stats'); }\n",
       "    "
      ],
      "text/plain": [
       "<IPython.core.display.Javascript object>"
      ]
     },
     "metadata": {},
     "output_type": "display_data"
    },
    {
     "data": {
      "application/javascript": [
       "\n",
       "        if (window._pyforest_update_imports_cell) { window._pyforest_update_imports_cell('import matplotlib.pyplot as plt\\nfrom scipy import stats'); }\n",
       "    "
      ],
      "text/plain": [
       "<IPython.core.display.Javascript object>"
      ]
     },
     "metadata": {},
     "output_type": "display_data"
    },
    {
     "data": {
      "application/javascript": [
       "\n",
       "        if (window._pyforest_update_imports_cell) { window._pyforest_update_imports_cell('import matplotlib.pyplot as plt\\nfrom scipy import stats'); }\n",
       "    "
      ],
      "text/plain": [
       "<IPython.core.display.Javascript object>"
      ]
     },
     "metadata": {},
     "output_type": "display_data"
    },
    {
     "data": {
      "application/javascript": [
       "\n",
       "        if (window._pyforest_update_imports_cell) { window._pyforest_update_imports_cell('import matplotlib.pyplot as plt\\nfrom scipy import stats'); }\n",
       "    "
      ],
      "text/plain": [
       "<IPython.core.display.Javascript object>"
      ]
     },
     "metadata": {},
     "output_type": "display_data"
    },
    {
     "data": {
      "image/png": "[encoded data removed]",
      "text/plain": [
       "<Figure size 432x288 with 1 Axes>"
      ]
     },
     "metadata": {
      "needs_background": "light"
     },
     "output_type": "display_data"
    },
    {
     "name": "stdout",
     "output_type": "stream",
     "text": [
      "             price     Predicted     Residuals     Diff_in_%\n",
      "5771    95000000.0  9.497319e+07  2.681079e+04      0.028222\n",
      "3976    24000000.0  2.400758e+07 -7.581913e+03      0.031591\n",
      "8214    70000000.0  6.997661e+07  2.339465e+04      0.033421\n",
      "17750   65000000.0  6.502473e+07 -2.473466e+04      0.038053\n",
      "23186  195000000.0  1.950783e+08 -7.830192e+04      0.040155\n",
      "...            ...           ...           ...           ...\n",
      "7302     6000000.0  2.006218e+08 -1.946218e+08   3243.696145\n",
      "2640     7200000.0  2.826141e+08 -2.754141e+08   3825.196192\n",
      "4839     8700000.0  7.749001e+08 -7.662001e+08   8806.897946\n",
      "15947    6000000.0  6.236416e+08 -6.176416e+08  10294.027062\n",
      "8623     6000000.0  6.380927e+08 -6.320927e+08  10534.878370\n",
      "\n",
      "[10765 rows x 4 columns]\n"
     ]
    },
    {
     "data": {
      "text/plain": [
       "Pipeline(steps=[('create_new_columns', FeatureUp()),\n",
       "                ('replace_high_cardinality', ReplaceHighCardinality()),\n",
       "                ('oe', OneHotEncoder(cols=['title', 'town', 'state'])),\n",
       "                ('model',\n",
       "                 GridSearchCV(cv=5, estimator=ElasticNet(),\n",
       "                              param_grid={'alpha': [1e-15, 1e-08, 0.001, 0.01,\n",
       "                                                    1, 3, 5, 7, 9, 20, 40, 45,\n",
       "                                                    55, 100]},\n",
       "                              scoring='neg_mean_squared_error'))])"
      ]
     },
     "execution_count": 68,
     "metadata": {},
     "output_type": "execute_result"
    }
   ],
   "source": [
    "regression_model_2(enet_pipeline_2)"
   ]
  },
  {
   "cell_type": "markdown",
   "id": "ded931e1",
   "metadata": {},
   "source": [
    "# DECISION TREE REGRESSOR"
   ]
  },
  {
   "cell_type": "code",
   "execution_count": 69,
   "id": "804af29b",
   "metadata": {},
   "outputs": [],
   "source": [
    "\n",
    "\n",
    " \n",
    "tree_regressor_2=DecisionTreeRegressor()\n",
    "\n",
    "\n",
    "# Create the full pipeline\n",
    "tree_pipeline_2 = Pipeline(steps=[\n",
    "    ('create_new_columns', FeatureUp()),\n",
    "    ('replace_high_cardinality', ReplaceHighCardinality(threshold=10)),\n",
    "    #('preprocessor', preprocessor),\n",
    "    ('ohe',OneHotEncoder()),\n",
    "    #('log_transformer', LogTransformer()),\n",
    "\n",
    "    ('model', tree_regressor_2),\n",
    "])\n",
    "\n",
    "# Fit the model"
   ]
  },
  {
   "cell_type": "code",
   "execution_count": 70,
   "id": "ee879d94",
   "metadata": {},
   "outputs": [
    {
     "name": "stdout",
     "output_type": "stream",
     "text": [
      "Train_Mean_absolute_error --- 38847503.6063349\n",
      "Train_R2_score --- 0.8173680696445049\n",
      "Train_Mean_squared_error --- 9350977551239760.0\n",
      "Train_Root_mean_squared_error --- 96700452.69407874\n",
      "Standard deviation of dependent variable --- 1.0\n",
      "Train_Adjusted_r2 --- 0.817249223914981\n",
      "Train_Normalised_rmse --- 0.06066527772526897\n",
      "\n",
      "\n"
     ]
    },
    {
     "data": {
      "application/javascript": [
       "\n",
       "        if (window._pyforest_update_imports_cell) { window._pyforest_update_imports_cell('import matplotlib.pyplot as plt\\nfrom scipy import stats'); }\n",
       "    "
      ],
      "text/plain": [
       "<IPython.core.display.Javascript object>"
      ]
     },
     "metadata": {},
     "output_type": "display_data"
    },
    {
     "data": {
      "application/javascript": [
       "\n",
       "        if (window._pyforest_update_imports_cell) { window._pyforest_update_imports_cell('import matplotlib.pyplot as plt\\nfrom scipy import stats'); }\n",
       "    "
      ],
      "text/plain": [
       "<IPython.core.display.Javascript object>"
      ]
     },
     "metadata": {},
     "output_type": "display_data"
    },
    {
     "data": {
      "application/javascript": [
       "\n",
       "        if (window._pyforest_update_imports_cell) { window._pyforest_update_imports_cell('import matplotlib.pyplot as plt\\nfrom scipy import stats'); }\n",
       "    "
      ],
      "text/plain": [
       "<IPython.core.display.Javascript object>"
      ]
     },
     "metadata": {},
     "output_type": "display_data"
    },
    {
     "data": {
      "application/javascript": [
       "\n",
       "        if (window._pyforest_update_imports_cell) { window._pyforest_update_imports_cell('import matplotlib.pyplot as plt\\nfrom scipy import stats'); }\n",
       "    "
      ],
      "text/plain": [
       "<IPython.core.display.Javascript object>"
      ]
     },
     "metadata": {},
     "output_type": "display_data"
    },
    {
     "data": {
      "image/png": "[encoded data removed]",
      "text/plain": [
       "<Figure size 432x288 with 1 Axes>"
      ]
     },
     "metadata": {
      "needs_background": "light"
     },
     "output_type": "display_data"
    },
    {
     "name": "stdout",
     "output_type": "stream",
     "text": [
      "             price     Predicted     Residuals     Diff_in_%\n",
      "23482   18000000.0  1.800000e+07  0.000000e+00      0.000000\n",
      "6304    25000000.0  2.500000e+07  0.000000e+00      0.000000\n",
      "13469   65000000.0  6.500000e+07  0.000000e+00      0.000000\n",
      "19863  160000000.0  1.600000e+08  0.000000e+00      0.000000\n",
      "16918   38000000.0  3.800000e+07  0.000000e+00      0.000000\n",
      "...            ...           ...           ...           ...\n",
      "14294   45000000.0  7.725000e+08 -7.275000e+08   1616.666667\n",
      "12980   27000000.0  5.306667e+08 -5.036667e+08   1865.432099\n",
      "22940   29000000.0  5.763333e+08 -5.473333e+08   1887.356322\n",
      "4839     8700000.0  7.543500e+08 -7.456500e+08   8570.689655\n",
      "8623     6000000.0  6.315000e+08 -6.255000e+08  10425.000000\n",
      "\n",
      "[10765 rows x 4 columns]\n"
     ]
    },
    {
     "data": {
      "text/plain": [
       "Pipeline(steps=[('create_new_columns', FeatureUp()),\n",
       "                ('replace_high_cardinality', ReplaceHighCardinality()),\n",
       "                ('ohe', OneHotEncoder(cols=['title', 'town', 'state'])),\n",
       "                ('model', DecisionTreeRegressor())])"
      ]
     },
     "execution_count": 70,
     "metadata": {},
     "output_type": "execute_result"
    }
   ],
   "source": [
    "regression_model_2(tree_pipeline_2)\n"
   ]
  },
  {
   "cell_type": "markdown",
   "id": "3d303aa6",
   "metadata": {},
   "source": [
    "# XGBOOST REGRESSION"
   ]
  },
  {
   "cell_type": "code",
   "execution_count": 71,
   "id": "00ef1694",
   "metadata": {},
   "outputs": [],
   "source": [
    "        \n",
    "xgb_=xgb.XGBRegressor()\n",
    "\n",
    "\n",
    "parameters = {\"max_depth\":    [2,3,4,5,],\n",
    "              \"n_estimators\": [80,100,150,200,500],\n",
    "              \"learning_rate\": [0.0001,0.001,0.01, 0.015]}\n",
    "\n",
    "# try out every combination of the above values\n",
    "xgb_regressor_2 = GridSearchCV(xgb_, parameters, scoring='neg_mean_squared_error',cv=3)\n",
    "\n",
    "\n",
    "# Create the full pipeline\n",
    "xgb_pipeline_2 = Pipeline(steps=[\n",
    "    ('create_new_columns', FeatureUp()),\n",
    "    ('replace_high_cardinality', ReplaceHighCardinality(threshold=10)),\n",
    "    #('preprocessor', preprocessor),\n",
    "    ('ohe',OneHotEncoder()),\n",
    "    #('log_transformer', LogTransformer()),\n",
    "\n",
    "    ('model', xgb_regressor_2),\n",
    "])\n",
    "\n",
    "# Fit the model\n",
    "\n"
   ]
  },
  {
   "cell_type": "code",
   "execution_count": 72,
   "id": "96760bfc",
   "metadata": {},
   "outputs": [
    {
     "name": "stdout",
     "output_type": "stream",
     "text": [
      "Train_Mean_absolute_error --- 69632574.88936368\n",
      "Train_R2_score --- 0.6495198355292574\n",
      "Train_Mean_squared_error --- 1.794501182647179e+16\n",
      "Train_Root_mean_squared_error --- 133958993.07800052\n",
      "Standard deviation of dependent variable --- 1.0\n",
      "Train_Adjusted_r2 --- 0.6492917643987104\n",
      "Train_Normalised_rmse --- 0.08403951886951098\n",
      "\n",
      "\n"
     ]
    },
    {
     "data": {
      "application/javascript": [
       "\n",
       "        if (window._pyforest_update_imports_cell) { window._pyforest_update_imports_cell('import matplotlib.pyplot as plt\\nfrom scipy import stats'); }\n",
       "    "
      ],
      "text/plain": [
       "<IPython.core.display.Javascript object>"
      ]
     },
     "metadata": {},
     "output_type": "display_data"
    },
    {
     "data": {
      "application/javascript": [
       "\n",
       "        if (window._pyforest_update_imports_cell) { window._pyforest_update_imports_cell('import matplotlib.pyplot as plt\\nfrom scipy import stats'); }\n",
       "    "
      ],
      "text/plain": [
       "<IPython.core.display.Javascript object>"
      ]
     },
     "metadata": {},
     "output_type": "display_data"
    },
    {
     "data": {
      "application/javascript": [
       "\n",
       "        if (window._pyforest_update_imports_cell) { window._pyforest_update_imports_cell('import matplotlib.pyplot as plt\\nfrom scipy import stats'); }\n",
       "    "
      ],
      "text/plain": [
       "<IPython.core.display.Javascript object>"
      ]
     },
     "metadata": {},
     "output_type": "display_data"
    },
    {
     "data": {
      "application/javascript": [
       "\n",
       "        if (window._pyforest_update_imports_cell) { window._pyforest_update_imports_cell('import matplotlib.pyplot as plt\\nfrom scipy import stats'); }\n",
       "    "
      ],
      "text/plain": [
       "<IPython.core.display.Javascript object>"
      ]
     },
     "metadata": {},
     "output_type": "display_data"
    },
    {
     "data": {
      "image/png": "[encoded data removed]",
      "text/plain": [
       "<Figure size 432x288 with 1 Axes>"
      ]
     },
     "metadata": {
      "needs_background": "light"
     },
     "output_type": "display_data"
    },
    {
     "name": "stdout",
     "output_type": "stream",
     "text": [
      "             price    Predicted    Residuals     Diff_in_%\n",
      "12100  300000000.0  299922656.0      77344.0      0.025781\n",
      "6138    45000000.0   45018824.0     -18824.0      0.041831\n",
      "12387  150000000.0  149927968.0      72032.0      0.048021\n",
      "14140  680000000.0  680342016.0    -342016.0      0.050296\n",
      "5635   160000000.0  160091408.0     -91408.0      0.057130\n",
      "...            ...          ...          ...           ...\n",
      "2640     7200000.0  204008528.0 -196808528.0   2733.451778\n",
      "1246     8000000.0  264073872.0 -256073872.0   3200.923400\n",
      "4839     8700000.0  967157696.0 -958457696.0  11016.755126\n",
      "15947    6000000.0  751684992.0 -745684992.0  12428.083200\n",
      "8623     6000000.0  766495680.0 -760495680.0  12674.928000\n",
      "\n",
      "[10765 rows x 4 columns]\n"
     ]
    },
    {
     "data": {
      "text/plain": [
       "Pipeline(steps=[('create_new_columns', FeatureUp()),\n",
       "                ('replace_high_cardinality', ReplaceHighCardinality()),\n",
       "                ('ohe', OneHotEncoder(cols=['title', 'town', 'state'])),\n",
       "                ('model',\n",
       "                 GridSearchCV(cv=3,\n",
       "                              estimator=XGBRegressor(base_score=None,\n",
       "                                                     booster=None,\n",
       "                                                     callbacks=None,\n",
       "                                                     colsample_bylevel=None,\n",
       "                                                     colsample_bynode=None,\n",
       "                                                     colsample_bytree=None,\n",
       "                                                     early_stopping_rounds=None,\n",
       "                                                     enab...\n",
       "                                                     max_depth=None,\n",
       "                                                     max_leaves=None,\n",
       "                                                     min_child_weight=None,\n",
       "                                                     missing=nan,\n",
       "                                                     monotone_constraints=None,\n",
       "                                                     n_estimators=100,\n",
       "                                                     n_jobs=None,\n",
       "                                                     num_parallel_tree=None,\n",
       "                                                     predictor=None,\n",
       "                                                     random_state=None,\n",
       "                                                     reg_alpha=None,\n",
       "                                                     reg_lambda=None, ...),\n",
       "                              param_grid={'learning_rate': [0.0001, 0.001, 0.01,\n",
       "                                                            0.015],\n",
       "                                          'max_depth': [2, 3, 4, 5],\n",
       "                                          'n_estimators': [80, 100, 150, 200,\n",
       "                                                           500]},\n",
       "                              scoring='neg_mean_squared_error'))])"
      ]
     },
     "execution_count": 72,
     "metadata": {},
     "output_type": "execute_result"
    }
   ],
   "source": [
    "regression_model_2(xgb_pipeline_2)"
   ]
  },
  {
   "cell_type": "markdown",
   "id": "fa73f831",
   "metadata": {},
   "source": [
    "# EXPERIMENT 3:\n",
    "  - Log transformation of target variable\n",
    "  - Reducing high cardinality by replacing values less than 15 with 'others'\n",
    "  - Adding a new column\n",
    "  - Encoding columns with OneHotEncoder"
   ]
  },
  {
   "cell_type": "code",
   "execution_count": 73,
   "id": "133f5595",
   "metadata": {},
   "outputs": [],
   "source": [
    "train_copy=train.copy()\n",
    "test_copy=test.copy()\n",
    "\n",
    "\n",
    "\n",
    "\n",
    "ytrain_3=np.log(train_copy['price'])\n",
    "\n",
    "xtrain_3=train_copy.drop(['price'],axis=1)\n",
    "\n",
    "\n",
    "\n",
    "\n",
    "ytest=np.log(test_copy['price'])\n",
    "xtest_3= test_copy.drop(['price'],axis=1)"
   ]
  },
  {
   "cell_type": "markdown",
   "id": "b9d0cc52",
   "metadata": {},
   "source": [
    "# BASELINE MODEL 3"
   ]
  },
  {
   "cell_type": "code",
   "execution_count": 74,
   "id": "21c89440",
   "metadata": {},
   "outputs": [
    {
     "name": "stdout",
     "output_type": "stream",
     "text": [
      "Mean apt price: 18.204628791578198\n",
      "Baseline MAE: 0.916056808472975\n"
     ]
    }
   ],
   "source": [
    "y_mean_3=ytrain_3.mean()\n",
    "\n",
    "y_base=[y_mean_3]*len(ytrain_3)\n",
    "\n",
    "base_mae=mean_absolute_error(y_base,ytrain_3)\n",
    "print(\"Mean apt price:\", y_mean_3)\n",
    "\n",
    "print(\"Baseline MAE:\", base_mae)"
   ]
  },
  {
   "cell_type": "markdown",
   "id": "44c7838d",
   "metadata": {},
   "source": [
    "### MODEL BUILDING 3"
   ]
  },
  {
   "cell_type": "code",
   "execution_count": 75,
   "id": "3a6b50b8",
   "metadata": {},
   "outputs": [],
   "source": [
    "def regression_model_3(model):\n",
    "    \n",
    "    model.fit(xtrain_3,ytrain_3)\n",
    "    \n",
    "    train_pred=model.predict(xtrain_3)\n",
    "    \n",
    "    r2score=r2_score(ytrain_3,train_pred)\n",
    "    \n",
    "    mae=mean_absolute_error(train_pred,ytrain_3)\n",
    "    \n",
    "    mse=mean_squared_error(ytrain_3,train_pred)\n",
    "    \n",
    "     #to evaluate whether the RMSE is high or low, we can compare it with the standard deviation of the dependent variable. \n",
    "    # A RMSE value lower than the standard deviation indicates good model performance\n",
    "    \n",
    "    std=np.std(ytrain_1)\n",
    "    \n",
    "    root_mean_squared_error=np.sqrt(mse)\n",
    "    \n",
    "    normalised_rmse=root_mean_squared_error/(ytrain_3.max()- ytrain_3.min())\n",
    "    \n",
    "    \n",
    "    n=xtrain_3.shape[0]\n",
    "    p=xtrain_3.shape[1]\n",
    "    adjusted_r2 = 1 - (1-r2score) *(n-1)/(n-p-1)\n",
    "    \n",
    "    \n",
    "    \n",
    "    \n",
    "   \n",
    "    print('Train_Mean_absolute_error','---',mae)\n",
    "    print('Train_R2_score','---',r2score)\n",
    "    print('Train_Mean_squared_error','---',mse)\n",
    "    print('Train_Root_mean_squared_error','---',root_mean_squared_error)\n",
    "    print('Standard deviation of dependent variable','---',std)\n",
    "\n",
    "    print('Train_Adjusted_r2','---',adjusted_r2)\n",
    "    print('Train_Normalised_rmse','---',normalised_rmse)\n",
    "    print()\n",
    "    print()\n",
    "    \n",
    "    \n",
    "    sns.regplot(x=train_pred,y=ytrain_3)\n",
    "    plt.title('Residual Plot')\n",
    "    plt.xlabel('Predicted')\n",
    "    plt.ylabel('Actual values')\n",
    "    plt.show();\n",
    "    \n",
    "    stat=pd.DataFrame(ytrain_3)\n",
    "    \n",
    "    stat['Predicted']=train_pred\n",
    "    \n",
    "    stat.rename(columns={0:'Actual'},inplace=True)\n",
    "\n",
    "    stat['Residuals']=stat.iloc[:,0] - stat['Predicted']\n",
    "\n",
    "    stat['Diff_in_%']=abs((stat['Residuals']/stat.iloc[:,0])*100)\n",
    "\n",
    "\n",
    "\n",
    "    #to view all data\n",
    "    pd.options.display.max_rows=1000\n",
    "    stat= stat.sort_values(by='Diff_in_%')\n",
    "    print(stat)\n",
    "    \n",
    "    return model \n",
    "\n",
    "def regression_weights(model):\n",
    "    model.fit(xtrain_3,ytrain_3)\n",
    "    \n",
    "    coefficients=model.coef_\n",
    "    \n",
    "    intercept=model.intercept_\n",
    "    \n",
    "    return coefficients,intercept\n"
   ]
  },
  {
   "cell_type": "markdown",
   "id": "e230df05",
   "metadata": {},
   "source": [
    "### PIPELINE 3"
   ]
  },
  {
   "cell_type": "code",
   "execution_count": 76,
   "id": "666dd819",
   "metadata": {},
   "outputs": [],
   "source": [
    "\n",
    "from sklearn.base import BaseEstimator, TransformerMixin\n",
    "\n",
    "'''# Add a log transformation step to the pipeline\n",
    "class LogTransformer(BaseEstimator, TransformerMixin):\n",
    "    def fit(self, X, y):\n",
    "        return self\n",
    "    def transform(self, X, y=None):\n",
    "        return np.log1p(X)'''\n",
    "    \n",
    "\n",
    "# Add a step to create new columns in the pipeline\n",
    "class FeatureUp(BaseEstimator, TransformerMixin):\n",
    "    def fit(self, X, y):\n",
    "        return self\n",
    "    def transform(self, X, y=None):\n",
    "        X_copy = X.copy()\n",
    "        X_copy['total_rooms'] = X_copy['bedrooms'] + X_copy['bathrooms'] + X_copy['toilets']\n",
    "        return X_copy\n",
    "\n",
    "# Add a step to replace high cardinality variables with 'others' in the pipeline\n",
    "class ReplaceHighCardinality(BaseEstimator, TransformerMixin):\n",
    "    def __init__(self, threshold=15):\n",
    "        self.threshold = threshold\n",
    "        \n",
    "    def fit(self, X, y):\n",
    "        return self\n",
    "    \n",
    "    #def transform(self, X, y=None):\n",
    "     #   columns = np.array(X.select_dtypes(include=\"object\").columns)\n",
    "        \n",
    "      #  u = np.array([X[x].nunique() for x in columns]) >= self.threshold\n",
    "        \n",
    "       # high_cardinal_col = columns[u]\n",
    "        \n",
    "        #X = X.copy().drop(columns=high_cardinal_col)\n",
    "        # value_counts = xtrain[column].value_counts()\n",
    "        # to_replace = value_counts[value_counts <= threshold].index\n",
    "        # xtrain[column].replace(to_replace, 'others', inplace=True)\n",
    "        #return X'''\n",
    "    def transform(self,X,y=None):\n",
    "        X_copy = X.copy()\n",
    "\n",
    "        # Add a step to replace high cardinality variables with 'others' in the pipeline\n",
    "        for i in X_copy.select_dtypes('O').columns:\n",
    "            value_counts = X_copy[i].value_counts()\n",
    "            to_replace = value_counts[value_counts <= self.threshold].index\n",
    "            X_copy[i].replace(to_replace, 'others', inplace=True)\n",
    "            return X_copy\n",
    "        \n",
    "        "
   ]
  },
  {
   "cell_type": "markdown",
   "id": "192da658",
   "metadata": {},
   "source": [
    "## DECISION TREE REGRESSION"
   ]
  },
  {
   "cell_type": "code",
   "execution_count": 77,
   "id": "254cd112",
   "metadata": {},
   "outputs": [],
   "source": [
    "tree_regressor_3 = DecisionTreeRegressor()\n",
    "        \n",
    "\n",
    "# Create the full pipeline\n",
    "tree_pipeline_3 = Pipeline(steps=[\n",
    "    ('create_new_columns', FeatureUp()),\n",
    "    ('replace_high_cardinality', ReplaceHighCardinality(threshold=15)),\n",
    "    #('preprocessor', preprocessor),\n",
    "    ('ohe',OneHotEncoder()),\n",
    "    #('log_transformer', LogTransformer()),\n",
    "\n",
    "    ('model', tree_regressor_3),\n",
    "])\n",
    "\n",
    "# Fit the model"
   ]
  },
  {
   "cell_type": "code",
   "execution_count": 78,
   "id": "ba9edd64",
   "metadata": {},
   "outputs": [
    {
     "name": "stdout",
     "output_type": "stream",
     "text": [
      "Train_Mean_absolute_error --- 0.2428629700609241\n",
      "Train_R2_score --- 0.8484454869309025\n",
      "Train_Mean_squared_error --- 0.2164080203771114\n",
      "Train_Root_mean_squared_error --- 0.46519675447826525\n",
      "Standard deviation of dependent variable --- 1.0\n",
      "Train_Adjusted_r2 --- 0.8483487176531972\n",
      "Train_Normalised_rmse --- 0.02767176461255436\n",
      "\n",
      "\n"
     ]
    },
    {
     "data": {
      "application/javascript": [
       "\n",
       "        if (window._pyforest_update_imports_cell) { window._pyforest_update_imports_cell('import matplotlib.pyplot as plt\\nfrom scipy import stats'); }\n",
       "    "
      ],
      "text/plain": [
       "<IPython.core.display.Javascript object>"
      ]
     },
     "metadata": {},
     "output_type": "display_data"
    },
    {
     "data": {
      "application/javascript": [
       "\n",
       "        if (window._pyforest_update_imports_cell) { window._pyforest_update_imports_cell('import matplotlib.pyplot as plt\\nfrom scipy import stats'); }\n",
       "    "
      ],
      "text/plain": [
       "<IPython.core.display.Javascript object>"
      ]
     },
     "metadata": {},
     "output_type": "display_data"
    },
    {
     "data": {
      "application/javascript": [
       "\n",
       "        if (window._pyforest_update_imports_cell) { window._pyforest_update_imports_cell('import matplotlib.pyplot as plt\\nfrom scipy import stats'); }\n",
       "    "
      ],
      "text/plain": [
       "<IPython.core.display.Javascript object>"
      ]
     },
     "metadata": {},
     "output_type": "display_data"
    },
    {
     "data": {
      "application/javascript": [
       "\n",
       "        if (window._pyforest_update_imports_cell) { window._pyforest_update_imports_cell('import matplotlib.pyplot as plt\\nfrom scipy import stats'); }\n",
       "    "
      ],
      "text/plain": [
       "<IPython.core.display.Javascript object>"
      ]
     },
     "metadata": {},
     "output_type": "display_data"
    },
    {
     "data": {
      "image/png": "[encoded data removed]",
      "text/plain": [
       "<Figure size 432x288 with 1 Axes>"
      ]
     },
     "metadata": {
      "needs_background": "light"
     },
     "output_type": "display_data"
    },
    {
     "name": "stdout",
     "output_type": "stream",
     "text": [
      "           price  Predicted  Residuals  Diff_in_%\n",
      "23482  16.705882  16.705882   0.000000   0.000000\n",
      "23195  18.858936  18.858936   0.000000   0.000000\n",
      "19391  16.860033  16.860033   0.000000   0.000000\n",
      "4401   20.212440  20.212440   0.000000   0.000000\n",
      "6304   17.034386  17.034386   0.000000   0.000000\n",
      "...          ...        ...        ...        ...\n",
      "1053   14.375126  19.951729  -5.576603  38.793416\n",
      "13433  14.077875  19.951729  -5.873854  41.724011\n",
      "15169  13.997832  20.006484  -6.008651  42.925586\n",
      "14555  13.399995  19.485590  -6.085595  45.414907\n",
      "7083   12.899220  18.912115  -6.012895  46.614410\n",
      "\n",
      "[10971 rows x 4 columns]\n"
     ]
    },
    {
     "data": {
      "text/plain": [
       "Pipeline(steps=[('create_new_columns', FeatureUp()),\n",
       "                ('replace_high_cardinality', ReplaceHighCardinality()),\n",
       "                ('ohe', OneHotEncoder(cols=['title', 'town', 'state'])),\n",
       "                ('model', DecisionTreeRegressor())])"
      ]
     },
     "execution_count": 78,
     "metadata": {},
     "output_type": "execute_result"
    }
   ],
   "source": [
    "regression_model_3(tree_pipeline_3)"
   ]
  },
  {
   "cell_type": "markdown",
   "id": "b580c356",
   "metadata": {},
   "source": [
    "## RIDGE REGRESSION"
   ]
  },
  {
   "cell_type": "code",
   "execution_count": 79,
   "id": "3d8b1c3c",
   "metadata": {},
   "outputs": [],
   "source": [
    "ridge_regressor_3 = Ridge()\n",
    "        \n",
    "\n",
    "# Create the full pipeline\n",
    "ridge_pipeline_3 = Pipeline(steps=[\n",
    "    ('create_new_columns', FeatureUp()),\n",
    "    ('replace_high_cardinality', ReplaceHighCardinality(threshold=10)),\n",
    "    #('preprocessor', preprocessor),\n",
    "    ('ohe',OneHotEncoder()),\n",
    "    #('log_transformer', LogTransformer()),\n",
    "\n",
    "    ('model', ridge_regressor_3),\n",
    "])\n",
    "\n",
    "# Fit the model"
   ]
  },
  {
   "cell_type": "code",
   "execution_count": 80,
   "id": "31cdef0f",
   "metadata": {},
   "outputs": [
    {
     "name": "stdout",
     "output_type": "stream",
     "text": [
      "Train_Mean_absolute_error --- 0.4812498942195277\n",
      "Train_R2_score --- 0.6524234695963038\n",
      "Train_Mean_squared_error --- 0.4963121674899568\n",
      "Train_Root_mean_squared_error --- 0.7044942636316898\n",
      "Standard deviation of dependent variable --- 1.0\n",
      "Train_Adjusted_r2 --- 0.6522015380344297\n",
      "Train_Normalised_rmse --- 0.041906138094137874\n",
      "\n",
      "\n"
     ]
    },
    {
     "data": {
      "application/javascript": [
       "\n",
       "        if (window._pyforest_update_imports_cell) { window._pyforest_update_imports_cell('import matplotlib.pyplot as plt\\nfrom scipy import stats'); }\n",
       "    "
      ],
      "text/plain": [
       "<IPython.core.display.Javascript object>"
      ]
     },
     "metadata": {},
     "output_type": "display_data"
    },
    {
     "data": {
      "application/javascript": [
       "\n",
       "        if (window._pyforest_update_imports_cell) { window._pyforest_update_imports_cell('import matplotlib.pyplot as plt\\nfrom scipy import stats'); }\n",
       "    "
      ],
      "text/plain": [
       "<IPython.core.display.Javascript object>"
      ]
     },
     "metadata": {},
     "output_type": "display_data"
    },
    {
     "data": {
      "application/javascript": [
       "\n",
       "        if (window._pyforest_update_imports_cell) { window._pyforest_update_imports_cell('import matplotlib.pyplot as plt\\nfrom scipy import stats'); }\n",
       "    "
      ],
      "text/plain": [
       "<IPython.core.display.Javascript object>"
      ]
     },
     "metadata": {},
     "output_type": "display_data"
    },
    {
     "data": {
      "application/javascript": [
       "\n",
       "        if (window._pyforest_update_imports_cell) { window._pyforest_update_imports_cell('import matplotlib.pyplot as plt\\nfrom scipy import stats'); }\n",
       "    "
      ],
      "text/plain": [
       "<IPython.core.display.Javascript object>"
      ]
     },
     "metadata": {},
     "output_type": "display_data"
    },
    {
     "data": {
      "image/png": "[encoded data removed]",
      "text/plain": [
       "<Figure size 432x288 with 1 Axes>"
      ]
     },
     "metadata": {
      "needs_background": "light"
     },
     "output_type": "display_data"
    },
    {
     "name": "stdout",
     "output_type": "stream",
     "text": [
      "           price  Predicted  Residuals  Diff_in_%\n",
      "23573  18.258162  18.258197  -0.000035   0.000191\n",
      "12797  20.435584  20.435480   0.000104   0.000507\n",
      "2475   17.147715  17.147498   0.000217   0.001268\n",
      "13143  18.826146  18.826433  -0.000288   0.001528\n",
      "22877  18.515991  18.516277  -0.000286   0.001544\n",
      "...          ...        ...        ...        ...\n",
      "7083   12.899220  18.780612  -5.881393  45.594948\n",
      "17645  12.765688  18.752784  -5.987096  46.899905\n",
      "14555  13.399995  19.721953  -6.321957  47.178804\n",
      "2693   11.407565  16.903319  -5.495754  48.176399\n",
      "2385   11.608236  19.871341  -8.263106  71.183133\n",
      "\n",
      "[10971 rows x 4 columns]\n"
     ]
    },
    {
     "data": {
      "text/plain": [
       "Pipeline(steps=[('create_new_columns', FeatureUp()),\n",
       "                ('replace_high_cardinality',\n",
       "                 ReplaceHighCardinality(threshold=10)),\n",
       "                ('ohe', OneHotEncoder(cols=['title', 'town', 'state'])),\n",
       "                ('model', Ridge())])"
      ]
     },
     "execution_count": 80,
     "metadata": {},
     "output_type": "execute_result"
    }
   ],
   "source": [
    "regression_model_3(ridge_pipeline_3)"
   ]
  },
  {
   "cell_type": "markdown",
   "id": "8b3ef507",
   "metadata": {},
   "source": [
    "## ELASTIC NET REGRESSION"
   ]
  },
  {
   "cell_type": "code",
   "execution_count": 81,
   "id": "ad0cecf1",
   "metadata": {},
   "outputs": [],
   "source": [
    "enet_regressor_3 = ElasticNet()\n",
    "        \n",
    "\n",
    "# Create the full pipeline\n",
    "enet_pipeline_3 = Pipeline(steps=[\n",
    "    ('create_new_columns', FeatureUp()),\n",
    "    ('replace_high_cardinality', ReplaceHighCardinality(threshold=10)),\n",
    "    #('preprocessor', preprocessor),\n",
    "    ('ohe',OneHotEncoder()),\n",
    "    #('log_transformer', LogTransformer()),\n",
    "\n",
    "    ('model', enet_regressor_3),\n",
    "])\n",
    "\n",
    "# Fit the model"
   ]
  },
  {
   "cell_type": "code",
   "execution_count": 82,
   "id": "5ee2d236",
   "metadata": {},
   "outputs": [
    {
     "name": "stdout",
     "output_type": "stream",
     "text": [
      "Train_Mean_absolute_error --- 0.7800841365482273\n",
      "Train_R2_score --- 0.22142397874807274\n",
      "Train_Mean_squared_error --- 1.1117458138339869\n",
      "Train_Root_mean_squared_error --- 1.054393576343287\n",
      "Standard deviation of dependent variable --- 1.0\n",
      "Train_Adjusted_r2 --- 0.2209268491166977\n",
      "Train_Normalised_rmse --- 0.0627195494652231\n",
      "\n",
      "\n"
     ]
    },
    {
     "data": {
      "application/javascript": [
       "\n",
       "        if (window._pyforest_update_imports_cell) { window._pyforest_update_imports_cell('import matplotlib.pyplot as plt\\nfrom scipy import stats'); }\n",
       "    "
      ],
      "text/plain": [
       "<IPython.core.display.Javascript object>"
      ]
     },
     "metadata": {},
     "output_type": "display_data"
    },
    {
     "data": {
      "application/javascript": [
       "\n",
       "        if (window._pyforest_update_imports_cell) { window._pyforest_update_imports_cell('import matplotlib.pyplot as plt\\nfrom scipy import stats'); }\n",
       "    "
      ],
      "text/plain": [
       "<IPython.core.display.Javascript object>"
      ]
     },
     "metadata": {},
     "output_type": "display_data"
    },
    {
     "data": {
      "application/javascript": [
       "\n",
       "        if (window._pyforest_update_imports_cell) { window._pyforest_update_imports_cell('import matplotlib.pyplot as plt\\nfrom scipy import stats'); }\n",
       "    "
      ],
      "text/plain": [
       "<IPython.core.display.Javascript object>"
      ]
     },
     "metadata": {},
     "output_type": "display_data"
    },
    {
     "data": {
      "application/javascript": [
       "\n",
       "        if (window._pyforest_update_imports_cell) { window._pyforest_update_imports_cell('import matplotlib.pyplot as plt\\nfrom scipy import stats'); }\n",
       "    "
      ],
      "text/plain": [
       "<IPython.core.display.Javascript object>"
      ]
     },
     "metadata": {},
     "output_type": "display_data"
    },
    {
     "data": {
      "image/png": "[encoded data removed]",
      "text/plain": [
       "<Figure size 432x288 with 1 Axes>"
      ]
     },
     "metadata": {
      "needs_background": "light"
     },
     "output_type": "display_data"
    },
    {
     "name": "stdout",
     "output_type": "stream",
     "text": [
      "           price  Predicted  Residuals  Diff_in_%\n",
      "6169   18.119576  18.120919  -0.001343   0.007414\n",
      "13527  18.119576  18.120919  -0.001343   0.007414\n",
      "12928  18.826146  18.824748   0.001397   0.007423\n",
      "1305   18.826146  18.824748   0.001397   0.007423\n",
      "23563  18.826146  18.824748   0.001397   0.007423\n",
      "...          ...        ...        ...        ...\n",
      "7083   12.899220  18.472834  -5.573614  43.208923\n",
      "17645  12.765688  19.176663  -6.410975  50.220361\n",
      "20146  11.512925  17.417090  -5.904164  51.282918\n",
      "2693   11.407565  17.534394  -6.126830  53.708478\n",
      "2385   11.608236  18.824748  -7.216513  62.167181\n",
      "\n",
      "[10971 rows x 4 columns]\n"
     ]
    },
    {
     "data": {
      "text/plain": [
       "Pipeline(steps=[('create_new_columns', FeatureUp()),\n",
       "                ('replace_high_cardinality',\n",
       "                 ReplaceHighCardinality(threshold=10)),\n",
       "                ('ohe', OneHotEncoder(cols=['title', 'town', 'state'])),\n",
       "                ('model', ElasticNet())])"
      ]
     },
     "execution_count": 82,
     "metadata": {},
     "output_type": "execute_result"
    }
   ],
   "source": [
    "regression_model_3(enet_pipeline_3)"
   ]
  },
  {
   "cell_type": "markdown",
   "id": "5d8e9f37",
   "metadata": {},
   "source": [
    "## XGBOOST REGRESSION"
   ]
  },
  {
   "cell_type": "code",
   "execution_count": 83,
   "id": "990aa5de",
   "metadata": {},
   "outputs": [],
   "source": [
    "xgb_regressor_3 = xgb.XGBRegressor()\n",
    "        \n",
    "\n",
    "# Create the full pipeline\n",
    "xgb_pipeline_3 = Pipeline(steps=[\n",
    "    ('create_new_columns', FeatureUp()),\n",
    "    ('replace_high_cardinality', ReplaceHighCardinality(threshold=10)),\n",
    "    #('preprocessor', preprocessor),\n",
    "    ('ohe',OneHotEncoder()),\n",
    "    #('log_transformer', LogTransformer()),\n",
    "\n",
    "    ('model', xgb_regressor_3),\n",
    "])\n",
    "\n",
    "# Fit the model"
   ]
  },
  {
   "cell_type": "code",
   "execution_count": 84,
   "id": "44871ec2",
   "metadata": {},
   "outputs": [
    {
     "name": "stdout",
     "output_type": "stream",
     "text": [
      "Train_Mean_absolute_error --- 0.40713440688365016\n",
      "Train_R2_score --- 0.7400296298967968\n",
      "Train_Mean_squared_error --- 0.3712174056148959\n",
      "Train_Root_mean_squared_error --- 0.609276132484193\n",
      "Standard deviation of dependent variable --- 1.0\n",
      "Train_Adjusted_r2 --- 0.7398636358631634\n",
      "Train_Normalised_rmse --- 0.03624218260305551\n",
      "\n",
      "\n"
     ]
    },
    {
     "data": {
      "application/javascript": [
       "\n",
       "        if (window._pyforest_update_imports_cell) { window._pyforest_update_imports_cell('import matplotlib.pyplot as plt\\nfrom scipy import stats'); }\n",
       "    "
      ],
      "text/plain": [
       "<IPython.core.display.Javascript object>"
      ]
     },
     "metadata": {},
     "output_type": "display_data"
    },
    {
     "data": {
      "application/javascript": [
       "\n",
       "        if (window._pyforest_update_imports_cell) { window._pyforest_update_imports_cell('import matplotlib.pyplot as plt\\nfrom scipy import stats'); }\n",
       "    "
      ],
      "text/plain": [
       "<IPython.core.display.Javascript object>"
      ]
     },
     "metadata": {},
     "output_type": "display_data"
    },
    {
     "data": {
      "application/javascript": [
       "\n",
       "        if (window._pyforest_update_imports_cell) { window._pyforest_update_imports_cell('import matplotlib.pyplot as plt\\nfrom scipy import stats'); }\n",
       "    "
      ],
      "text/plain": [
       "<IPython.core.display.Javascript object>"
      ]
     },
     "metadata": {},
     "output_type": "display_data"
    },
    {
     "data": {
      "application/javascript": [
       "\n",
       "        if (window._pyforest_update_imports_cell) { window._pyforest_update_imports_cell('import matplotlib.pyplot as plt\\nfrom scipy import stats'); }\n",
       "    "
      ],
      "text/plain": [
       "<IPython.core.display.Javascript object>"
      ]
     },
     "metadata": {},
     "output_type": "display_data"
    },
    {
     "data": {
      "image/png": "[encoded data removed]",
      "text/plain": [
       "<Figure size 432x288 with 1 Axes>"
      ]
     },
     "metadata": {
      "needs_background": "light"
     },
     "output_type": "display_data"
    },
    {
     "name": "stdout",
     "output_type": "stream",
     "text": [
      "           price  Predicted  Residuals  Diff_in_%\n",
      "4983   18.315320  18.315420  -0.000100   0.000546\n",
      "3254   18.420681  18.420807  -0.000126   0.000685\n",
      "15828  19.924758  19.925030  -0.000272   0.001363\n",
      "12234  18.683045  18.682665   0.000380   0.002035\n",
      "3737   17.370859  17.371225  -0.000367   0.002111\n",
      "...          ...        ...        ...        ...\n",
      "1491   13.997832  19.874172  -5.876340  41.980358\n",
      "15169  13.997832  20.208096  -6.210263  44.365895\n",
      "14555  13.399995  19.365412  -5.965417  44.518051\n",
      "2693   11.407565  16.580132  -5.172567  45.343302\n",
      "7083   12.899220  18.914330  -6.015110  46.631578\n",
      "\n",
      "[10971 rows x 4 columns]\n"
     ]
    },
    {
     "data": {
      "text/plain": [
       "Pipeline(steps=[('create_new_columns', FeatureUp()),\n",
       "                ('replace_high_cardinality',\n",
       "                 ReplaceHighCardinality(threshold=10)),\n",
       "                ('ohe', OneHotEncoder(cols=['title', 'town', 'state'])),\n",
       "                ('model',\n",
       "                 XGBRegressor(base_score=0.5, booster='gbtree', callbacks=None,\n",
       "                              colsample_bylevel=1, colsample_bynode=1,\n",
       "                              colsample_bytree=1, early_stopping_rounds=None,\n",
       "                              enable_categorical=False, e...\n",
       "                              gamma=0, gpu_id=-1, grow_policy='depthwise',\n",
       "                              importance_type=None, interaction_constraints='',\n",
       "                              learning_rate=0.300000012, max_bin=256,\n",
       "                              max_cat_to_onehot=4, max_delta_step=0,\n",
       "                              max_depth=6, max_leaves=0, min_child_weight=1,\n",
       "                              missing=nan, monotone_constraints='()',\n",
       "                              n_estimators=100, n_jobs=0, num_parallel_tree=1,\n",
       "                              predictor='auto', random_state=0, reg_alpha=0,\n",
       "                              reg_lambda=1, ...))])"
      ]
     },
     "execution_count": 84,
     "metadata": {},
     "output_type": "execute_result"
    }
   ],
   "source": [
    "regression_model_3(xgb_pipeline_3)"
   ]
  },
  {
   "cell_type": "markdown",
   "id": "88008320",
   "metadata": {},
   "source": [
    "# MODEL SELECTION AND TESTING"
   ]
  },
  {
   "cell_type": "code",
   "execution_count": 85,
   "id": "59261c4a",
   "metadata": {},
   "outputs": [],
   "source": [
    "ytest=test_copy['price']\n",
    "y_test = power.transform(ytest.to_frame())\n",
    "xtest= test_copy.drop(['price'],axis=1)"
   ]
  },
  {
   "cell_type": "code",
   "execution_count": 86,
   "id": "848e2fff",
   "metadata": {},
   "outputs": [],
   "source": [
    "test_pred = decision_tree_model_1.predict(xtest)"
   ]
  },
  {
   "cell_type": "code",
   "execution_count": 88,
   "id": "59b0f596",
   "metadata": {},
   "outputs": [
    {
     "name": "stdout",
     "output_type": "stream",
     "text": [
      "Train_Mean_absolute_error --- 298987093.93791175\n",
      "Train_R2_score --- -0.0064392633787566655\n",
      "Train_Mean_squared_error --- 1.397192560873477e+19\n",
      "Train_Root_mean_squared_error --- 3737903905.7652044\n",
      "Standard deviation of dependent variable --- 3725927042.592078\n",
      "Train_Adjusted_r2 --- -0.008861083538141745\n",
      "Train_Normalised_rmse --- 0.02336195051529928\n",
      "\n",
      "\n"
     ]
    },
    {
     "data": {
      "application/javascript": [
       "\n",
       "        if (window._pyforest_update_imports_cell) { window._pyforest_update_imports_cell('import matplotlib.pyplot as plt\\nfrom scipy import stats'); }\n",
       "    "
      ],
      "text/plain": [
       "<IPython.core.display.Javascript object>"
      ]
     },
     "metadata": {},
     "output_type": "display_data"
    },
    {
     "data": {
      "application/javascript": [
       "\n",
       "        if (window._pyforest_update_imports_cell) { window._pyforest_update_imports_cell('import matplotlib.pyplot as plt\\nfrom scipy import stats'); }\n",
       "    "
      ],
      "text/plain": [
       "<IPython.core.display.Javascript object>"
      ]
     },
     "metadata": {},
     "output_type": "display_data"
    },
    {
     "data": {
      "application/javascript": [
       "\n",
       "        if (window._pyforest_update_imports_cell) { window._pyforest_update_imports_cell('import matplotlib.pyplot as plt\\nfrom scipy import stats'); }\n",
       "    "
      ],
      "text/plain": [
       "<IPython.core.display.Javascript object>"
      ]
     },
     "metadata": {},
     "output_type": "display_data"
    },
    {
     "data": {
      "application/javascript": [
       "\n",
       "        if (window._pyforest_update_imports_cell) { window._pyforest_update_imports_cell('import matplotlib.pyplot as plt\\nfrom scipy import stats'); }\n",
       "    "
      ],
      "text/plain": [
       "<IPython.core.display.Javascript object>"
      ]
     },
     "metadata": {},
     "output_type": "display_data"
    },
    {
     "data": {
      "image/png": "[encoded data removed]",
      "text/plain": [
       "<Figure size 432x288 with 1 Axes>"
      ]
     },
     "metadata": {
      "needs_background": "light"
     },
     "output_type": "display_data"
    },
    {
     "ename": "KeyError",
     "evalue": "'Actual'",
     "output_type": "error",
     "traceback": [
      "\u001b[1;31m---------------------------------------------------------------------------\u001b[0m",
      "\u001b[1;31mKeyError\u001b[0m                                  Traceback (most recent call last)",
      "\u001b[1;32m~\\anaconda3\\lib\\site-packages\\pandas\\core\\indexes\\base.py\u001b[0m in \u001b[0;36mget_loc\u001b[1;34m(self, key, method, tolerance)\u001b[0m\n\u001b[0;32m   3079\u001b[0m             \u001b[1;32mtry\u001b[0m\u001b[1;33m:\u001b[0m\u001b[1;33m\u001b[0m\u001b[1;33m\u001b[0m\u001b[0m\n\u001b[1;32m-> 3080\u001b[1;33m                 \u001b[1;32mreturn\u001b[0m \u001b[0mself\u001b[0m\u001b[1;33m.\u001b[0m\u001b[0m_engine\u001b[0m\u001b[1;33m.\u001b[0m\u001b[0mget_loc\u001b[0m\u001b[1;33m(\u001b[0m\u001b[0mcasted_key\u001b[0m\u001b[1;33m)\u001b[0m\u001b[1;33m\u001b[0m\u001b[1;33m\u001b[0m\u001b[0m\n\u001b[0m\u001b[0;32m   3081\u001b[0m             \u001b[1;32mexcept\u001b[0m \u001b[0mKeyError\u001b[0m \u001b[1;32mas\u001b[0m \u001b[0merr\u001b[0m\u001b[1;33m:\u001b[0m\u001b[1;33m\u001b[0m\u001b[1;33m\u001b[0m\u001b[0m\n",
      "\u001b[1;32mpandas\\_libs\\index.pyx\u001b[0m in \u001b[0;36mpandas._libs.index.IndexEngine.get_loc\u001b[1;34m()\u001b[0m\n",
      "\u001b[1;32mpandas\\_libs\\index.pyx\u001b[0m in \u001b[0;36mpandas._libs.index.IndexEngine.get_loc\u001b[1;34m()\u001b[0m\n",
      "\u001b[1;32mpandas\\_libs\\hashtable_class_helper.pxi\u001b[0m in \u001b[0;36mpandas._libs.hashtable.PyObjectHashTable.get_item\u001b[1;34m()\u001b[0m\n",
      "\u001b[1;32mpandas\\_libs\\hashtable_class_helper.pxi\u001b[0m in \u001b[0;36mpandas._libs.hashtable.PyObjectHashTable.get_item\u001b[1;34m()\u001b[0m\n",
      "\u001b[1;31mKeyError\u001b[0m: 'Actual'",
      "\nThe above exception was the direct cause of the following exception:\n",
      "\u001b[1;31mKeyError\u001b[0m                                  Traceback (most recent call last)",
      "\u001b[1;32m<ipython-input-88-5722c78759eb>\u001b[0m in \u001b[0;36m<module>\u001b[1;34m\u001b[0m\n\u001b[0;32m     47\u001b[0m \u001b[0mstats\u001b[0m\u001b[1;33m.\u001b[0m\u001b[0mrename\u001b[0m\u001b[1;33m(\u001b[0m\u001b[0mcolumns\u001b[0m\u001b[1;33m=\u001b[0m\u001b[1;33m{\u001b[0m\u001b[1;36m0\u001b[0m\u001b[1;33m:\u001b[0m\u001b[1;34m'Actual'\u001b[0m\u001b[1;33m}\u001b[0m\u001b[1;33m,\u001b[0m\u001b[0minplace\u001b[0m\u001b[1;33m=\u001b[0m\u001b[1;32mTrue\u001b[0m\u001b[1;33m)\u001b[0m\u001b[1;33m\u001b[0m\u001b[1;33m\u001b[0m\u001b[0m\n\u001b[0;32m     48\u001b[0m \u001b[1;33m\u001b[0m\u001b[0m\n\u001b[1;32m---> 49\u001b[1;33m \u001b[0mstats\u001b[0m\u001b[1;33m[\u001b[0m\u001b[1;34m'Residuals'\u001b[0m\u001b[1;33m]\u001b[0m\u001b[1;33m=\u001b[0m\u001b[0mstats\u001b[0m\u001b[1;33m[\u001b[0m\u001b[1;34m'Actual'\u001b[0m\u001b[1;33m]\u001b[0m \u001b[1;33m-\u001b[0m \u001b[0mstats\u001b[0m\u001b[1;33m[\u001b[0m\u001b[1;34m'Predicted'\u001b[0m\u001b[1;33m]\u001b[0m\u001b[1;33m\u001b[0m\u001b[1;33m\u001b[0m\u001b[0m\n\u001b[0m\u001b[0;32m     50\u001b[0m \u001b[1;33m\u001b[0m\u001b[0m\n\u001b[0;32m     51\u001b[0m \u001b[0mstats\u001b[0m\u001b[1;33m[\u001b[0m\u001b[1;34m'Diff_in_%'\u001b[0m\u001b[1;33m]\u001b[0m\u001b[1;33m=\u001b[0m\u001b[0mabs\u001b[0m\u001b[1;33m(\u001b[0m\u001b[1;33m(\u001b[0m\u001b[0mstats\u001b[0m\u001b[1;33m[\u001b[0m\u001b[1;34m'Residuals'\u001b[0m\u001b[1;33m]\u001b[0m\u001b[1;33m/\u001b[0m\u001b[0mstats\u001b[0m\u001b[1;33m[\u001b[0m\u001b[1;34m'Actual'\u001b[0m\u001b[1;33m]\u001b[0m\u001b[1;33m)\u001b[0m\u001b[1;33m*\u001b[0m\u001b[1;36m100\u001b[0m\u001b[1;33m)\u001b[0m\u001b[1;33m\u001b[0m\u001b[1;33m\u001b[0m\u001b[0m\n",
      "\u001b[1;32m~\\anaconda3\\lib\\site-packages\\pandas\\core\\frame.py\u001b[0m in \u001b[0;36m__getitem__\u001b[1;34m(self, key)\u001b[0m\n\u001b[0;32m   3022\u001b[0m             \u001b[1;32mif\u001b[0m \u001b[0mself\u001b[0m\u001b[1;33m.\u001b[0m\u001b[0mcolumns\u001b[0m\u001b[1;33m.\u001b[0m\u001b[0mnlevels\u001b[0m \u001b[1;33m>\u001b[0m \u001b[1;36m1\u001b[0m\u001b[1;33m:\u001b[0m\u001b[1;33m\u001b[0m\u001b[1;33m\u001b[0m\u001b[0m\n\u001b[0;32m   3023\u001b[0m                 \u001b[1;32mreturn\u001b[0m \u001b[0mself\u001b[0m\u001b[1;33m.\u001b[0m\u001b[0m_getitem_multilevel\u001b[0m\u001b[1;33m(\u001b[0m\u001b[0mkey\u001b[0m\u001b[1;33m)\u001b[0m\u001b[1;33m\u001b[0m\u001b[1;33m\u001b[0m\u001b[0m\n\u001b[1;32m-> 3024\u001b[1;33m             \u001b[0mindexer\u001b[0m \u001b[1;33m=\u001b[0m \u001b[0mself\u001b[0m\u001b[1;33m.\u001b[0m\u001b[0mcolumns\u001b[0m\u001b[1;33m.\u001b[0m\u001b[0mget_loc\u001b[0m\u001b[1;33m(\u001b[0m\u001b[0mkey\u001b[0m\u001b[1;33m)\u001b[0m\u001b[1;33m\u001b[0m\u001b[1;33m\u001b[0m\u001b[0m\n\u001b[0m\u001b[0;32m   3025\u001b[0m             \u001b[1;32mif\u001b[0m \u001b[0mis_integer\u001b[0m\u001b[1;33m(\u001b[0m\u001b[0mindexer\u001b[0m\u001b[1;33m)\u001b[0m\u001b[1;33m:\u001b[0m\u001b[1;33m\u001b[0m\u001b[1;33m\u001b[0m\u001b[0m\n\u001b[0;32m   3026\u001b[0m                 \u001b[0mindexer\u001b[0m \u001b[1;33m=\u001b[0m \u001b[1;33m[\u001b[0m\u001b[0mindexer\u001b[0m\u001b[1;33m]\u001b[0m\u001b[1;33m\u001b[0m\u001b[1;33m\u001b[0m\u001b[0m\n",
      "\u001b[1;32m~\\anaconda3\\lib\\site-packages\\pandas\\core\\indexes\\base.py\u001b[0m in \u001b[0;36mget_loc\u001b[1;34m(self, key, method, tolerance)\u001b[0m\n\u001b[0;32m   3080\u001b[0m                 \u001b[1;32mreturn\u001b[0m \u001b[0mself\u001b[0m\u001b[1;33m.\u001b[0m\u001b[0m_engine\u001b[0m\u001b[1;33m.\u001b[0m\u001b[0mget_loc\u001b[0m\u001b[1;33m(\u001b[0m\u001b[0mcasted_key\u001b[0m\u001b[1;33m)\u001b[0m\u001b[1;33m\u001b[0m\u001b[1;33m\u001b[0m\u001b[0m\n\u001b[0;32m   3081\u001b[0m             \u001b[1;32mexcept\u001b[0m \u001b[0mKeyError\u001b[0m \u001b[1;32mas\u001b[0m \u001b[0merr\u001b[0m\u001b[1;33m:\u001b[0m\u001b[1;33m\u001b[0m\u001b[1;33m\u001b[0m\u001b[0m\n\u001b[1;32m-> 3082\u001b[1;33m                 \u001b[1;32mraise\u001b[0m \u001b[0mKeyError\u001b[0m\u001b[1;33m(\u001b[0m\u001b[0mkey\u001b[0m\u001b[1;33m)\u001b[0m \u001b[1;32mfrom\u001b[0m \u001b[0merr\u001b[0m\u001b[1;33m\u001b[0m\u001b[1;33m\u001b[0m\u001b[0m\n\u001b[0m\u001b[0;32m   3083\u001b[0m \u001b[1;33m\u001b[0m\u001b[0m\n\u001b[0;32m   3084\u001b[0m         \u001b[1;32mif\u001b[0m \u001b[0mtolerance\u001b[0m \u001b[1;32mis\u001b[0m \u001b[1;32mnot\u001b[0m \u001b[1;32mNone\u001b[0m\u001b[1;33m:\u001b[0m\u001b[1;33m\u001b[0m\u001b[1;33m\u001b[0m\u001b[0m\n",
      "\u001b[1;31mKeyError\u001b[0m: 'Actual'"
     ]
    }
   ],
   "source": [
    "r2score=r2_score(ytest,test_pred)\n",
    "\n",
    "mae=mean_absolute_error(test_pred,ytest)\n",
    "\n",
    "mse=mean_squared_error(ytest,test_pred)\n",
    "\n",
    "root_mean_squared_error=np.sqrt(mse)\n",
    "\n",
    "#to evaluate whether the RMSE is high or low, we can compare it with the standard deviation of the dependent variable. \n",
    "# A RMSE value lower than the standard deviation indicates good model performance\n",
    "\n",
    "std=np.std(ytest)\n",
    "\n",
    "normalised_rmse=root_mean_squared_error/(ytest.max()- ytest.min())\n",
    "\n",
    "\n",
    "n=xtest.shape[0]\n",
    "p=xtest.shape[1]\n",
    "adjusted_r2 = 1 - (1-r2score) *(n-1)/(n-p-1)\n",
    "\n",
    "\n",
    "\n",
    "\n",
    "\n",
    "print('Train_Mean_absolute_error','---',mae)\n",
    "print('Train_R2_score','---',r2score)\n",
    "print('Train_Mean_squared_error','---',mse)\n",
    "print('Train_Root_mean_squared_error','---',root_mean_squared_error)\n",
    "print('Standard deviation of dependent variable','---',std)\n",
    "\n",
    "print('Train_Adjusted_r2','---',adjusted_r2)\n",
    "print('Train_Normalised_rmse','---',normalised_rmse)\n",
    "print()\n",
    "print()\n",
    "\n",
    "\n",
    "sns.regplot(x=test_pred,y=ytest)\n",
    "plt.title('Residual Plot')\n",
    "plt.xlabel('Predicted')\n",
    "plt.ylabel('Actual values')\n",
    "plt.show();\n",
    "\n",
    "stats=pd.DataFrame(ytest)\n",
    "\n",
    "stats['Predicted']=test_pred\n",
    "\n",
    "stats.rename(columns={0:'Actual'},inplace=True)\n",
    "\n",
    "stats['Residuals']=stats['Actual'] - stats['Predicted']\n",
    "\n",
    "stats['Diff_in_%']=abs((stats['Residuals']/stats['Actual'])*100)\n",
    "\n",
    "\n",
    "\n",
    "#to view all data\n",
    "pd.options.display.max_rows=1000\n",
    "stats = stats.sort_values(by='Diff_in_%')\n",
    "print(stats)\n",
    "\n",
    "\n"
   ]
  },
  {
   "cell_type": "code",
   "execution_count": null,
   "id": "d00d16c6",
   "metadata": {},
   "outputs": [],
   "source": []
  },
  {
   "cell_type": "code",
   "execution_count": null,
   "id": "1ab32f84",
   "metadata": {},
   "outputs": [],
   "source": []
  },
  {
   "cell_type": "code",
   "execution_count": null,
   "id": "bce2d06c",
   "metadata": {},
   "outputs": [],
   "source": []
  },
  {
   "cell_type": "code",
   "execution_count": null,
   "id": "c89a4d16",
   "metadata": {},
   "outputs": [],
   "source": []
  },
  {
   "cell_type": "code",
   "execution_count": null,
   "id": "c3eb3dd8",
   "metadata": {},
   "outputs": [],
   "source": []
  },
  {
   "cell_type": "code",
   "execution_count": null,
   "id": "21b52e81",
   "metadata": {},
   "outputs": [],
   "source": []
  },
  {
   "cell_type": "code",
   "execution_count": null,
   "id": "f491af6c",
   "metadata": {},
   "outputs": [],
   "source": []
  },
  {
   "cell_type": "code",
   "execution_count": null,
   "id": "86be9d18",
   "metadata": {},
   "outputs": [],
   "source": []
  },
  {
   "cell_type": "code",
   "execution_count": null,
   "id": "c8c9460a",
   "metadata": {},
   "outputs": [],
   "source": [
    "from sklearn.base import BaseEstimator, TransformerMixin\n",
    "bedrooms_ix, bathrooms_ix, toilets_ix, parking_space_ix, title_ix, town_ix, state_ix,price_ix= 0,1,2,3,4,5,6,7\n",
    "class Feature_engineering(BaseEstimator, TransformerMixin):\n",
    "    \n",
    "    def __init__(self, change_values = True): # no *args or **kwargs\n",
    "        self.change_values = change_values \n",
    "        \n",
    "    def fit(self, X, y=None):\n",
    "        return self # nothing else to do \n",
    "    \n",
    "    def transform(self, X, y=None):\n",
    "        \n",
    "        q9=np.quantile(X[:,price_ix],0.99)#removing outliers\n",
    "        q1=np.quantile(X[:,price_ix],0.01)\n",
    "\n",
    "        X=X[(X[:,price_ix]>q1) & (X[:,price_ix]<q9)]#masking outliers\n",
    "      \n",
    "        total_rooms=(X[:,bedrooms_ix] + X[:,bathrooms_ix] + X[:,toilets_ix])#adding a new column\n",
    "        \n",
    "        X = pd.DataFrame(X)\n",
    "\n",
    "        cat=X.iloc[:,4:7]\n",
    "        \n",
    "        for m in cat:\n",
    "            temp=X[m].value_counts(normalize=True)\n",
    "            #features greater than 1%\n",
    "            \n",
    "            temp_df=temp[temp>0.01].index \n",
    "            #extract the feature if it is in temp_df(>1%) else replace with rare_var\n",
    "            \n",
    "            X[m]=np.where(X[m].isin(temp_df),X[m],'Others')\n",
    "\n",
    "    \n",
    "    \n",
    "        \n",
    "        X.drop([X.iloc[:,price_ix]],inplace=True)\n",
    "        if self.change_values:\n",
    "\n",
    "            #df=np.delete(X,[sex_ix, smoker_ix, region_ix],axis=1)\n",
    "            return np.c_[X,total_rooms]\n",
    "        else:\n",
    "            return X\n"
   ]
  },
  {
   "cell_type": "code",
   "execution_count": null,
   "id": "d2bd4abb",
   "metadata": {},
   "outputs": [],
   "source": [
    "attr_adder = Feature_engineering(change_values = True)\n",
    "r=attr_adder.transform(df.values)\n",
    "print(pd.DataFrame(r))"
   ]
  },
  {
   "cell_type": "code",
   "execution_count": null,
   "id": "25e2b31b",
   "metadata": {},
   "outputs": [],
   "source": [
    "target=train['price']\n",
    "labels=train.drop(['price'],axis=1)"
   ]
  },
  {
   "cell_type": "code",
   "execution_count": null,
   "id": "6875833b",
   "metadata": {},
   "outputs": [],
   "source": [
    "lr_pipeline=make_pipeline(Feature_engineering(change_values = True),OneHotEncoder(),Ridge())\n"
   ]
  },
  {
   "cell_type": "code",
   "execution_count": null,
   "id": "b029d91c",
   "metadata": {},
   "outputs": [],
   "source": [
    "lr_pipeline.fit(target,labels)"
   ]
  },
  {
   "cell_type": "code",
   "execution_count": null,
   "id": "027939eb",
   "metadata": {},
   "outputs": [],
   "source": []
  },
  {
   "cell_type": "code",
   "execution_count": null,
   "id": "da521a22",
   "metadata": {},
   "outputs": [],
   "source": []
  },
  {
   "cell_type": "code",
   "execution_count": null,
   "id": "7b16bee7",
   "metadata": {},
   "outputs": [],
   "source": []
  },
  {
   "cell_type": "code",
   "execution_count": null,
   "id": "25ba9b6a",
   "metadata": {},
   "outputs": [],
   "source": []
  },
  {
   "cell_type": "code",
   "execution_count": null,
   "id": "59a170c6",
   "metadata": {},
   "outputs": [],
   "source": []
  },
  {
   "cell_type": "code",
   "execution_count": null,
   "id": "3c95948e",
   "metadata": {},
   "outputs": [],
   "source": []
  },
  {
   "cell_type": "code",
   "execution_count": null,
   "id": "e02c4e1c",
   "metadata": {},
   "outputs": [],
   "source": []
  },
  {
   "cell_type": "code",
   "execution_count": null,
   "id": "7388145c",
   "metadata": {},
   "outputs": [],
   "source": []
  },
  {
   "cell_type": "code",
   "execution_count": null,
   "id": "e789469a",
   "metadata": {},
   "outputs": [],
   "source": []
  },
  {
   "cell_type": "code",
   "execution_count": null,
   "id": "05b57588",
   "metadata": {},
   "outputs": [],
   "source": []
  },
  {
   "cell_type": "code",
   "execution_count": null,
   "id": "c20ac232",
   "metadata": {},
   "outputs": [],
   "source": []
  },
  {
   "cell_type": "code",
   "execution_count": null,
   "id": "ca02e606",
   "metadata": {},
   "outputs": [],
   "source": []
  },
  {
   "cell_type": "code",
   "execution_count": null,
   "id": "cc9d757b",
   "metadata": {},
   "outputs": [],
   "source": []
  },
  {
   "cell_type": "code",
   "execution_count": null,
   "id": "7fbc33bc",
   "metadata": {},
   "outputs": [],
   "source": []
  },
  {
   "cell_type": "code",
   "execution_count": null,
   "id": "cab73817",
   "metadata": {},
   "outputs": [],
   "source": []
  },
  {
   "cell_type": "code",
   "execution_count": null,
   "id": "ec7b29ea",
   "metadata": {},
   "outputs": [],
   "source": []
  },
  {
   "cell_type": "code",
   "execution_count": null,
   "id": "1ee330df",
   "metadata": {},
   "outputs": [],
   "source": []
  },
  {
   "cell_type": "code",
   "execution_count": null,
   "id": "db73a642",
   "metadata": {},
   "outputs": [],
   "source": []
  },
  {
   "cell_type": "code",
   "execution_count": null,
   "id": "9332d1e8",
   "metadata": {},
   "outputs": [],
   "source": []
  },
  {
   "cell_type": "code",
   "execution_count": null,
   "id": "f2e80d23",
   "metadata": {},
   "outputs": [],
   "source": []
  },
  {
   "cell_type": "code",
   "execution_count": null,
   "id": "f6bb129d",
   "metadata": {},
   "outputs": [],
   "source": []
  },
  {
   "cell_type": "code",
   "execution_count": null,
   "id": "6ca53e5d",
   "metadata": {},
   "outputs": [],
   "source": []
  },
  {
   "cell_type": "code",
   "execution_count": null,
   "id": "82e6bc36",
   "metadata": {},
   "outputs": [],
   "source": []
  },
  {
   "cell_type": "code",
   "execution_count": null,
   "id": "1b8507b4",
   "metadata": {},
   "outputs": [],
   "source": []
  },
  {
   "cell_type": "code",
   "execution_count": null,
   "id": "bc4630c2",
   "metadata": {},
   "outputs": [],
   "source": []
  },
  {
   "cell_type": "code",
   "execution_count": null,
   "id": "d390d666",
   "metadata": {},
   "outputs": [],
   "source": []
  },
  {
   "cell_type": "code",
   "execution_count": null,
   "id": "e3b73a8f",
   "metadata": {},
   "outputs": [],
   "source": []
  },
  {
   "cell_type": "code",
   "execution_count": null,
   "id": "6995b81e",
   "metadata": {},
   "outputs": [],
   "source": []
  },
  {
   "cell_type": "code",
   "execution_count": null,
   "id": "332aeffc",
   "metadata": {},
   "outputs": [],
   "source": []
  },
  {
   "cell_type": "code",
   "execution_count": null,
   "id": "1b1930c4",
   "metadata": {},
   "outputs": [],
   "source": []
  },
  {
   "cell_type": "code",
   "execution_count": null,
   "id": "8f4ec970",
   "metadata": {},
   "outputs": [],
   "source": []
  },
  {
   "cell_type": "code",
   "execution_count": null,
   "id": "0e774bc0",
   "metadata": {},
   "outputs": [],
   "source": []
  },
  {
   "cell_type": "code",
   "execution_count": null,
   "id": "189ed111",
   "metadata": {},
   "outputs": [],
   "source": []
  },
  {
   "cell_type": "code",
   "execution_count": null,
   "id": "9c51f211",
   "metadata": {},
   "outputs": [],
   "source": []
  },
  {
   "cell_type": "code",
   "execution_count": null,
   "id": "4841a2ba",
   "metadata": {},
   "outputs": [],
   "source": []
  },
  {
   "cell_type": "code",
   "execution_count": null,
   "id": "607e32a1",
   "metadata": {},
   "outputs": [],
   "source": []
  },
  {
   "cell_type": "code",
   "execution_count": null,
   "id": "e535910c",
   "metadata": {},
   "outputs": [],
   "source": []
  },
  {
   "cell_type": "code",
   "execution_count": null,
   "id": "8cd54d13",
   "metadata": {},
   "outputs": [],
   "source": []
  },
  {
   "cell_type": "code",
   "execution_count": null,
   "id": "c69c3deb",
   "metadata": {},
   "outputs": [],
   "source": []
  },
  {
   "cell_type": "code",
   "execution_count": null,
   "id": "d4189722",
   "metadata": {},
   "outputs": [],
   "source": []
  },
  {
   "cell_type": "code",
   "execution_count": null,
   "id": "62e344f4",
   "metadata": {},
   "outputs": [],
   "source": []
  },
  {
   "cell_type": "code",
   "execution_count": null,
   "id": "8a8ed092",
   "metadata": {},
   "outputs": [],
   "source": []
  },
  {
   "cell_type": "code",
   "execution_count": null,
   "id": "47585e13",
   "metadata": {},
   "outputs": [],
   "source": []
  },
  {
   "cell_type": "code",
   "execution_count": null,
   "id": "9870b397",
   "metadata": {},
   "outputs": [],
   "source": []
  },
  {
   "cell_type": "code",
   "execution_count": null,
   "id": "97f09db9",
   "metadata": {},
   "outputs": [],
   "source": []
  },
  {
   "cell_type": "code",
   "execution_count": null,
   "id": "329c7c8d",
   "metadata": {},
   "outputs": [],
   "source": []
  },
  {
   "cell_type": "code",
   "execution_count": null,
   "id": "bb3b7f88",
   "metadata": {},
   "outputs": [],
   "source": []
  },
  {
   "cell_type": "code",
   "execution_count": null,
   "id": "26e74539",
   "metadata": {},
   "outputs": [],
   "source": []
  },
  {
   "cell_type": "code",
   "execution_count": null,
   "id": "76232146",
   "metadata": {},
   "outputs": [],
   "source": []
  },
  {
   "cell_type": "code",
   "execution_count": null,
   "id": "7c278c68",
   "metadata": {},
   "outputs": [],
   "source": []
  },
  {
   "cell_type": "code",
   "execution_count": null,
   "id": "7368e0b9",
   "metadata": {},
   "outputs": [],
   "source": []
  },
  {
   "cell_type": "code",
   "execution_count": null,
   "id": "5ef774ce",
   "metadata": {},
   "outputs": [],
   "source": []
  },
  {
   "cell_type": "code",
   "execution_count": null,
   "id": "34cf42b2",
   "metadata": {},
   "outputs": [],
   "source": []
  },
  {
   "cell_type": "code",
   "execution_count": null,
   "id": "ced8d191",
   "metadata": {},
   "outputs": [],
   "source": []
  },
  {
   "cell_type": "code",
   "execution_count": null,
   "id": "d0a851df",
   "metadata": {},
   "outputs": [],
   "source": []
  },
  {
   "cell_type": "code",
   "execution_count": null,
   "id": "8df52a39",
   "metadata": {},
   "outputs": [],
   "source": []
  },
  {
   "cell_type": "code",
   "execution_count": null,
   "id": "29b2476a",
   "metadata": {},
   "outputs": [],
   "source": []
  },
  {
   "cell_type": "code",
   "execution_count": null,
   "id": "4084924c",
   "metadata": {},
   "outputs": [],
   "source": []
  },
  {
   "cell_type": "code",
   "execution_count": null,
   "id": "3b86a0bd",
   "metadata": {},
   "outputs": [],
   "source": []
  },
  {
   "cell_type": "code",
   "execution_count": null,
   "id": "e7548c67",
   "metadata": {},
   "outputs": [],
   "source": []
  },
  {
   "cell_type": "code",
   "execution_count": null,
   "id": "b74899b8",
   "metadata": {},
   "outputs": [],
   "source": []
  },
  {
   "cell_type": "code",
   "execution_count": null,
   "id": "e06e6ed0",
   "metadata": {},
   "outputs": [],
   "source": []
  },
  {
   "cell_type": "code",
   "execution_count": null,
   "id": "a9262d0f",
   "metadata": {},
   "outputs": [],
   "source": []
  },
  {
   "cell_type": "code",
   "execution_count": null,
   "id": "526599cb",
   "metadata": {},
   "outputs": [],
   "source": []
  },
  {
   "cell_type": "code",
   "execution_count": null,
   "id": "fd33285a",
   "metadata": {},
   "outputs": [],
   "source": []
  },
  {
   "cell_type": "code",
   "execution_count": null,
   "id": "a7e28669",
   "metadata": {},
   "outputs": [],
   "source": []
  },
  {
   "cell_type": "code",
   "execution_count": null,
   "id": "5236b7fe",
   "metadata": {},
   "outputs": [],
   "source": []
  },
  {
   "cell_type": "code",
   "execution_count": null,
   "id": "9e0ff0d1",
   "metadata": {},
   "outputs": [],
   "source": []
  },
  {
   "cell_type": "code",
   "execution_count": null,
   "id": "0e148b30",
   "metadata": {},
   "outputs": [],
   "source": []
  },
  {
   "cell_type": "code",
   "execution_count": null,
   "id": "59b82ab5",
   "metadata": {},
   "outputs": [],
   "source": []
  },
  {
   "cell_type": "code",
   "execution_count": null,
   "id": "23d44c5d",
   "metadata": {},
   "outputs": [],
   "source": []
  },
  {
   "cell_type": "markdown",
   "id": "aad40fbd",
   "metadata": {},
   "source": [
    "\n",
    "\n",
    "\n",
    "Recommendations:\n",
    "The features appear to add most value are the ones highly positively correlated with SalePrice. The bigger the house, garage, living area, the more expensive the house.\n",
    "The better the quality of the house kitchen, exterior, and overall; the pricier the house. Also the worse those are, the cheaper the house would sell.\n",
    "Homeowners can revamp and fix their homes to sell for more, to enhance the quality and condition of exterior, kitchen, and overall.\n",
    "Top 5 highest prices average, by neighborhoor, came out to be: neighborhood StoneBr 329675.737 NridgHt 322831.352 NoRidge 316294.125 GrnHill 280000.000 Veenker 253570.588 Therefore, I would say, these neighbourhoods are good investment.\n",
    "I think this model can be generalized to other cities, there’s no variables I thought specific to Aimes, Iowa. That is because I didn’t incorporate the neighbourhoods in my model.\n"
   ]
  }
 ],
 "metadata": {
  "kernelspec": {
   "display_name": "Python 3",
   "language": "python",
   "name": "python3"
  },
  "language_info": {
   "codemirror_mode": {
    "name": "ipython",
    "version": 3
   },
   "file_extension": ".py",
   "mimetype": "text/x-python",
   "name": "python",
   "nbconvert_exporter": "python",
   "pygments_lexer": "ipython3",
   "version": "3.8.8"
  }
 },
 "nbformat": 4,
 "nbformat_minor": 5
}
